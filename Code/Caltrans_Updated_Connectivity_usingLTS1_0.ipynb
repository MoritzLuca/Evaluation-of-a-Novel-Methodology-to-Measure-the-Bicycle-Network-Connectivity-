{
 "cells": [
  {
   "cell_type": "markdown",
   "metadata": {
    "id": "ZKeZ0GsypWa5"
   },
   "source": [
    "# Install some necessary libraries"
   ]
  },
  {
   "cell_type": "code",
   "execution_count": 1,
   "metadata": {
    "colab": {
     "base_uri": "https://localhost:8080/"
    },
    "id": "y_YlaoT1pbdn",
    "outputId": "a90edf88-44e2-472b-93d8-37ed2c5bd0a9"
   },
   "outputs": [
    {
     "name": "stdout",
     "output_type": "stream",
     "text": [
      "Requirement already satisfied: momepy in c:\\users\\mmmiah\\anaconda3\\envs\\geo_env\\lib\\site-packages (0.5.4)\n",
      "Requirement already satisfied: geopandas>=0.8.0 in c:\\users\\mmmiah\\anaconda3\\envs\\geo_env\\lib\\site-packages (from momepy) (0.12.2)\n",
      "Requirement already satisfied: networkx>=2.3 in c:\\users\\mmmiah\\anaconda3\\envs\\geo_env\\lib\\site-packages (from momepy) (3.0)\n",
      "Requirement already satisfied: libpysal>=4.2.0 in c:\\users\\mmmiah\\anaconda3\\envs\\geo_env\\lib\\site-packages (from momepy) (4.7.0)\n",
      "Requirement already satisfied: tqdm>=4.27.0 in c:\\users\\mmmiah\\anaconda3\\envs\\geo_env\\lib\\site-packages (from momepy) (4.64.1)\n",
      "Requirement already satisfied: pygeos in c:\\users\\mmmiah\\anaconda3\\envs\\geo_env\\lib\\site-packages (from momepy) (0.14)\n",
      "Requirement already satisfied: packaging in c:\\users\\mmmiah\\anaconda3\\envs\\geo_env\\lib\\site-packages (from momepy) (23.0)\n",
      "Requirement already satisfied: pandas>=1.0.0 in c:\\users\\mmmiah\\anaconda3\\envs\\geo_env\\lib\\site-packages (from geopandas>=0.8.0->momepy) (1.5.2)\n",
      "Requirement already satisfied: shapely>=1.7 in c:\\users\\mmmiah\\anaconda3\\envs\\geo_env\\lib\\site-packages (from geopandas>=0.8.0->momepy) (2.0.0)\n",
      "Requirement already satisfied: fiona>=1.8 in c:\\users\\mmmiah\\anaconda3\\envs\\geo_env\\lib\\site-packages (from geopandas>=0.8.0->momepy) (1.8.22)\n",
      "Requirement already satisfied: pyproj>=2.6.1.post1 in c:\\users\\mmmiah\\anaconda3\\envs\\geo_env\\lib\\site-packages (from geopandas>=0.8.0->momepy) (3.4.1)\n",
      "Requirement already satisfied: platformdirs in c:\\users\\mmmiah\\anaconda3\\envs\\geo_env\\lib\\site-packages (from libpysal>=4.2.0->momepy) (2.6.2)\n",
      "Requirement already satisfied: beautifulsoup4 in c:\\users\\mmmiah\\anaconda3\\envs\\geo_env\\lib\\site-packages (from libpysal>=4.2.0->momepy) (4.11.1)\n",
      "Requirement already satisfied: jinja2 in c:\\users\\mmmiah\\anaconda3\\envs\\geo_env\\lib\\site-packages (from libpysal>=4.2.0->momepy) (3.1.2)\n",
      "Requirement already satisfied: numpy>=1.3 in c:\\users\\mmmiah\\anaconda3\\envs\\geo_env\\lib\\site-packages (from libpysal>=4.2.0->momepy) (1.24.1)\n",
      "Requirement already satisfied: requests in c:\\users\\mmmiah\\anaconda3\\envs\\geo_env\\lib\\site-packages (from libpysal>=4.2.0->momepy) (2.28.2)\n",
      "Requirement already satisfied: scipy>=0.11 in c:\\users\\mmmiah\\anaconda3\\envs\\geo_env\\lib\\site-packages (from libpysal>=4.2.0->momepy) (1.10.0)\n",
      "Requirement already satisfied: colorama in c:\\users\\mmmiah\\anaconda3\\envs\\geo_env\\lib\\site-packages (from tqdm>=4.27.0->momepy) (0.4.6)\n",
      "Requirement already satisfied: attrs>=17 in c:\\users\\mmmiah\\anaconda3\\envs\\geo_env\\lib\\site-packages (from fiona>=1.8->geopandas>=0.8.0->momepy) (22.2.0)\n",
      "Requirement already satisfied: certifi in c:\\users\\mmmiah\\anaconda3\\envs\\geo_env\\lib\\site-packages (from fiona>=1.8->geopandas>=0.8.0->momepy) (2022.12.7)\n",
      "Requirement already satisfied: click>=4.0 in c:\\users\\mmmiah\\anaconda3\\envs\\geo_env\\lib\\site-packages (from fiona>=1.8->geopandas>=0.8.0->momepy) (8.1.3)\n",
      "Requirement already satisfied: cligj>=0.5 in c:\\users\\mmmiah\\anaconda3\\envs\\geo_env\\lib\\site-packages (from fiona>=1.8->geopandas>=0.8.0->momepy) (0.7.2)\n",
      "Requirement already satisfied: click-plugins>=1.0 in c:\\users\\mmmiah\\anaconda3\\envs\\geo_env\\lib\\site-packages (from fiona>=1.8->geopandas>=0.8.0->momepy) (1.1.1)\n",
      "Requirement already satisfied: six>=1.7 in c:\\users\\mmmiah\\anaconda3\\envs\\geo_env\\lib\\site-packages (from fiona>=1.8->geopandas>=0.8.0->momepy) (1.16.0)\n",
      "Requirement already satisfied: munch in c:\\users\\mmmiah\\anaconda3\\envs\\geo_env\\lib\\site-packages (from fiona>=1.8->geopandas>=0.8.0->momepy) (2.5.0)\n",
      "Requirement already satisfied: setuptools in c:\\users\\mmmiah\\anaconda3\\envs\\geo_env\\lib\\site-packages (from fiona>=1.8->geopandas>=0.8.0->momepy) (66.0.0)\n",
      "Requirement already satisfied: python-dateutil>=2.8.1 in c:\\users\\mmmiah\\anaconda3\\envs\\geo_env\\lib\\site-packages (from pandas>=1.0.0->geopandas>=0.8.0->momepy) (2.8.2)\n",
      "Requirement already satisfied: pytz>=2020.1 in c:\\users\\mmmiah\\anaconda3\\envs\\geo_env\\lib\\site-packages (from pandas>=1.0.0->geopandas>=0.8.0->momepy) (2022.7.1)\n",
      "Requirement already satisfied: soupsieve>1.2 in c:\\users\\mmmiah\\anaconda3\\envs\\geo_env\\lib\\site-packages (from beautifulsoup4->libpysal>=4.2.0->momepy) (2.3.2.post1)\n",
      "Requirement already satisfied: MarkupSafe>=2.0 in c:\\users\\mmmiah\\anaconda3\\envs\\geo_env\\lib\\site-packages (from jinja2->libpysal>=4.2.0->momepy) (2.1.1)\n",
      "Requirement already satisfied: charset-normalizer<4,>=2 in c:\\users\\mmmiah\\anaconda3\\envs\\geo_env\\lib\\site-packages (from requests->libpysal>=4.2.0->momepy) (2.1.1)\n",
      "Requirement already satisfied: idna<4,>=2.5 in c:\\users\\mmmiah\\anaconda3\\envs\\geo_env\\lib\\site-packages (from requests->libpysal>=4.2.0->momepy) (3.4)\n",
      "Requirement already satisfied: urllib3<1.27,>=1.21.1 in c:\\users\\mmmiah\\anaconda3\\envs\\geo_env\\lib\\site-packages (from requests->libpysal>=4.2.0->momepy) (1.26.14)\n",
      "Requirement already satisfied: osmnx in c:\\users\\mmmiah\\anaconda3\\envs\\geo_env\\lib\\site-packages (1.3.0)\n",
      "Requirement already satisfied: geopandas>=0.12 in c:\\users\\mmmiah\\anaconda3\\envs\\geo_env\\lib\\site-packages (from osmnx) (0.12.2)\n",
      "Requirement already satisfied: matplotlib>=3.5 in c:\\users\\mmmiah\\anaconda3\\envs\\geo_env\\lib\\site-packages (from osmnx) (3.6.2)\n",
      "Requirement already satisfied: networkx>=2.8 in c:\\users\\mmmiah\\anaconda3\\envs\\geo_env\\lib\\site-packages (from osmnx) (3.0)\n",
      "Requirement already satisfied: numpy>=1.23 in c:\\users\\mmmiah\\anaconda3\\envs\\geo_env\\lib\\site-packages (from osmnx) (1.24.1)\n",
      "Requirement already satisfied: pandas>=1.5 in c:\\users\\mmmiah\\anaconda3\\envs\\geo_env\\lib\\site-packages (from osmnx) (1.5.2)\n",
      "Requirement already satisfied: pyproj>=3.4 in c:\\users\\mmmiah\\anaconda3\\envs\\geo_env\\lib\\site-packages (from osmnx) (3.4.1)\n",
      "Requirement already satisfied: python-dateutil>=2.8 in c:\\users\\mmmiah\\anaconda3\\envs\\geo_env\\lib\\site-packages (from osmnx) (2.8.2)\n",
      "Requirement already satisfied: requests>=2.28 in c:\\users\\mmmiah\\anaconda3\\envs\\geo_env\\lib\\site-packages (from osmnx) (2.28.2)\n",
      "Requirement already satisfied: Shapely>=2.0 in c:\\users\\mmmiah\\anaconda3\\envs\\geo_env\\lib\\site-packages (from osmnx) (2.0.0)\n",
      "Requirement already satisfied: fiona>=1.8 in c:\\users\\mmmiah\\anaconda3\\envs\\geo_env\\lib\\site-packages (from geopandas>=0.12->osmnx) (1.8.22)\n",
      "Requirement already satisfied: packaging in c:\\users\\mmmiah\\anaconda3\\envs\\geo_env\\lib\\site-packages (from geopandas>=0.12->osmnx) (23.0)\n",
      "Requirement already satisfied: contourpy>=1.0.1 in c:\\users\\mmmiah\\anaconda3\\envs\\geo_env\\lib\\site-packages (from matplotlib>=3.5->osmnx) (1.0.7)\n",
      "Requirement already satisfied: cycler>=0.10 in c:\\users\\mmmiah\\anaconda3\\envs\\geo_env\\lib\\site-packages (from matplotlib>=3.5->osmnx) (0.11.0)\n",
      "Requirement already satisfied: fonttools>=4.22.0 in c:\\users\\mmmiah\\anaconda3\\envs\\geo_env\\lib\\site-packages (from matplotlib>=3.5->osmnx) (4.38.0)\n",
      "Requirement already satisfied: kiwisolver>=1.0.1 in c:\\users\\mmmiah\\anaconda3\\envs\\geo_env\\lib\\site-packages (from matplotlib>=3.5->osmnx) (1.4.4)\n",
      "Requirement already satisfied: pillow>=6.2.0 in c:\\users\\mmmiah\\anaconda3\\envs\\geo_env\\lib\\site-packages (from matplotlib>=3.5->osmnx) (9.4.0)\n",
      "Requirement already satisfied: pyparsing>=2.2.1 in c:\\users\\mmmiah\\anaconda3\\envs\\geo_env\\lib\\site-packages (from matplotlib>=3.5->osmnx) (3.0.9)\n",
      "Requirement already satisfied: pytz>=2020.1 in c:\\users\\mmmiah\\anaconda3\\envs\\geo_env\\lib\\site-packages (from pandas>=1.5->osmnx) (2022.7.1)\n",
      "Requirement already satisfied: certifi in c:\\users\\mmmiah\\anaconda3\\envs\\geo_env\\lib\\site-packages (from pyproj>=3.4->osmnx) (2022.12.7)\n",
      "Requirement already satisfied: six>=1.5 in c:\\users\\mmmiah\\anaconda3\\envs\\geo_env\\lib\\site-packages (from python-dateutil>=2.8->osmnx) (1.16.0)\n",
      "Requirement already satisfied: charset-normalizer<4,>=2 in c:\\users\\mmmiah\\anaconda3\\envs\\geo_env\\lib\\site-packages (from requests>=2.28->osmnx) (2.1.1)\n",
      "Requirement already satisfied: idna<4,>=2.5 in c:\\users\\mmmiah\\anaconda3\\envs\\geo_env\\lib\\site-packages (from requests>=2.28->osmnx) (3.4)\n",
      "Requirement already satisfied: urllib3<1.27,>=1.21.1 in c:\\users\\mmmiah\\anaconda3\\envs\\geo_env\\lib\\site-packages (from requests>=2.28->osmnx) (1.26.14)\n",
      "Requirement already satisfied: attrs>=17 in c:\\users\\mmmiah\\anaconda3\\envs\\geo_env\\lib\\site-packages (from fiona>=1.8->geopandas>=0.12->osmnx) (22.2.0)\n",
      "Requirement already satisfied: click>=4.0 in c:\\users\\mmmiah\\anaconda3\\envs\\geo_env\\lib\\site-packages (from fiona>=1.8->geopandas>=0.12->osmnx) (8.1.3)\n",
      "Requirement already satisfied: cligj>=0.5 in c:\\users\\mmmiah\\anaconda3\\envs\\geo_env\\lib\\site-packages (from fiona>=1.8->geopandas>=0.12->osmnx) (0.7.2)\n",
      "Requirement already satisfied: click-plugins>=1.0 in c:\\users\\mmmiah\\anaconda3\\envs\\geo_env\\lib\\site-packages (from fiona>=1.8->geopandas>=0.12->osmnx) (1.1.1)\n",
      "Requirement already satisfied: munch in c:\\users\\mmmiah\\anaconda3\\envs\\geo_env\\lib\\site-packages (from fiona>=1.8->geopandas>=0.12->osmnx) (2.5.0)\n",
      "Requirement already satisfied: setuptools in c:\\users\\mmmiah\\anaconda3\\envs\\geo_env\\lib\\site-packages (from fiona>=1.8->geopandas>=0.12->osmnx) (66.0.0)\n",
      "Requirement already satisfied: colorama in c:\\users\\mmmiah\\anaconda3\\envs\\geo_env\\lib\\site-packages (from click>=4.0->fiona>=1.8->geopandas>=0.12->osmnx) (0.4.6)\n"
     ]
    }
   ],
   "source": [
    "!pip install momepy\n",
    "!pip install osmnx"
   ]
  },
  {
   "cell_type": "markdown",
   "metadata": {},
   "source": [
    "## Please insert your file path and network you want to evaluate here"
   ]
  },
  {
   "cell_type": "code",
   "execution_count": 2,
   "metadata": {},
   "outputs": [],
   "source": [
    "file_path = 'H:/mmmiah/Desktop/Bicycle Connectivity Project/Caltrans_Script/Using _LTS1.0'\n",
    "# Please insert JSON file\n",
    "Your_evaluated_network_file=\"complete_network_SF.json\"\n",
    "# Please show the path where you want to store the results\n",
    "your_results_file_path='H:/mmmiah/Desktop/Bicycle Connectivity Project/Caltrans_Script/Using _LTS1.0/results'"
   ]
  },
  {
   "cell_type": "code",
   "execution_count": 3,
   "metadata": {
    "id": "N8wo--9UoiJX"
   },
   "outputs": [],
   "source": [
    "# Import Necessary Library"
   ]
  },
  {
   "cell_type": "code",
   "execution_count": 4,
   "metadata": {
    "id": "0w3XdObQo8Fn"
   },
   "outputs": [],
   "source": [
    "import warnings\n",
    "warnings.filterwarnings('ignore')"
   ]
  },
  {
   "cell_type": "code",
   "execution_count": 5,
   "metadata": {
    "id": "ByyC9owfpQtn"
   },
   "outputs": [],
   "source": [
    "import pandas as pd\n",
    "import geopandas as gpd\n",
    "from shapely.geometry import shape\n",
    "import fiona\n",
    "from shapely.ops import unary_union\n",
    "import networkx as nx\n",
    "import itertools\n",
    "import osmnx as ox\n",
    "import math\n",
    "import momepy\n",
    "import matplotlib.pyplot as plt\n",
    "from shapely.geometry import Point\n",
    "import io\n",
    "from shapely.geometry import Polygon\n",
    "import numpy as np\n",
    "from shapely.geometry import Point\n",
    "from functools import reduce\n",
    "#import matplotlib.pyplot as plt  ## not needed\n",
    "from shapely.geometry import Point, Polygon, MultiPolygon, LineString\n",
    "import csv\n",
    "from time import time\n",
    "import time\n",
    "from geopandas import GeoSeries, GeoDataFrame"
   ]
  },
  {
   "cell_type": "code",
   "execution_count": 6,
   "metadata": {
    "id": "ULNl-0Syp2MH"
   },
   "outputs": [],
   "source": [
    "# Define the Helper Function"
   ]
  },
  {
   "cell_type": "code",
   "execution_count": 7,
   "metadata": {
    "id": "KfgxKczs8kJk"
   },
   "outputs": [],
   "source": [
    "# write a slope impedance function\n",
    "def slope_correction(length,LTS,slope):\n",
    "    if slope <=2:\n",
    "        return length*(1+LTS)\n",
    "    elif ((slope>2) and (slope<=4)):\n",
    "        return length*(1+0.37+LTS)\n",
    "    elif ((slope>4) and (slope<=6)):\n",
    "        return length*(1+1.20+LTS)\n",
    "    else:\n",
    "        return length*(1+3.20+LTS)"
   ]
  },
  {
   "cell_type": "code",
   "execution_count": 8,
   "metadata": {
    "id": "VI_HXt4N8qB0"
   },
   "outputs": [],
   "source": [
    "def node_level_connectivity_score (sf_motor_network,sf_bike_network):\n",
    "    connectivity_score=[]\n",
    "    sf_lts_motor_g=gpd.GeoDataFrame.explode(sf_motor_network)\n",
    "    sf_lts_motor_g1 =momepy.gdf_to_nx(sf_lts_motor_g, approach='primal')\n",
    "    #https://www.programcreek.com/python/example/120188/networkx.all_pairs_dijkstra_path_length\n",
    "    motor_length = dict(nx.all_pairs_dijkstra_path_length(sf_lts_motor_g1,cutoff=39590, weight='impedance_of_link'))\n",
    "    # Convert the shorsted path distance distionary to dataframe\n",
    "    sf_sheortst_path_motor_length=pd.DataFrame.from_dict(motor_length)\n",
    "    # We will consider no connection means infinite distance, therefore replace all zero distance with inf\n",
    "    sf_sheortst_path_motor_length1 = sf_sheortst_path_motor_length.replace(0, np.inf)\n",
    "    sf_sheortst_path_motor_length2 = sf_sheortst_path_motor_length1.replace(np.NaN, np.inf)\n",
    "    # take the reciprocal of distance\n",
    "    sf_sheortst_path_motor_length_reciprocal=1/sf_sheortst_path_motor_length2\n",
    "    # Calculate the total reciprocal distance\n",
    "    sf_sheortst_path_motor_length_reciprocal['node_complete_network_path_reciprocal_sum']=sf_sheortst_path_motor_length_reciprocal.sum(numeric_only=True, axis=0)\n",
    "    sf_sheortst_path_motor_length_reciprocal1=sf_sheortst_path_motor_length_reciprocal[['node_complete_network_path_reciprocal_sum']]\n",
    "    #sf_sheortst_path_motor_length1\n",
    "    # make total motor path as dictonary\n",
    "    ms_outcomes=sf_sheortst_path_motor_length_reciprocal1.T.to_dict('list')\n",
    "    ms_outcomes\n",
    "    # # add motor path attribute with grpah nodes\n",
    "    nx.set_node_attributes(sf_lts_motor_g1, values=ms_outcomes, name=\"node_complete_network_path_reciprocal_sum\")\n",
    "    nodes_motor, edges_motor = momepy.nx_to_gdf(sf_lts_motor_g1)\n",
    "    nodes_motor['node_complete_network_path_reciprocal_sum'] = nodes_motor['node_complete_network_path_reciprocal_sum'].str[0]\n",
    "\n",
    "\n",
    "    # do it for bike Path or low-stress path\n",
    "    sf_lts_bike_g=gpd.GeoDataFrame.explode(sf_bike_network)\n",
    "    sf_lts_bike_g1 =momepy.gdf_to_nx(sf_lts_bike_g, approach='primal')\n",
    "    #https://www.programcreek.com/python/example/120188/networkx.all_pairs_dijkstra_path_length\n",
    "    bike_length = dict(nx.all_pairs_dijkstra_path_length(sf_lts_bike_g1,cutoff=39590, weight='impedance_of_link'))\n",
    "    # Convert the shorsted path distance distionary to dataframe\n",
    "    sf_shortest_path_bike_length=pd.DataFrame.from_dict(bike_length)\n",
    "    # We will consider no connection means infinite distance, therefore replace all zero and NaN distance with inf\n",
    "    sf_shortest_path_bike_length1 =  sf_shortest_path_bike_length.replace(0, np.inf)\n",
    "    sf_shortest_path_bike_length2 = sf_shortest_path_bike_length1.replace(np.NaN, np.inf)\n",
    "    # take the reciprocal of distance\n",
    "    sf_shortest_path_bike_length_reciprocal=1/sf_shortest_path_bike_length2\n",
    "    # Calculate the total reciprocal distance\n",
    "    sf_shortest_path_bike_length_reciprocal['bike_or_low_stress_path_reciprocal_sum']=sf_shortest_path_bike_length_reciprocal.sum(numeric_only=True, axis=0)\n",
    "    sf_shortest_path_bike_length_reciprocal1=sf_shortest_path_bike_length_reciprocal[['bike_or_low_stress_path_reciprocal_sum']]\n",
    "    # make total motor path as dictonary\n",
    "    bs_outcomes=sf_shortest_path_bike_length_reciprocal1.T.to_dict('list')\n",
    "    # add motor path attribute with grpah nodes\n",
    "    nx.set_node_attributes(sf_lts_bike_g1, values=bs_outcomes, name=\"bike_or_low_stress_path_reciprocal_sum\")\n",
    "    nodes_bike, edges_bike = momepy.nx_to_gdf(sf_lts_bike_g1)\n",
    "    nodes_bike['bike_or_low_stress_path_reciprocal_sum'] = nodes_bike['bike_or_low_stress_path_reciprocal_sum'].str[0]\n",
    "\n",
    "    #connectivity score\n",
    "    shortest_path=pd.merge(nodes_motor,nodes_bike,on=['geometry'],how='outer')\n",
    "    shortest_path=shortest_path.fillna(0)\n",
    "    shortest_path['CS']= (shortest_path['bike_or_low_stress_path_reciprocal_sum'])/(shortest_path['node_complete_network_path_reciprocal_sum'])\n",
    "    # The connectivity score will always varied from zero to one, however, due to missing link in complete network can get the CS more than one, therefore, we will limit this one to avoid any unexpected error\n",
    "    shortest_path['CS'] = shortest_path['CS'].clip(upper=1)\n",
    "    #shortest_path1= shortest_path1.replace(np.inf, 1)\n",
    "    return shortest_path"
   ]
  },
  {
   "cell_type": "code",
   "execution_count": 31,
   "metadata": {
    "id": "q96K8VRv8y9k"
   },
   "outputs": [],
   "source": [
    "# define grade of connectivity\n",
    "def count_census_block(Connectivity_score):\n",
    "    if Connectivity_score>=0.80:\n",
    "        return 'excellently connected'\n",
    "    elif (Connectivity_score>=0.60 and Connectivity_score<0.80):\n",
    "        return 'very well connected  '\n",
    "    elif (Connectivity_score>=0.40 and Connectivity_score<0.60):\n",
    "        return 'well connected'\n",
    "    elif (Connectivity_score>=0.20 and Connectivity_score<0.40):\n",
    "        return 'fairly connected'\n",
    "    else:\n",
    "        return 'poorly connected'"
   ]
  },
  {
   "cell_type": "code",
   "execution_count": 10,
   "metadata": {
    "id": "v7IKRLPE83t8"
   },
   "outputs": [],
   "source": [
    "def census_node_level_connectivity_score (sf_connectivity,input_census_tract):\n",
    "    census_score=gpd.sjoin(sf_connectivity,input_census_tract)\n",
    "    census_score1=pd.DataFrame({'Meadian CS':census_score.groupby(['GISJOIN'])['CS'].median()}).reset_index()\n",
    "    census_score2=pd.merge(census_score1,input_census_tract, on=['GISJOIN'], how='inner' )\n",
    "    return census_score2"
   ]
  },
  {
   "cell_type": "markdown",
   "metadata": {
    "id": "Gl7ox1289Eaz"
   },
   "source": [
    "# Import the necessary input file"
   ]
  },
  {
   "cell_type": "markdown",
   "metadata": {
    "id": "QtaCTa_hlE8y"
   },
   "source": [
    "# We provided pre calculated slope and LTS for the entire Bay Area. You do not need to chnage it for the any network within bay area evaluation"
   ]
  },
  {
   "cell_type": "code",
   "execution_count": 11,
   "metadata": {
    "colab": {
     "base_uri": "https://localhost:8080/",
     "height": 448
    },
    "id": "bwKX0blK9YP8",
    "outputId": "f732875e-3db3-4a27-95e3-a85c5cb7694c"
   },
   "outputs": [],
   "source": [
    "# we will import pre-calculated slope and LTS file for the entire BAY Area. You can also calculate the LTS using Pybna desktop notebook and Slope using raster file as shown in our notebook.\n",
    "# Import the necessary file, here we will import entire bay area pre-calculated slope and LTS file\n",
    "import warnings\n",
    "warnings.filterwarnings('ignore')\n",
    "slope_lts=gpd.read_file(f\"{file_path}/Bay_area_slope_LTS_Nov7.json\")\n",
    "slope_lts1 = gpd.GeoDataFrame(slope_lts, crs=\"EPSG:4326\", geometry='geometry')\n",
    "#slope_lts2=slope_lts.to_crs(epsg=7131)\n",
    "#slope_lts2['geometry'].plot()"
   ]
  },
  {
   "cell_type": "code",
   "execution_count": 12,
   "metadata": {
    "colab": {
     "base_uri": "https://localhost:8080/",
     "height": 206
    },
    "id": "NQ7JFAuYs8Lv",
    "outputId": "29ef4ed0-8cc7-4070-ddc7-35067b862ecc"
   },
   "outputs": [
    {
     "data": {
      "text/html": [
       "<div>\n",
       "<style scoped>\n",
       "    .dataframe tbody tr th:only-of-type {\n",
       "        vertical-align: middle;\n",
       "    }\n",
       "\n",
       "    .dataframe tbody tr th {\n",
       "        vertical-align: top;\n",
       "    }\n",
       "\n",
       "    .dataframe thead th {\n",
       "        text-align: right;\n",
       "    }\n",
       "</style>\n",
       "<table border=\"1\" class=\"dataframe\">\n",
       "  <thead>\n",
       "    <tr style=\"text-align: right;\">\n",
       "      <th></th>\n",
       "      <th>ROAD_ID</th>\n",
       "      <th>FUNCTIONAL</th>\n",
       "      <th>Facilities</th>\n",
       "      <th>LTS</th>\n",
       "      <th>length</th>\n",
       "      <th>slope</th>\n",
       "      <th>geometry</th>\n",
       "    </tr>\n",
       "  </thead>\n",
       "  <tbody>\n",
       "    <tr>\n",
       "      <th>0</th>\n",
       "      <td>111276</td>\n",
       "      <td>tertiary</td>\n",
       "      <td>0</td>\n",
       "      <td>4</td>\n",
       "      <td>24.398252</td>\n",
       "      <td>0.000000</td>\n",
       "      <td>LINESTRING (-121.95749 37.52394, -121.95722 37...</td>\n",
       "    </tr>\n",
       "    <tr>\n",
       "      <th>1</th>\n",
       "      <td>162454</td>\n",
       "      <td>tertiary</td>\n",
       "      <td>0</td>\n",
       "      <td>4</td>\n",
       "      <td>75.902661</td>\n",
       "      <td>3.952431</td>\n",
       "      <td>LINESTRING (-121.76918 37.31464, -121.76834 37...</td>\n",
       "    </tr>\n",
       "    <tr>\n",
       "      <th>2</th>\n",
       "      <td>165633</td>\n",
       "      <td>primary</td>\n",
       "      <td>0</td>\n",
       "      <td>4</td>\n",
       "      <td>37.835842</td>\n",
       "      <td>0.000000</td>\n",
       "      <td>LINESTRING (-121.92277 37.32337, -121.92235 37...</td>\n",
       "    </tr>\n",
       "    <tr>\n",
       "      <th>3</th>\n",
       "      <td>888344</td>\n",
       "      <td>tertiary</td>\n",
       "      <td>0</td>\n",
       "      <td>4</td>\n",
       "      <td>1.539394</td>\n",
       "      <td>0.000000</td>\n",
       "      <td>LINESTRING (-122.24642 37.78016, -122.24640 37...</td>\n",
       "    </tr>\n",
       "    <tr>\n",
       "      <th>4</th>\n",
       "      <td>923150</td>\n",
       "      <td>residential</td>\n",
       "      <td>0</td>\n",
       "      <td>1</td>\n",
       "      <td>3.697954</td>\n",
       "      <td>0.000000</td>\n",
       "      <td>LINESTRING (-122.51925 38.05433, -122.51929 38...</td>\n",
       "    </tr>\n",
       "  </tbody>\n",
       "</table>\n",
       "</div>"
      ],
      "text/plain": [
       "   ROAD_ID   FUNCTIONAL Facilities LTS     length     slope  \\\n",
       "0   111276     tertiary          0   4  24.398252  0.000000   \n",
       "1   162454     tertiary          0   4  75.902661  3.952431   \n",
       "2   165633      primary          0   4  37.835842  0.000000   \n",
       "3   888344     tertiary          0   4   1.539394  0.000000   \n",
       "4   923150  residential          0   1   3.697954  0.000000   \n",
       "\n",
       "                                            geometry  \n",
       "0  LINESTRING (-121.95749 37.52394, -121.95722 37...  \n",
       "1  LINESTRING (-121.76918 37.31464, -121.76834 37...  \n",
       "2  LINESTRING (-121.92277 37.32337, -121.92235 37...  \n",
       "3  LINESTRING (-122.24642 37.78016, -122.24640 37...  \n",
       "4  LINESTRING (-122.51925 38.05433, -122.51929 38...  "
      ]
     },
     "execution_count": 12,
     "metadata": {},
     "output_type": "execute_result"
    }
   ],
   "source": [
    "slope_lts1.head()"
   ]
  },
  {
   "cell_type": "markdown",
   "metadata": {
    "id": "EyqToRCckn_i"
   },
   "source": [
    "# Only Insert your road network shape file here, we Just need the geometry to create the study area shape file"
   ]
  },
  {
   "cell_type": "code",
   "execution_count": 13,
   "metadata": {
    "colab": {
     "base_uri": "https://localhost:8080/",
     "height": 321
    },
    "id": "04SDEZSkXNwp",
    "outputId": "288cd3e0-20b0-4a03-e162-b7dcdf2bb89d"
   },
   "outputs": [
    {
     "data": {
      "image/svg+xml": [
       "<svg xmlns=\"http://www.w3.org/2000/svg\" xmlns:xlink=\"http://www.w3.org/1999/xlink\" width=\"100.0\" height=\"100.0\" viewBox=\"-122.5198532 37.700988800000005 0.16829640000000268 0.11592439999999016\" preserveAspectRatio=\"xMinYMin meet\"><g transform=\"matrix(1,0,0,-1,0,75.51790199999999)\"><path fill-rule=\"evenodd\" fill=\"#66cc99\" stroke=\"#555555\" stroke-width=\"0.0033659280000000536\" opacity=\"0.6\" d=\"M -122.46554,37.707222 L -122.49821,37.708107 L -122.49829,37.7082 L -122.506294,37.727436 L -122.50646,37.72792 L -122.50654,37.72836 L -122.50715,37.73221 L -122.50721,37.732628 L -122.51361,37.778614 L -122.51362,37.77869 L -122.513596,37.77877 L -122.513565,37.77883 L -122.51078,37.78206 L -122.4766,37.81068 L -122.415344,37.80897 L -122.41279,37.80885 L -122.409195,37.808212 L -122.40887,37.808132 L -122.40731,37.80748 L -122.40563,37.80676 L -122.40469,37.806263 L -122.403114,37.80512 L -122.40206,37.804337 L -122.40194,37.804226 L -122.39102,37.7926 L -122.38815,37.789455 L -122.35802,37.72771 L -122.35779,37.72712 L -122.35795,37.726616 L -122.36347,37.71733 L -122.36428,37.716457 L -122.384224,37.70845 L -122.4125,37.70802 L -122.46554,37.707222 z\" /></g></svg>"
      ],
      "text/plain": [
       "<POLYGON ((-122.466 37.707, -122.498 37.708, -122.498 37.708, -122.506 37.72...>"
      ]
     },
     "execution_count": 13,
     "metadata": {},
     "output_type": "execute_result"
    }
   ],
   "source": [
    "# Import the road network that you want to evalaute, this network will be used to create the study area boundary\n",
    "road_network=gpd.read_file(f\"{file_path}/{Your_evaluated_network_file}\")\n",
    "#road_network= gpd.GeoDataFrame(road_network, crs=\"EPSG:4326\", geometry='geometry')\n",
    "road_network_proj = road_network.to_crs(epsg=4326)\n",
    "convex_hull_area = road_network.unary_union.convex_hull\n",
    "convex_hull_area"
   ]
  },
  {
   "cell_type": "markdown",
   "metadata": {
    "id": "pjQZUjVCk6BB"
   },
   "source": [
    "# This Census track is already set for Bay Area, you do not need to change anything for the network within Bay Area"
   ]
  },
  {
   "cell_type": "code",
   "execution_count": 14,
   "metadata": {
    "colab": {
     "base_uri": "https://localhost:8080/",
     "height": 448
    },
    "id": "0eji139sX5Zy",
    "outputId": "b6ea11ed-01f9-46ff-cbcb-4a73aaed519b"
   },
   "outputs": [
    {
     "data": {
      "text/plain": [
       "<AxesSubplot: >"
      ]
     },
     "execution_count": 14,
     "metadata": {},
     "output_type": "execute_result"
    },
    {
     "data": {
      "image/png": "[encoded data removed]",
      "text/plain": [
       "<Figure size 640x480 with 1 Axes>"
      ]
     },
     "metadata": {},
     "output_type": "display_data"
    }
   ],
   "source": [
    "# Import the census track\n",
    "census_track=gpd.read_file(f\"{file_path}/Bay_area_census_tract.json\")\n",
    "census_track1= gpd.GeoDataFrame(census_track, crs=\"EPSG:4326\", geometry='geometry')\n",
    "evalauted_census_track=gpd.clip(census_track1,convex_hull_area)\n",
    "evalauted_census_track.plot()"
   ]
  },
  {
   "cell_type": "markdown",
   "metadata": {
    "id": "hIcDpabLYNNe"
   },
   "source": [
    "# Now calculate the algorithm weighting imedance"
   ]
  },
  {
   "cell_type": "code",
   "execution_count": 15,
   "metadata": {
    "colab": {
     "base_uri": "https://localhost:8080/"
    },
    "id": "m7XWhapiYOXE",
    "outputId": "8778a185-6eac-44f7-8e99-b994d87390ff"
   },
   "outputs": [
    {
     "data": {
      "text/plain": [
       "(29167, 8)"
      ]
     },
     "execution_count": 15,
     "metadata": {},
     "output_type": "execute_result"
    }
   ],
   "source": [
    "#Network to be evaluated\n",
    "complete_network=gpd.clip(slope_lts1,convex_hull_area)\n",
    "complete_network['LTS']=pd.to_numeric(complete_network['LTS']).astype(int)\n",
    "complete_network['impedance_of_link']=complete_network.apply(lambda row: slope_correction(row['length'],row['LTS'],row['slope']),axis=1)\n",
    "complete_network.shape"
   ]
  },
  {
   "cell_type": "code",
   "execution_count": 29,
   "metadata": {},
   "outputs": [],
   "source": [
    "# save the complete network\n",
    "# crs = {'init': 'epsg:4326'}\n",
    "# complete_network = gpd.GeoDataFrame(complete_network, crs=crs, geometry = 'geometry')\n",
    "# complete_network.to_file(f\"{your_results_file_path}/Complete_Network.json\", driver=\"GeoJSON\")"
   ]
  },
  {
   "cell_type": "markdown",
   "metadata": {
    "id": "59DZuK-wYT-0"
   },
   "source": [
    "## Calculate the BNC Score"
   ]
  },
  {
   "cell_type": "code",
   "execution_count": 16,
   "metadata": {
    "colab": {
     "base_uri": "https://localhost:8080/",
     "height": 293
    },
    "id": "kaaHttcwYVEf",
    "outputId": "a64387ab-7a22-434c-a380-2577085ba967"
   },
   "outputs": [
    {
     "data": {
      "text/html": [
       "<div>\n",
       "<style scoped>\n",
       "    .dataframe tbody tr th:only-of-type {\n",
       "        vertical-align: middle;\n",
       "    }\n",
       "\n",
       "    .dataframe tbody tr th {\n",
       "        vertical-align: top;\n",
       "    }\n",
       "\n",
       "    .dataframe thead th {\n",
       "        text-align: right;\n",
       "    }\n",
       "</style>\n",
       "<table border=\"1\" class=\"dataframe\">\n",
       "  <thead>\n",
       "    <tr style=\"text-align: right;\">\n",
       "      <th></th>\n",
       "      <th>ROAD_ID</th>\n",
       "      <th>FUNCTIONAL</th>\n",
       "      <th>Facilities</th>\n",
       "      <th>LTS</th>\n",
       "      <th>length</th>\n",
       "      <th>slope</th>\n",
       "      <th>geometry</th>\n",
       "      <th>impedance_of_link</th>\n",
       "    </tr>\n",
       "  </thead>\n",
       "  <tbody>\n",
       "    <tr>\n",
       "      <th>731</th>\n",
       "      <td>850531</td>\n",
       "      <td>primary</td>\n",
       "      <td>lane</td>\n",
       "      <td>4</td>\n",
       "      <td>666.102808</td>\n",
       "      <td>0.750635</td>\n",
       "      <td>LINESTRING (-122.50310 37.72452, -122.50308 37...</td>\n",
       "      <td>3330.514041</td>\n",
       "    </tr>\n",
       "    <tr>\n",
       "      <th>503037</th>\n",
       "      <td>915238</td>\n",
       "      <td>residential</td>\n",
       "      <td>sharrow</td>\n",
       "      <td>1</td>\n",
       "      <td>142.162794</td>\n",
       "      <td>0.000000</td>\n",
       "      <td>LINESTRING (-122.51018 37.77505, -122.51009 37...</td>\n",
       "      <td>284.325588</td>\n",
       "    </tr>\n",
       "    <tr>\n",
       "      <th>286550</th>\n",
       "      <td>889669</td>\n",
       "      <td>path</td>\n",
       "      <td>path</td>\n",
       "      <td>1</td>\n",
       "      <td>9.867345</td>\n",
       "      <td>0.000000</td>\n",
       "      <td>LINESTRING (-122.51124 37.77499, -122.51113 37...</td>\n",
       "      <td>19.734691</td>\n",
       "    </tr>\n",
       "    <tr>\n",
       "      <th>157063</th>\n",
       "      <td>918591</td>\n",
       "      <td>path</td>\n",
       "      <td>path</td>\n",
       "      <td>1</td>\n",
       "      <td>10.789009</td>\n",
       "      <td>0.000000</td>\n",
       "      <td>LINESTRING (-122.51137 37.77500, -122.51124 37...</td>\n",
       "      <td>21.578019</td>\n",
       "    </tr>\n",
       "    <tr>\n",
       "      <th>84471</th>\n",
       "      <td>918592</td>\n",
       "      <td>path</td>\n",
       "      <td>path</td>\n",
       "      <td>1</td>\n",
       "      <td>16.474654</td>\n",
       "      <td>0.000000</td>\n",
       "      <td>LINESTRING (-122.51155 37.77500, -122.51137 37...</td>\n",
       "      <td>32.949307</td>\n",
       "    </tr>\n",
       "  </tbody>\n",
       "</table>\n",
       "</div>"
      ],
      "text/plain": [
       "        ROAD_ID   FUNCTIONAL Facilities  LTS      length     slope  \\\n",
       "731      850531      primary       lane    4  666.102808  0.750635   \n",
       "503037   915238  residential    sharrow    1  142.162794  0.000000   \n",
       "286550   889669         path       path    1    9.867345  0.000000   \n",
       "157063   918591         path       path    1   10.789009  0.000000   \n",
       "84471    918592         path       path    1   16.474654  0.000000   \n",
       "\n",
       "                                                 geometry  impedance_of_link  \n",
       "731     LINESTRING (-122.50310 37.72452, -122.50308 37...        3330.514041  \n",
       "503037  LINESTRING (-122.51018 37.77505, -122.51009 37...         284.325588  \n",
       "286550  LINESTRING (-122.51124 37.77499, -122.51113 37...          19.734691  \n",
       "157063  LINESTRING (-122.51137 37.77500, -122.51124 37...          21.578019  \n",
       "84471   LINESTRING (-122.51155 37.77500, -122.51137 37...          32.949307  "
      ]
     },
     "execution_count": 16,
     "metadata": {},
     "output_type": "execute_result"
    }
   ],
   "source": [
    "# Filter the bike network based on forward bike facilities\n",
    "bike_network=complete_network.loc[complete_network['Facilities']!='0']\n",
    "bike_network.head()"
   ]
  },
  {
   "cell_type": "code",
   "execution_count": 30,
   "metadata": {},
   "outputs": [],
   "source": [
    "# save the complete network\n",
    "# crs = {'init': 'epsg:4326'}\n",
    "# bike_network = gpd.GeoDataFrame(bike_network, crs=crs, geometry = 'geometry')\n",
    "# bike_network.to_file(f\"{your_results_file_path}/Bike_Network.json\", driver=\"GeoJSON\")"
   ]
  },
  {
   "cell_type": "code",
   "execution_count": 17,
   "metadata": {
    "id": "po07q793YY35"
   },
   "outputs": [
    {
     "name": "stdout",
     "output_type": "stream",
     "text": [
      "Area Connectivity_Score Using BNC: 0.06670256783036511\n",
      "CPU times: total: 1h 3min 9s\n",
      "Wall time: 1h 3min 13s\n"
     ]
    }
   ],
   "source": [
    "%%time\n",
    "# Now Calculate the BNC node score\n",
    "bnc_node_score=node_level_connectivity_score (complete_network,bike_network)\n",
    "# Calculate the BNC area score\n",
    "bnc_area_score1=bnc_node_score['bike_or_low_stress_path_reciprocal_sum'].sum()/bnc_node_score['node_complete_network_path_reciprocal_sum'].sum()\n",
    "print('Area Connectivity_Score Using BNC:',bnc_area_score1)"
   ]
  },
  {
   "cell_type": "code",
   "execution_count": 28,
   "metadata": {
    "id": "7RksILnVYbsS"
   },
   "outputs": [],
   "source": [
    "# Save the Node Connectivity Score\n",
    "crs = {'init': 'epsg:4326'}\n",
    "bnc_node_score1 = gpd.GeoDataFrame(bnc_node_score, crs=crs, geometry = 'geometry')\n",
    "bnc_node_score1.to_file(f\"{your_results_file_path}/Network_node_BNC_updated_score.json\", driver=\"GeoJSON\")"
   ]
  },
  {
   "cell_type": "code",
   "execution_count": 32,
   "metadata": {
    "id": "6RW2MKz2Yl2-"
   },
   "outputs": [
    {
     "data": {
      "text/plain": [
       "cs_ranking\n",
       "fairly connected     17\n",
       "poorly connected    230\n",
       "Name: GISJOIN, dtype: int64"
      ]
     },
     "execution_count": 32,
     "metadata": {},
     "output_type": "execute_result"
    }
   ],
   "source": [
    "# Summarize the BNC score by census track by taking the median of census track node and grade it\n",
    "CS_median=census_node_level_connectivity_score (bnc_node_score,evalauted_census_track)\n",
    "CS_median['cs_ranking']=CS_median.apply(lambda row:count_census_block(row['Meadian CS']),axis=1 )\n",
    "# Now count the census tract for Bay area by cs ranking\n",
    "CS_median.groupby(['cs_ranking'])['GISJOIN'].count()"
   ]
  },
  {
   "cell_type": "code",
   "execution_count": 20,
   "metadata": {
    "id": "FOEPHOVDYplt"
   },
   "outputs": [],
   "source": [
    "# save the Census Tract Connectivity Score\n",
    "crs = {'init': 'epsg:4326'}\n",
    "CS_median_bnc = gpd.GeoDataFrame(CS_median, crs=crs, geometry = 'geometry')\n",
    "CS_median_bnc.to_file(f\"{your_results_file_path}/Network_census_BNC_updated_score.json\", driver=\"GeoJSON\")"
   ]
  },
  {
   "cell_type": "markdown",
   "metadata": {
    "id": "rgjJ5A-UYv2e"
   },
   "source": [
    "# Calculate the LSBNC Score"
   ]
  },
  {
   "cell_type": "code",
   "execution_count": 21,
   "metadata": {
    "id": "XqcuuM28Yyv4"
   },
   "outputs": [],
   "source": [
    "# filter the low stress network by taking LTS 1 and LTS 2 from complete network\n",
    "low_stress_network=complete_network.loc[complete_network['LTS']<3]"
   ]
  },
  {
   "cell_type": "code",
   "execution_count": 22,
   "metadata": {
    "id": "EouESMMOY1nq"
   },
   "outputs": [
    {
     "name": "stdout",
     "output_type": "stream",
     "text": [
      "Area Connectivity_Score Using LSBNC: 0.21124330557698276\n",
      "CPU times: total: 1h 7min 31s\n",
      "Wall time: 1h 7min 41s\n"
     ]
    }
   ],
   "source": [
    "%%time\n",
    "node_LSBNC_score= node_level_connectivity_score(complete_network,low_stress_network)\n",
    "lsbnc_area_score=node_LSBNC_score['bike_or_low_stress_path_reciprocal_sum'].sum()/node_LSBNC_score['node_complete_network_path_reciprocal_sum'].sum()\n",
    "print('Area Connectivity_Score Using LSBNC:',lsbnc_area_score)"
   ]
  },
  {
   "cell_type": "code",
   "execution_count": 23,
   "metadata": {
    "id": "qbj7oZdNY4Qe"
   },
   "outputs": [],
   "source": [
    "# Save the Node connectivity score\n",
    "crs = {'init': 'epsg:4326'}\n",
    "node_LSBNC_score1 = gpd.GeoDataFrame(node_LSBNC_score, crs=crs, geometry = 'geometry')\n",
    "node_LSBNC_score1.to_file(f\"{your_results_file_path}/Network_node_LSBNC_updated_score.json\", driver=\"GeoJSON\")"
   ]
  },
  {
   "cell_type": "code",
   "execution_count": 33,
   "metadata": {
    "id": "_WxaORztY-zO"
   },
   "outputs": [
    {
     "data": {
      "text/plain": [
       "cs_ranking\n",
       "fairly connected     66\n",
       "poorly connected    120\n",
       "well connected       61\n",
       "Name: GISJOIN, dtype: int64"
      ]
     },
     "execution_count": 33,
     "metadata": {},
     "output_type": "execute_result"
    }
   ],
   "source": [
    "# summarize the LSBNC score using five grade by census track\n",
    "CS_median_lsbnc=census_node_level_connectivity_score (node_LSBNC_score,evalauted_census_track)\n",
    "CS_median_lsbnc['cs_ranking']=CS_median_lsbnc.apply(lambda row:count_census_block(row['Meadian CS']),axis=1 )\n",
    "# Now count the census tract for Bay area by cs ranking\n",
    "CS_median_lsbnc.groupby(['cs_ranking'])['GISJOIN'].count()"
   ]
  },
  {
   "cell_type": "code",
   "execution_count": 25,
   "metadata": {
    "id": "9mOVt6-uZB5k"
   },
   "outputs": [],
   "source": [
    "# save the census tract connectivity score\n",
    "crs = {'init': 'epsg:4326'}\n",
    "CS_median_lsbnc1 = gpd.GeoDataFrame(CS_median_lsbnc, crs=crs, geometry = 'geometry')\n",
    "CS_median_lsbnc1.to_file(f\"{your_results_file_path}/Network_census_LSBNC_updated_score.json\", driver=\"GeoJSON\")"
   ]
  },
  {
   "cell_type": "code",
   "execution_count": 26,
   "metadata": {},
   "outputs": [
    {
     "data": {
      "text/html": [
       "<div>\n",
       "<style scoped>\n",
       "    .dataframe tbody tr th:only-of-type {\n",
       "        vertical-align: middle;\n",
       "    }\n",
       "\n",
       "    .dataframe tbody tr th {\n",
       "        vertical-align: top;\n",
       "    }\n",
       "\n",
       "    .dataframe thead th {\n",
       "        text-align: right;\n",
       "    }\n",
       "</style>\n",
       "<table border=\"1\" class=\"dataframe\">\n",
       "  <thead>\n",
       "    <tr style=\"text-align: right;\">\n",
       "      <th></th>\n",
       "      <th>BNC_Score</th>\n",
       "      <th>LSBNC_Score</th>\n",
       "    </tr>\n",
       "  </thead>\n",
       "  <tbody>\n",
       "    <tr>\n",
       "      <th>0</th>\n",
       "      <td>0.066703</td>\n",
       "      <td>0.211243</td>\n",
       "    </tr>\n",
       "  </tbody>\n",
       "</table>\n",
       "</div>"
      ],
      "text/plain": [
       "   BNC_Score  LSBNC_Score\n",
       "0   0.066703     0.211243"
      ]
     },
     "execution_count": 26,
     "metadata": {},
     "output_type": "execute_result"
    }
   ],
   "source": [
    "# Make pandas data frame for area connectivity using BNC and LSBNC algorithm togther and save it as excel\n",
    "output = {'BNC_Score': [bnc_area_score1],\n",
    "        'LSBNC_Score': [lsbnc_area_score]}\n",
    "\n",
    "score = pd.DataFrame(output)\n",
    "# save the score\n",
    "score.to_csv(f\"{your_results_file_path}/Connectivity_updated_score.csv\")\n",
    "score"
   ]
  },
  {
   "cell_type": "markdown",
   "metadata": {
    "id": "m1rti8vwZIsZ"
   },
   "source": [
    "# End of the code"
   ]
  }
 ],
 "metadata": {
  "accelerator": "GPU",
  "colab": {
   "gpuType": "T4",
   "provenance": []
  },
  "kernelspec": {
   "display_name": "Python 3 (ipykernel)",
   "language": "python",
   "name": "python3"
  },
  "language_info": {
   "codemirror_mode": {
    "name": "ipython",
    "version": 3
   },
   "file_extension": ".py",
   "mimetype": "text/x-python",
   "name": "python",
   "nbconvert_exporter": "python",
   "pygments_lexer": "ipython3",
   "version": "3.11.0"
  }
 },
 "nbformat": 4,
 "nbformat_minor": 1
}
