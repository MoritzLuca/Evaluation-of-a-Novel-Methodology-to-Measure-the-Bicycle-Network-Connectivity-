{
 "cells": [
  {
   "cell_type": "markdown",
   "id": "f00bfed1",
   "metadata": {},
   "source": [
    "#Author: Md Mintu Miah, PhD; Post Doctoral Researcher at PATH, UC Berkeley\n",
    "#Project: Contract 65A0911: Complete Cities: Bicycle Network Connectivity Evaluation Methodology\n",
    "#PI: Alex Skabardonis, PhD, Professor, UC Berkeley"
   ]
  },
  {
   "cell_type": "code",
   "execution_count": 1,
   "id": "3333aa90",
   "metadata": {},
   "outputs": [],
   "source": [
    "#!pip install pybna # if you need to install please remove comment out"
   ]
  },
  {
   "cell_type": "code",
   "execution_count": 1,
   "id": "9d382947",
   "metadata": {},
   "outputs": [],
   "source": [
    "# if you need to install please remove comment out\n",
    "#!pip install -r requirements.txt\n",
    "#!pip install SQLAlchemy\n",
    "#!pip install momepy"
   ]
  },
  {
   "cell_type": "code",
   "execution_count": 1,
   "id": "bd9343a3",
   "metadata": {},
   "outputs": [],
   "source": [
    "import warnings\n",
    "warnings.filterwarnings('ignore')"
   ]
  },
  {
   "cell_type": "code",
   "execution_count": 2,
   "id": "ab3c2c49",
   "metadata": {},
   "outputs": [
    {
     "name": "stderr",
     "output_type": "stream",
     "text": [
      "C:\\Users\\mmmiah\\Anaconda3\\envs\\geo_env\\Lib\\site-packages\\geopandas\\_compat.py:123: UserWarning: The Shapely GEOS version (3.11.1-CAPI-1.17.1) is incompatible with the GEOS version PyGEOS was compiled with (3.10.4-CAPI-1.16.2). Conversions between both will be slow.\n",
      "  warnings.warn(\n",
      "C:\\Users\\mmmiah\\Anaconda3\\envs\\geo_env\\Lib\\site-packages\\pybna\\dbutils.py:13: UserWarning: Shapely 2.0 is installed, but because PyGEOS is also installed, GeoPandas will still use PyGEOS by default for now. To force to use and test Shapely 2.0, you have to set the environment variable USE_PYGEOS=0. You can do this before starting the Python process, or in your code before importing geopandas:\n",
      "\n",
      "import os\n",
      "os.environ['USE_PYGEOS'] = '0'\n",
      "import geopandas\n",
      "\n",
      "In a future release, GeoPandas will switch to using Shapely by default. If you are using PyGEOS directly (calling PyGEOS functions on geometries from GeoPandas), this will then stop working and you are encouraged to migrate from PyGEOS to Shapely 2.0 (https://shapely.readthedocs.io/en/latest/migration_pygeos.html).\n",
      "  import geopandas as gpd\n"
     ]
    }
   ],
   "source": [
    "from collections.abc import Mapping\n",
    "from distutils.version import LooseVersion\n",
    "from pybna import Importer\n",
    "import geopandas as gpd\n",
    "import pybna"
   ]
  },
  {
   "cell_type": "code",
   "execution_count": 3,
   "id": "2ebf0713",
   "metadata": {},
   "outputs": [],
   "source": [
    "import pandas as pd\n",
    "import geopandas as gpd\n",
    "from shapely.geometry import shape\n",
    "import fiona\n",
    "from shapely.ops import unary_union\n",
    "import networkx as nx\n",
    "import itertools\n",
    "import osmnx as ox\n",
    "import math\n",
    "import momepy\n",
    "import matplotlib.pyplot as plt\n",
    "from shapely.geometry import Point\n",
    "import io"
   ]
  },
  {
   "cell_type": "code",
   "execution_count": 4,
   "id": "33cde485",
   "metadata": {},
   "outputs": [],
   "source": [
    "from shapely.geometry import Polygon\n",
    "import numpy as np\n",
    "from shapely.geometry import Point\n",
    "from functools import reduce\n",
    "#import matplotlib.pyplot as plt  ## not needed\n",
    "from shapely.geometry import Point, Polygon, MultiPolygon, LineString\n",
    "import csv\n",
    "from time import time\n",
    "import time\n",
    "from geopandas import GeoSeries, GeoDataFrame"
   ]
  },
  {
   "cell_type": "code",
   "execution_count": 5,
   "id": "756951dc",
   "metadata": {},
   "outputs": [],
   "source": [
    "#conda install arcpy=3.0 -c esri"
   ]
  },
  {
   "cell_type": "code",
   "execution_count": 9,
   "id": "966574b1",
   "metadata": {},
   "outputs": [],
   "source": [
    "#import arcpy\n",
    "#from arcpy import env"
   ]
  },
  {
   "cell_type": "code",
   "execution_count": 6,
   "id": "a38ff21d",
   "metadata": {},
   "outputs": [
    {
     "name": "stderr",
     "output_type": "stream",
     "text": [
      "C:\\Users\\mmmiah\\Anaconda3\\envs\\geo_env\\Lib\\site-packages\\yaml\\__init__.py:125: ResourceWarning: unclosed file <_io.TextIOWrapper name='config.yaml' mode='r' encoding='cp1252'>\n",
      "  return load(stream, SafeLoader)\n",
      "ResourceWarning: Enable tracemalloc to get the object allocation traceback\n"
     ]
    },
    {
     "name": "stdout",
     "output_type": "stream",
     "text": [
      "Connecting to database\n",
      "Copying boundary to database\n",
      "Loading boundary\n"
     ]
    },
    {
     "name": "stderr",
     "output_type": "stream",
     "text": [
      "C:\\Users\\mmmiah\\Anaconda3\\envs\\geo_env\\Lib\\site-packages\\geopandas\\io\\sql.py:158: UserWarning: pandas only supports SQLAlchemy connectable (engine/connection) or database string URI or sqlite3 DBAPI2 connection. Other DBAPI2 objects are not tested. Please consider using SQLAlchemy.\n",
      "  df = pd.read_sql(\n"
     ]
    },
    {
     "name": "stdout",
     "output_type": "stream",
     "text": [
      "Loading data from http://www2.census.gov/geo/tiger/TIGER2010BLKPOPHU/tabblock2010_06_pophu.zip\n",
      "Filtering blocks to boundary\n",
      "Filtering out water\n",
      "Copying blocks to database\n",
      "Loading data for state CA\n",
      "No data for state CA for year 2020. Checking previous year.\n"
     ]
    },
    {
     "name": "stderr",
     "output_type": "stream",
     "text": [
      "C:\\Users\\mmmiah\\Anaconda3\\envs\\geo_env\\Lib\\site-packages\\pybna\\importer.py:351: FutureWarning: The frame.append method is deprecated and will be removed from pandas in a future version. Use pandas.concat instead.\n",
      "  jobs = jobs_main.append(jobs_aux,ignore_index=True)\n"
     ]
    },
    {
     "name": "stdout",
     "output_type": "stream",
     "text": [
      "Copying jobs to database\n",
      "CPU times: total: 3min 22s\n",
      "Wall time: 14min 53s\n"
     ]
    }
   ],
   "source": [
    "%%time\n",
    "# Import Configuration file\n",
    "i = pybna.Importer(config=\"config.yaml\")\n",
    "# Import Study Area boundary shape file\n",
    "i.import_boundary('geo_export_b69ec18e-6a40-4637-94f6-1f3aafe63144.shp', overwrite=True)\n",
    "# Mention the State fips, for California it is 6\n",
    "i.import_census_blocks(fips=6, overwrite=True)\n",
    "i.import_census_jobs(\"received.neighborhood_census_block_jobs\",state=\"CA\", overwrite=True)"
   ]
  },
  {
   "cell_type": "code",
   "execution_count": 7,
   "id": "4d2a9a68",
   "metadata": {},
   "outputs": [
    {
     "name": "stderr",
     "output_type": "stream",
     "text": [
      "C:\\Users\\mmmiah\\Anaconda3\\envs\\geo_env\\Lib\\site-packages\\geopandas\\io\\sql.py:158: UserWarning: pandas only supports SQLAlchemy connectable (engine/connection) or database string URI or sqlite3 DBAPI2 connection. Other DBAPI2 objects are not tested. Please consider using SQLAlchemy.\n",
      "  df = pd.read_sql(\n"
     ]
    },
    {
     "name": "stdout",
     "output_type": "stream",
     "text": [
      "Downloading OSM data\n"
     ]
    },
    {
     "name": "stderr",
     "output_type": "stream",
     "text": [
      "C:\\Users\\mmmiah\\Anaconda3\\envs\\geo_env\\Lib\\site-packages\\osmnx\\utils.py:192: UserWarning: The `utils.config` function is deprecated and will be removed in a future release. Instead, use the `settings` module directly to configure a global setting's value. For example, `ox.settings.log_console=True`.\n",
      "  warnings.warn(\n"
     ]
    },
    {
     "name": "stdout",
     "output_type": "stream",
     "text": [
      "Copying OSM ways to database\n",
      "Copying OSM intersections to database\n",
      "Processing OSM data in database\n",
      "CPU times: total: 37min 3s\n",
      "Wall time: 49min 21s\n"
     ]
    }
   ],
   "source": [
    "%%time\n",
    "i.import_osm_network(overwrite=True)"
   ]
  },
  {
   "cell_type": "code",
   "execution_count": 8,
   "id": "af76d835",
   "metadata": {},
   "outputs": [
    {
     "name": "stdout",
     "output_type": "stream",
     "text": [
      "CPU times: total: 0 ns\n",
      "Wall time: 0 ns\n"
     ]
    }
   ],
   "source": [
    "%%time\n",
    "#Increase the timeout in your importer file if your computer is weak to avoid error\n",
    "#i.import_osm_destinations(overwrite=True)\n"
   ]
  },
  {
   "cell_type": "code",
   "execution_count": 13,
   "id": "2a6de739",
   "metadata": {},
   "outputs": [
    {
     "name": "stderr",
     "output_type": "stream",
     "text": [
      "C:\\Users\\mmmiah\\Anaconda3\\envs\\geo_env\\Lib\\site-packages\\yaml\\__init__.py:125: ResourceWarning: unclosed file <_io.TextIOWrapper name='config.yaml' mode='r' encoding='cp1252'>\n",
      "  return load(stream, SafeLoader)\n",
      "ResourceWarning: Enable tracemalloc to get the object allocation traceback\n"
     ]
    },
    {
     "name": "stdout",
     "output_type": "stream",
     "text": [
      "Connecting to database\n",
      "Calculating stress on shared streets\n",
      "Calculating stress on streets with bike lanes\n",
      "Calculating stress on streets with cycle tracks\n",
      "Calculating stress on paths\n",
      "Calculating stress on shared streets\n",
      "Calculating stress on streets with bike lanes\n",
      "Calculating stress on streets with cycle tracks\n",
      "Calculating stress on paths\n",
      "  ....forward\n",
      "  ....backward\n",
      "CPU times: total: 688 ms\n",
      "Wall time: 8min 24s\n"
     ]
    }
   ],
   "source": [
    "%%time\n",
    "# stress\n",
    "s = pybna.Stress(config='config.yaml')\n",
    "s.segment_stress()\n",
    "s.crossing_stress()"
   ]
  },
  {
   "cell_type": "code",
   "execution_count": 10,
   "id": "fc88b292",
   "metadata": {},
   "outputs": [],
   "source": [
    "#%%time\n",
    "# connectivity\n",
    "#bna = pybna.pyBNA(config='config.yaml')\n",
    "#bna.calculate_connectivity()"
   ]
  },
  {
   "cell_type": "code",
   "execution_count": 11,
   "id": "e8f64e6c",
   "metadata": {},
   "outputs": [],
   "source": [
    "#%%time\n",
    "# scores\n",
    "#bna.score(\"myschema.my_scores_table\")\n",
    "#bna.aggregate(\"myschema.my_aggregate_score_table\")"
   ]
  },
  {
   "cell_type": "code",
   "execution_count": 5,
   "id": "63b92052",
   "metadata": {},
   "outputs": [
    {
     "data": {
      "text/html": [
       "<div>\n",
       "<style scoped>\n",
       "    .dataframe tbody tr th:only-of-type {\n",
       "        vertical-align: middle;\n",
       "    }\n",
       "\n",
       "    .dataframe tbody tr th {\n",
       "        vertical-align: top;\n",
       "    }\n",
       "\n",
       "    .dataframe thead th {\n",
       "        text-align: right;\n",
       "    }\n",
       "</style>\n",
       "<table border=\"1\" class=\"dataframe\">\n",
       "  <thead>\n",
       "    <tr style=\"text-align: right;\">\n",
       "      <th></th>\n",
       "      <th>ROAD_ID</th>\n",
       "      <th>osmid</th>\n",
       "      <th>FUNCTIONAL</th>\n",
       "      <th>PATH_ID</th>\n",
       "      <th>ONE_WAY</th>\n",
       "      <th>u</th>\n",
       "      <th>v</th>\n",
       "      <th>WIDTH</th>\n",
       "      <th>SPEED_LIMI</th>\n",
       "      <th>FT_BIKE_IN</th>\n",
       "      <th>...</th>\n",
       "      <th>TWLTL_CROS</th>\n",
       "      <th>FT_PARK</th>\n",
       "      <th>TF_PARK</th>\n",
       "      <th>FT_SEG_STR</th>\n",
       "      <th>FT_INT_STR</th>\n",
       "      <th>TF_SEG_STR</th>\n",
       "      <th>TF_INT_STR</th>\n",
       "      <th>XWALK</th>\n",
       "      <th>geometry</th>\n",
       "      <th>length</th>\n",
       "    </tr>\n",
       "  </thead>\n",
       "  <tbody>\n",
       "    <tr>\n",
       "      <th>0</th>\n",
       "      <td>111276</td>\n",
       "      <td>{31439803}</td>\n",
       "      <td>tertiary</td>\n",
       "      <td>None</td>\n",
       "      <td>ft</td>\n",
       "      <td>419038</td>\n",
       "      <td>419030</td>\n",
       "      <td>NaN</td>\n",
       "      <td>NaN</td>\n",
       "      <td>None</td>\n",
       "      <td>...</td>\n",
       "      <td>None</td>\n",
       "      <td>?</td>\n",
       "      <td>?</td>\n",
       "      <td>4.0</td>\n",
       "      <td>NaN</td>\n",
       "      <td>NaN</td>\n",
       "      <td>3.0</td>\n",
       "      <td>None</td>\n",
       "      <td>LINESTRING (91536.677 -976.326, 91560.948 -973...</td>\n",
       "      <td>24.398252</td>\n",
       "    </tr>\n",
       "    <tr>\n",
       "      <th>1</th>\n",
       "      <td>162454</td>\n",
       "      <td>{93291777}</td>\n",
       "      <td>tertiary</td>\n",
       "      <td>None</td>\n",
       "      <td>ft</td>\n",
       "      <td>364379</td>\n",
       "      <td>364375</td>\n",
       "      <td>NaN</td>\n",
       "      <td>NaN</td>\n",
       "      <td>None</td>\n",
       "      <td>...</td>\n",
       "      <td>None</td>\n",
       "      <td>?</td>\n",
       "      <td>?</td>\n",
       "      <td>4.0</td>\n",
       "      <td>1.0</td>\n",
       "      <td>NaN</td>\n",
       "      <td>1.0</td>\n",
       "      <td>None</td>\n",
       "      <td>LINESTRING (108350.827 -24102.437, 108425.349 ...</td>\n",
       "      <td>75.902661</td>\n",
       "    </tr>\n",
       "    <tr>\n",
       "      <th>2</th>\n",
       "      <td>165633</td>\n",
       "      <td>{184388728}</td>\n",
       "      <td>primary</td>\n",
       "      <td>None</td>\n",
       "      <td>ft</td>\n",
       "      <td>329656</td>\n",
       "      <td>329657</td>\n",
       "      <td>NaN</td>\n",
       "      <td>35.0</td>\n",
       "      <td>None</td>\n",
       "      <td>...</td>\n",
       "      <td>None</td>\n",
       "      <td>?</td>\n",
       "      <td>?</td>\n",
       "      <td>4.0</td>\n",
       "      <td>1.0</td>\n",
       "      <td>NaN</td>\n",
       "      <td>1.0</td>\n",
       "      <td>None</td>\n",
       "      <td>LINESTRING (94730.324 -23220.754, 94768.157 -2...</td>\n",
       "      <td>37.835842</td>\n",
       "    </tr>\n",
       "    <tr>\n",
       "      <th>3</th>\n",
       "      <td>888344</td>\n",
       "      <td>{53726448}</td>\n",
       "      <td>tertiary</td>\n",
       "      <td>None</td>\n",
       "      <td>ft</td>\n",
       "      <td>76716</td>\n",
       "      <td>76717</td>\n",
       "      <td>NaN</td>\n",
       "      <td>NaN</td>\n",
       "      <td>None</td>\n",
       "      <td>...</td>\n",
       "      <td>None</td>\n",
       "      <td>?</td>\n",
       "      <td>?</td>\n",
       "      <td>4.0</td>\n",
       "      <td>1.0</td>\n",
       "      <td>NaN</td>\n",
       "      <td>1.0</td>\n",
       "      <td>None</td>\n",
       "      <td>LINESTRING (65934.473 27367.107, 65935.819 273...</td>\n",
       "      <td>1.539394</td>\n",
       "    </tr>\n",
       "    <tr>\n",
       "      <th>4</th>\n",
       "      <td>923150</td>\n",
       "      <td>{655711604}</td>\n",
       "      <td>residential</td>\n",
       "      <td>None</td>\n",
       "      <td>ft</td>\n",
       "      <td>129104</td>\n",
       "      <td>129102</td>\n",
       "      <td>NaN</td>\n",
       "      <td>NaN</td>\n",
       "      <td>None</td>\n",
       "      <td>...</td>\n",
       "      <td>None</td>\n",
       "      <td>?</td>\n",
       "      <td>?</td>\n",
       "      <td>1.0</td>\n",
       "      <td>NaN</td>\n",
       "      <td>NaN</td>\n",
       "      <td>NaN</td>\n",
       "      <td>None</td>\n",
       "      <td>LINESTRING (41921.847 57781.540, 41918.170 577...</td>\n",
       "      <td>3.697954</td>\n",
       "    </tr>\n",
       "  </tbody>\n",
       "</table>\n",
       "<p>5 rows × 27 columns</p>\n",
       "</div>"
      ],
      "text/plain": [
       "   ROAD_ID        osmid   FUNCTIONAL PATH_ID ONE_WAY       u       v  WIDTH  \\\n",
       "0   111276   {31439803}     tertiary    None      ft  419038  419030    NaN   \n",
       "1   162454   {93291777}     tertiary    None      ft  364379  364375    NaN   \n",
       "2   165633  {184388728}      primary    None      ft  329656  329657    NaN   \n",
       "3   888344   {53726448}     tertiary    None      ft   76716   76717    NaN   \n",
       "4   923150  {655711604}  residential    None      ft  129104  129102    NaN   \n",
       "\n",
       "   SPEED_LIMI FT_BIKE_IN  ...  TWLTL_CROS FT_PARK  TF_PARK  FT_SEG_STR  \\\n",
       "0         NaN       None  ...        None       ?        ?         4.0   \n",
       "1         NaN       None  ...        None       ?        ?         4.0   \n",
       "2        35.0       None  ...        None       ?        ?         4.0   \n",
       "3         NaN       None  ...        None       ?        ?         4.0   \n",
       "4         NaN       None  ...        None       ?        ?         1.0   \n",
       "\n",
       "   FT_INT_STR TF_SEG_STR TF_INT_STR XWALK  \\\n",
       "0         NaN        NaN        3.0  None   \n",
       "1         1.0        NaN        1.0  None   \n",
       "2         1.0        NaN        1.0  None   \n",
       "3         1.0        NaN        1.0  None   \n",
       "4         NaN        NaN        NaN  None   \n",
       "\n",
       "                                            geometry     length  \n",
       "0  LINESTRING (91536.677 -976.326, 91560.948 -973...  24.398252  \n",
       "1  LINESTRING (108350.827 -24102.437, 108425.349 ...  75.902661  \n",
       "2  LINESTRING (94730.324 -23220.754, 94768.157 -2...  37.835842  \n",
       "3  LINESTRING (65934.473 27367.107, 65935.819 273...   1.539394  \n",
       "4  LINESTRING (41921.847 57781.540, 41918.170 577...   3.697954  \n",
       "\n",
       "[5 rows x 27 columns]"
      ]
     },
     "execution_count": 5,
     "metadata": {},
     "output_type": "execute_result"
    }
   ],
   "source": [
    "# Read the LTS shape file\n",
    "lts=gpd.read_file(\"H:/mmmiah/Desktop/Bicycle Connectivity Project/Project-Bicycle Connectivity/Bay Area_LTS/neighborhood_ways.shp\")\n",
    "lts = lts.rename(columns={'OSMID':'osmid'})\n",
    "lts=lts.rename({'INTERSECTI':'u', 'INTERSE_01':'v'}, axis='columns')\n",
    "lts['length']=lts.length\n",
    "lts.head()"
   ]
  },
  {
   "cell_type": "code",
   "execution_count": 6,
   "id": "82ef4e81",
   "metadata": {},
   "outputs": [
    {
     "data": {
      "text/plain": [
       "<Derived Projected CRS: EPSG:7131>\n",
       "Name: NAD83(2011) / San Francisco CS13\n",
       "Axis Info [cartesian]:\n",
       "- X[east]: Easting (metre)\n",
       "- Y[north]: Northing (metre)\n",
       "Area of Use:\n",
       "- name: United States (USA) - California - San Francisco bay area - counties of Alameda, Contra Costa, Marin, Napa, San Francisco, San Mateo, Santa Clara, Santa Cruz, Solano and Sonoma.\n",
       "- bounds: (-123.56, 36.85, -121.2, 38.87)\n",
       "Coordinate Operation:\n",
       "- name: City and County of San Francisco CS13 (meters)\n",
       "- method: Transverse Mercator\n",
       "Datum: NAD83 (National Spatial Reference System 2011)\n",
       "- Ellipsoid: GRS 1980\n",
       "- Prime Meridian: Greenwich"
      ]
     },
     "execution_count": 6,
     "metadata": {},
     "output_type": "execute_result"
    }
   ],
   "source": [
    "lts.crs"
   ]
  },
  {
   "cell_type": "markdown",
   "id": "82eceedc",
   "metadata": {},
   "source": [
    "# Lets calculate the slope for each link"
   ]
  },
  {
   "cell_type": "code",
   "execution_count": 7,
   "id": "dd7a543f",
   "metadata": {},
   "outputs": [],
   "source": [
    "#https://pysal.org/scipy2019-intermediate-gds/deterministic/gds2-rasters.html\n",
    "import rasterio\n",
    "from rasterio.plot import show\n",
    "from rasterio import plot as rioplot\n",
    "import matplotlib.pyplot as plt"
   ]
  },
  {
   "cell_type": "code",
   "execution_count": 8,
   "id": "3bb5b01d",
   "metadata": {},
   "outputs": [
    {
     "name": "stdout",
     "output_type": "stream",
     "text": [
      "EPSG:4269\n"
     ]
    }
   ],
   "source": [
    "# Open the raster image\n",
    "barea_slope = rasterio.open('H:/mmmiah/Desktop/Bicycle Connectivity Project/Project-Bicycle Connectivity/Bay Area_LTS/Slope/Slope/cslope11.img')\n",
    "print(barea_slope.crs)\n",
    "#rioplot.show(barea_slope)"
   ]
  },
  {
   "cell_type": "code",
   "execution_count": 9,
   "id": "950d6e97",
   "metadata": {},
   "outputs": [
    {
     "name": "stdout",
     "output_type": "stream",
     "text": [
      "{'min': -104, 'mean': 236.201825257043, 'max': 1784}\n"
     ]
    }
   ],
   "source": [
    "# only band is elev value (in m)\n",
    "band1 = barea_slope.read(1, masked=True)  # mask noData cells [shouldn't be necessary on land]\n",
    "stats = {'min': band1.min(), 'mean': band1.mean(), 'max': band1.max()}\n",
    "print(stats)"
   ]
  },
  {
   "cell_type": "code",
   "execution_count": 10,
   "id": "9ac59456",
   "metadata": {},
   "outputs": [
    {
     "data": {
      "text/html": [
       "<div>\n",
       "<style scoped>\n",
       "    .dataframe tbody tr th:only-of-type {\n",
       "        vertical-align: middle;\n",
       "    }\n",
       "\n",
       "    .dataframe tbody tr th {\n",
       "        vertical-align: top;\n",
       "    }\n",
       "\n",
       "    .dataframe thead th {\n",
       "        text-align: right;\n",
       "    }\n",
       "</style>\n",
       "<table border=\"1\" class=\"dataframe\">\n",
       "  <thead>\n",
       "    <tr style=\"text-align: right;\">\n",
       "      <th></th>\n",
       "      <th>ROAD_ID</th>\n",
       "      <th>osmid</th>\n",
       "      <th>FUNCTIONAL</th>\n",
       "      <th>PATH_ID</th>\n",
       "      <th>ONE_WAY</th>\n",
       "      <th>u</th>\n",
       "      <th>v</th>\n",
       "      <th>WIDTH</th>\n",
       "      <th>SPEED_LIMI</th>\n",
       "      <th>FT_BIKE_IN</th>\n",
       "      <th>...</th>\n",
       "      <th>TWLTL_CROS</th>\n",
       "      <th>FT_PARK</th>\n",
       "      <th>TF_PARK</th>\n",
       "      <th>FT_SEG_STR</th>\n",
       "      <th>FT_INT_STR</th>\n",
       "      <th>TF_SEG_STR</th>\n",
       "      <th>TF_INT_STR</th>\n",
       "      <th>XWALK</th>\n",
       "      <th>geometry</th>\n",
       "      <th>length</th>\n",
       "    </tr>\n",
       "  </thead>\n",
       "  <tbody>\n",
       "    <tr>\n",
       "      <th>0</th>\n",
       "      <td>111276</td>\n",
       "      <td>{31439803}</td>\n",
       "      <td>tertiary</td>\n",
       "      <td>None</td>\n",
       "      <td>ft</td>\n",
       "      <td>419038</td>\n",
       "      <td>419030</td>\n",
       "      <td>NaN</td>\n",
       "      <td>NaN</td>\n",
       "      <td>None</td>\n",
       "      <td>...</td>\n",
       "      <td>None</td>\n",
       "      <td>?</td>\n",
       "      <td>?</td>\n",
       "      <td>4.0</td>\n",
       "      <td>NaN</td>\n",
       "      <td>NaN</td>\n",
       "      <td>3.0</td>\n",
       "      <td>None</td>\n",
       "      <td>LINESTRING (-121.95749 37.52394, -121.95722 37...</td>\n",
       "      <td>24.398252</td>\n",
       "    </tr>\n",
       "    <tr>\n",
       "      <th>1</th>\n",
       "      <td>162454</td>\n",
       "      <td>{93291777}</td>\n",
       "      <td>tertiary</td>\n",
       "      <td>None</td>\n",
       "      <td>ft</td>\n",
       "      <td>364379</td>\n",
       "      <td>364375</td>\n",
       "      <td>NaN</td>\n",
       "      <td>NaN</td>\n",
       "      <td>None</td>\n",
       "      <td>...</td>\n",
       "      <td>None</td>\n",
       "      <td>?</td>\n",
       "      <td>?</td>\n",
       "      <td>4.0</td>\n",
       "      <td>1.0</td>\n",
       "      <td>NaN</td>\n",
       "      <td>1.0</td>\n",
       "      <td>None</td>\n",
       "      <td>LINESTRING (-121.76918 37.31464, -121.76834 37...</td>\n",
       "      <td>75.902661</td>\n",
       "    </tr>\n",
       "    <tr>\n",
       "      <th>2</th>\n",
       "      <td>165633</td>\n",
       "      <td>{184388728}</td>\n",
       "      <td>primary</td>\n",
       "      <td>None</td>\n",
       "      <td>ft</td>\n",
       "      <td>329656</td>\n",
       "      <td>329657</td>\n",
       "      <td>NaN</td>\n",
       "      <td>35.0</td>\n",
       "      <td>None</td>\n",
       "      <td>...</td>\n",
       "      <td>None</td>\n",
       "      <td>?</td>\n",
       "      <td>?</td>\n",
       "      <td>4.0</td>\n",
       "      <td>1.0</td>\n",
       "      <td>NaN</td>\n",
       "      <td>1.0</td>\n",
       "      <td>None</td>\n",
       "      <td>LINESTRING (-121.92277 37.32337, -121.92235 37...</td>\n",
       "      <td>37.835842</td>\n",
       "    </tr>\n",
       "    <tr>\n",
       "      <th>3</th>\n",
       "      <td>888344</td>\n",
       "      <td>{53726448}</td>\n",
       "      <td>tertiary</td>\n",
       "      <td>None</td>\n",
       "      <td>ft</td>\n",
       "      <td>76716</td>\n",
       "      <td>76717</td>\n",
       "      <td>NaN</td>\n",
       "      <td>NaN</td>\n",
       "      <td>None</td>\n",
       "      <td>...</td>\n",
       "      <td>None</td>\n",
       "      <td>?</td>\n",
       "      <td>?</td>\n",
       "      <td>4.0</td>\n",
       "      <td>1.0</td>\n",
       "      <td>NaN</td>\n",
       "      <td>1.0</td>\n",
       "      <td>None</td>\n",
       "      <td>LINESTRING (-122.24642 37.78016, -122.24640 37...</td>\n",
       "      <td>1.539394</td>\n",
       "    </tr>\n",
       "    <tr>\n",
       "      <th>4</th>\n",
       "      <td>923150</td>\n",
       "      <td>{655711604}</td>\n",
       "      <td>residential</td>\n",
       "      <td>None</td>\n",
       "      <td>ft</td>\n",
       "      <td>129104</td>\n",
       "      <td>129102</td>\n",
       "      <td>NaN</td>\n",
       "      <td>NaN</td>\n",
       "      <td>None</td>\n",
       "      <td>...</td>\n",
       "      <td>None</td>\n",
       "      <td>?</td>\n",
       "      <td>?</td>\n",
       "      <td>1.0</td>\n",
       "      <td>NaN</td>\n",
       "      <td>NaN</td>\n",
       "      <td>NaN</td>\n",
       "      <td>None</td>\n",
       "      <td>LINESTRING (-122.51925 38.05433, -122.51929 38...</td>\n",
       "      <td>3.697954</td>\n",
       "    </tr>\n",
       "    <tr>\n",
       "      <th>5</th>\n",
       "      <td>955824</td>\n",
       "      <td>{502817925}</td>\n",
       "      <td>tertiary</td>\n",
       "      <td>None</td>\n",
       "      <td>ft</td>\n",
       "      <td>124992</td>\n",
       "      <td>124987</td>\n",
       "      <td>NaN</td>\n",
       "      <td>NaN</td>\n",
       "      <td>None</td>\n",
       "      <td>...</td>\n",
       "      <td>None</td>\n",
       "      <td>?</td>\n",
       "      <td>?</td>\n",
       "      <td>4.0</td>\n",
       "      <td>1.0</td>\n",
       "      <td>NaN</td>\n",
       "      <td>1.0</td>\n",
       "      <td>None</td>\n",
       "      <td>LINESTRING (-122.56019 38.01438, -122.55981 38...</td>\n",
       "      <td>35.877744</td>\n",
       "    </tr>\n",
       "    <tr>\n",
       "      <th>6</th>\n",
       "      <td>463165</td>\n",
       "      <td>{758004215}</td>\n",
       "      <td>residential</td>\n",
       "      <td>None</td>\n",
       "      <td>ft</td>\n",
       "      <td>72994</td>\n",
       "      <td>72996</td>\n",
       "      <td>NaN</td>\n",
       "      <td>NaN</td>\n",
       "      <td>None</td>\n",
       "      <td>...</td>\n",
       "      <td>None</td>\n",
       "      <td>?</td>\n",
       "      <td>?</td>\n",
       "      <td>1.0</td>\n",
       "      <td>1.0</td>\n",
       "      <td>NaN</td>\n",
       "      <td>1.0</td>\n",
       "      <td>None</td>\n",
       "      <td>LINESTRING (-121.95331 37.76988, -121.95271 37...</td>\n",
       "      <td>88.638366</td>\n",
       "    </tr>\n",
       "    <tr>\n",
       "      <th>7</th>\n",
       "      <td>513383</td>\n",
       "      <td>{792316869}</td>\n",
       "      <td>secondary</td>\n",
       "      <td>None</td>\n",
       "      <td>ft</td>\n",
       "      <td>164789</td>\n",
       "      <td>165035</td>\n",
       "      <td>NaN</td>\n",
       "      <td>30.0</td>\n",
       "      <td>None</td>\n",
       "      <td>...</td>\n",
       "      <td>None</td>\n",
       "      <td>?</td>\n",
       "      <td>?</td>\n",
       "      <td>4.0</td>\n",
       "      <td>NaN</td>\n",
       "      <td>NaN</td>\n",
       "      <td>NaN</td>\n",
       "      <td>None</td>\n",
       "      <td>LINESTRING (-122.05952 37.93424, -122.05967 37...</td>\n",
       "      <td>61.709085</td>\n",
       "    </tr>\n",
       "    <tr>\n",
       "      <th>8</th>\n",
       "      <td>67412</td>\n",
       "      <td>{393791123}</td>\n",
       "      <td>tertiary</td>\n",
       "      <td>None</td>\n",
       "      <td>ft</td>\n",
       "      <td>295993</td>\n",
       "      <td>295988</td>\n",
       "      <td>NaN</td>\n",
       "      <td>NaN</td>\n",
       "      <td>lane</td>\n",
       "      <td>...</td>\n",
       "      <td>None</td>\n",
       "      <td>?</td>\n",
       "      <td>?</td>\n",
       "      <td>3.0</td>\n",
       "      <td>NaN</td>\n",
       "      <td>NaN</td>\n",
       "      <td>1.0</td>\n",
       "      <td>None</td>\n",
       "      <td>LINESTRING (-121.77421 37.23356, -121.77512 37...</td>\n",
       "      <td>100.762064</td>\n",
       "    </tr>\n",
       "    <tr>\n",
       "      <th>9</th>\n",
       "      <td>180018</td>\n",
       "      <td>{417891815}</td>\n",
       "      <td>primary</td>\n",
       "      <td>None</td>\n",
       "      <td>ft</td>\n",
       "      <td>325209</td>\n",
       "      <td>325205</td>\n",
       "      <td>NaN</td>\n",
       "      <td>NaN</td>\n",
       "      <td>lane</td>\n",
       "      <td>...</td>\n",
       "      <td>None</td>\n",
       "      <td>?</td>\n",
       "      <td>?</td>\n",
       "      <td>3.0</td>\n",
       "      <td>NaN</td>\n",
       "      <td>NaN</td>\n",
       "      <td>NaN</td>\n",
       "      <td>None</td>\n",
       "      <td>LINESTRING (-121.90356 37.34089, -121.90344 37...</td>\n",
       "      <td>10.743065</td>\n",
       "    </tr>\n",
       "  </tbody>\n",
       "</table>\n",
       "<p>10 rows × 27 columns</p>\n",
       "</div>"
      ],
      "text/plain": [
       "   ROAD_ID        osmid   FUNCTIONAL PATH_ID ONE_WAY       u       v  WIDTH  \\\n",
       "0   111276   {31439803}     tertiary    None      ft  419038  419030    NaN   \n",
       "1   162454   {93291777}     tertiary    None      ft  364379  364375    NaN   \n",
       "2   165633  {184388728}      primary    None      ft  329656  329657    NaN   \n",
       "3   888344   {53726448}     tertiary    None      ft   76716   76717    NaN   \n",
       "4   923150  {655711604}  residential    None      ft  129104  129102    NaN   \n",
       "5   955824  {502817925}     tertiary    None      ft  124992  124987    NaN   \n",
       "6   463165  {758004215}  residential    None      ft   72994   72996    NaN   \n",
       "7   513383  {792316869}    secondary    None      ft  164789  165035    NaN   \n",
       "8    67412  {393791123}     tertiary    None      ft  295993  295988    NaN   \n",
       "9   180018  {417891815}      primary    None      ft  325209  325205    NaN   \n",
       "\n",
       "   SPEED_LIMI FT_BIKE_IN  ...  TWLTL_CROS FT_PARK  TF_PARK  FT_SEG_STR  \\\n",
       "0         NaN       None  ...        None       ?        ?         4.0   \n",
       "1         NaN       None  ...        None       ?        ?         4.0   \n",
       "2        35.0       None  ...        None       ?        ?         4.0   \n",
       "3         NaN       None  ...        None       ?        ?         4.0   \n",
       "4         NaN       None  ...        None       ?        ?         1.0   \n",
       "5         NaN       None  ...        None       ?        ?         4.0   \n",
       "6         NaN       None  ...        None       ?        ?         1.0   \n",
       "7        30.0       None  ...        None       ?        ?         4.0   \n",
       "8         NaN       lane  ...        None       ?        ?         3.0   \n",
       "9         NaN       lane  ...        None       ?        ?         3.0   \n",
       "\n",
       "   FT_INT_STR TF_SEG_STR TF_INT_STR XWALK  \\\n",
       "0         NaN        NaN        3.0  None   \n",
       "1         1.0        NaN        1.0  None   \n",
       "2         1.0        NaN        1.0  None   \n",
       "3         1.0        NaN        1.0  None   \n",
       "4         NaN        NaN        NaN  None   \n",
       "5         1.0        NaN        1.0  None   \n",
       "6         1.0        NaN        1.0  None   \n",
       "7         NaN        NaN        NaN  None   \n",
       "8         NaN        NaN        1.0  None   \n",
       "9         NaN        NaN        NaN  None   \n",
       "\n",
       "                                            geometry      length  \n",
       "0  LINESTRING (-121.95749 37.52394, -121.95722 37...   24.398252  \n",
       "1  LINESTRING (-121.76918 37.31464, -121.76834 37...   75.902661  \n",
       "2  LINESTRING (-121.92277 37.32337, -121.92235 37...   37.835842  \n",
       "3  LINESTRING (-122.24642 37.78016, -122.24640 37...    1.539394  \n",
       "4  LINESTRING (-122.51925 38.05433, -122.51929 38...    3.697954  \n",
       "5  LINESTRING (-122.56019 38.01438, -122.55981 38...   35.877744  \n",
       "6  LINESTRING (-121.95331 37.76988, -121.95271 37...   88.638366  \n",
       "7  LINESTRING (-122.05952 37.93424, -122.05967 37...   61.709085  \n",
       "8  LINESTRING (-121.77421 37.23356, -121.77512 37...  100.762064  \n",
       "9  LINESTRING (-121.90356 37.34089, -121.90344 37...   10.743065  \n",
       "\n",
       "[10 rows x 27 columns]"
      ]
     },
     "execution_count": 10,
     "metadata": {},
     "output_type": "execute_result"
    }
   ],
   "source": [
    "# Reproject the geometries by replacing the values with projected ones\n",
    "lts_new = lts.to_crs(epsg=4326)\n",
    "lts_new.head(10)"
   ]
  },
  {
   "cell_type": "code",
   "execution_count": null,
   "id": "1de6b4ab",
   "metadata": {},
   "outputs": [
    {
     "name": "stdout",
     "output_type": "stream",
     "text": [
      "CPU times: total: 0 ns\n",
      "Wall time: 0 ns\n"
     ]
    }
   ],
   "source": [
    "# get the slope for each link of the network\n",
    "%time\n",
    "lts_new\n",
    "# First identify the starting and ending node of each link\n",
    "lts_new['starting point'] = None\n",
    "lts_new['ending point'] = None\n",
    "\n",
    "for index, row in lts_new.iterrows():\n",
    "    coords = [(coords) for coords in list(row['geometry'].coords)]\n",
    "    first_coord, last_coord = [ coords[i] for i in (0, -1) ]\n",
    "    lts_new.at[index,'starting point'] = Point(first_coord)\n",
    "    lts_new.at[index,'ending point'] = Point(last_coord)\n",
    "    lts_new"
   ]
  },
  {
   "cell_type": "code",
   "execution_count": null,
   "id": "0eb67efa",
   "metadata": {},
   "outputs": [],
   "source": [
    "lts_new.head(5)"
   ]
  },
  {
   "cell_type": "code",
   "execution_count": null,
   "id": "b1941217",
   "metadata": {},
   "outputs": [],
   "source": [
    "#lts_new['FUNCTIONAL'].unique()"
   ]
  },
  {
   "cell_type": "code",
   "execution_count": null,
   "id": "cfae26a0",
   "metadata": {},
   "outputs": [],
   "source": [
    "#show point and raster on a matplotlib plot\n",
    "fig, ax = plt.subplots(figsize=(12,12))\n",
    "lts_new.boundary.plot(ax=ax, color='orangered')\n",
    "show(barea_slope, ax=ax)"
   ]
  },
  {
   "cell_type": "code",
   "execution_count": null,
   "id": "5e78df82",
   "metadata": {},
   "outputs": [],
   "source": [
    "# Calculate each link starting lat and long\n",
    "sf1=lts_new.loc[:,[\"ROAD_ID\",\"starting point\"]]\n",
    "sf1.columns=[\"ROAD_ID\",\"geometry\"]\n",
    "sf1['start_lon'] = sf1.geometry.apply(lambda p: p.x)\n",
    "sf1['start_lat'] = sf1.geometry.apply(lambda p: p.y)\n",
    "sf2=sf1.loc[:,[\"ROAD_ID\",\"geometry\",\"start_lon\",\"start_lat\"]]\n",
    "sf2.head(5)"
   ]
  },
  {
   "cell_type": "code",
   "execution_count": null,
   "id": "6040cdd9",
   "metadata": {},
   "outputs": [],
   "source": [
    "# Calculate each link starting elevation\n",
    "sf2[\"starting_ele\"]= None\n",
    "#point in test['geometry']:\n",
    "x = sf2[\"start_lon\"]\n",
    "y = sf2[\"start_lat\"]\n",
    "row, col = barea_slope.index(x,y)\n",
    "sf2[\"starting_ele\"]=barea_slope.read(1)[row,col]"
   ]
  },
  {
   "cell_type": "code",
   "execution_count": null,
   "id": "4d1e67d1",
   "metadata": {},
   "outputs": [],
   "source": [
    "sf2.head()"
   ]
  },
  {
   "cell_type": "code",
   "execution_count": null,
   "id": "c0b43baa",
   "metadata": {},
   "outputs": [],
   "source": [
    "%%time\n",
    "# Calculate each link end point elevation\n",
    "ef1=lts_new.loc[:,[\"ROAD_ID\",\"ending point\"]]\n",
    "ef1.columns=[\"ROAD_ID\",\"geometry\"]\n",
    "ef1['end_lon'] = ef1.geometry.apply(lambda p: p.x)\n",
    "ef1['end_lat'] = ef1.geometry.apply(lambda p: p.y)\n",
    "ef2=ef1.loc[:,[\"ROAD_ID\",\"geometry\",\"end_lon\",\"end_lat\"]]\n",
    "ef2.head(5)"
   ]
  },
  {
   "cell_type": "code",
   "execution_count": null,
   "id": "9aef18ca",
   "metadata": {},
   "outputs": [],
   "source": [
    "%%time\n",
    "# Calculate the each link end elevation\n",
    "ef2[\"ending_ele\"]= None\n",
    "#point in test['geometry']:\n",
    "x = ef2[\"end_lon\"]\n",
    "y = ef2[\"end_lat\"]\n",
    "row, col = barea_slope.index(x,y)\n",
    "ef2[\"ending_ele\"]=barea_slope.read(1)[row,col]"
   ]
  },
  {
   "cell_type": "code",
   "execution_count": null,
   "id": "4f5f85dd",
   "metadata": {},
   "outputs": [],
   "source": [
    "lts_new.shape,sf2.shape,ef2.shape"
   ]
  },
  {
   "cell_type": "code",
   "execution_count": null,
   "id": "5fbe6b4f",
   "metadata": {},
   "outputs": [],
   "source": [
    "%%time\n",
    "# Calculate the slope for each link\n",
    "from functools import reduce\n",
    "barea_all=[sf2,ef2,lts_new]\n",
    "\n",
    "barea_all1= reduce(lambda  left,right: pd.merge(left,right,on=['ROAD_ID'],\n",
    "                                            how='outer'), barea_all).fillna('0')\n",
    "barea_all1[\"slope\"]=abs((barea_all1['starting_ele']-barea_all1['ending_ele'])/barea_all1['length'])*100\n",
    "barea_all1=barea_all1.drop_duplicates(subset=['ROAD_ID'], keep='first')\n",
    "barea_all1.head()"
   ]
  },
  {
   "cell_type": "code",
   "execution_count": null,
   "id": "ed1fd459",
   "metadata": {},
   "outputs": [],
   "source": [
    "barea_all1.shape"
   ]
  },
  {
   "cell_type": "code",
   "execution_count": null,
   "id": "0d54d0a7",
   "metadata": {},
   "outputs": [],
   "source": [
    "barea_all1['slope'].describe()"
   ]
  },
  {
   "cell_type": "code",
   "execution_count": null,
   "id": "dbf12b10",
   "metadata": {},
   "outputs": [],
   "source": [
    "barea_all1.slope.plot()"
   ]
  },
  {
   "cell_type": "code",
   "execution_count": null,
   "id": "76faa46e",
   "metadata": {},
   "outputs": [],
   "source": [
    "# It seems that some of the slope is abnormal, due to mountain effect."
   ]
  },
  {
   "cell_type": "code",
   "execution_count": null,
   "id": "6fa5db63",
   "metadata": {},
   "outputs": [],
   "source": [
    "# Lets see the number of links that have slope greater than 100%\n",
    "abnormal_slope=barea_all1.loc[barea_all1['slope']>100]\n",
    "abnormal_slope.shape"
   ]
  },
  {
   "cell_type": "markdown",
   "id": "5abcc6d8",
   "metadata": {},
   "source": [
    "# Apply the slope effects for the LTS"
   ]
  },
  {
   "cell_type": "code",
   "execution_count": null,
   "id": "643ef582",
   "metadata": {},
   "outputs": [],
   "source": [
    "# Read Slope data\n",
    "barea_all1=gpd.read_file(\"H:/mmmiah/Desktop/Bicycle Connectivity Project/Project-Bicycle Connectivity/Bay_Area_Slope.shp\")"
   ]
  },
  {
   "cell_type": "code",
   "execution_count": null,
   "id": "6b435271",
   "metadata": {},
   "outputs": [],
   "source": [
    "#save it as GeoJson\n",
    "#barea_all1.to_file(\"H:/mmmiah/Desktop/Bicycle Connectivity Project/Project-Bicycle Connectivity/Bay_Area_Slope.json\",driver=\"GeoJSON\")"
   ]
  },
  {
   "attachments": {
    "image.png": {
     "image/png": "[encoded data removed]"
    }
   },
   "cell_type": "markdown",
   "id": "23c788f6",
   "metadata": {},
   "source": [
    "![image.png](attachment:image.png)"
   ]
  },
  {
   "cell_type": "code",
   "execution_count": null,
   "id": "a31a61af",
   "metadata": {},
   "outputs": [],
   "source": [
    "# write a slope impedance function\n",
    "def slope_correction(length,FT_SEG_STR,slope):\n",
    "    if slope <=2:\n",
    "        return length*(1+FT_SEG_STR)\n",
    "    elif ((slope>2) and (slope<=4)):\n",
    "        return length*(1+0.37+FT_SEG_STR)\n",
    "    elif ((slope>4) and (slope<=6)):\n",
    "        return length*(1+1.20+FT_SEG_STR)\n",
    "    else:\n",
    "        return length*(1+3.20+FT_SEG_STR)"
   ]
  },
  {
   "cell_type": "code",
   "execution_count": null,
   "id": "9633e697",
   "metadata": {},
   "outputs": [],
   "source": [
    "#barea_all1['FT_SEG_STR'].astype(str).astype(int)\n",
    "barea_all1['FT_SEG_STR']=pd.to_numeric(barea_all1['FT_SEG_STR']).astype(int)\n",
    "barea_all1['FT_SEG_STR'].dtypes"
   ]
  },
  {
   "cell_type": "code",
   "execution_count": null,
   "id": "7e3190d3",
   "metadata": {},
   "outputs": [],
   "source": [
    "barea_all1['impedance_of_link']=barea_all1.apply(lambda row: slope_correction(row['length'],row['FT_SEG_STR'],row['slope']),axis=1)\n",
    "barea_all1.head(8)"
   ]
  },
  {
   "cell_type": "code",
   "execution_count": null,
   "id": "e7d57306",
   "metadata": {},
   "outputs": [],
   "source": [
    "barea_all1['impedance_of_link']=barea_all1.apply(lambda row: slope_correction(row['length'],row['FT_SEG_STR'],row['slope']),axis=1)\n",
    "barea_all1.head(8)"
   ]
  },
  {
   "cell_type": "code",
   "execution_count": null,
   "id": "3df8fad0",
   "metadata": {},
   "outputs": [],
   "source": [
    "# # save this file \n",
    "# # Import the node Connectivity\n",
    "# crs = {'init': 'epsg:7131'}\n",
    "# we_slope = gpd.GeoDataFrame(barea_all1, crs=crs, geometry = 'geometry')\n",
    "# we_slope.to_file(\"H:/mmmiah/Desktop/Bicycle Connectivity Project/Project-Bicycle Connectivity/Bay area weight.shp\")"
   ]
  },
  {
   "cell_type": "code",
   "execution_count": null,
   "id": "ede20c3d",
   "metadata": {},
   "outputs": [],
   "source": [
    "#barea_all1=gpd.read_file(\"H:/mmmiah/Desktop/Bicycle Connectivity Project/Project-Bicycle Connectivity/Bay area weight.shp\")"
   ]
  },
  {
   "cell_type": "code",
   "execution_count": null,
   "id": "a6f558a8",
   "metadata": {},
   "outputs": [],
   "source": [
    "# Bring US Census track\n",
    "census_track=gpd.read_file('H:/mmmiah/Desktop/Bicycle Connectivity Project/Project-Bicycle Connectivity/Bay Area_LTS/Bay_Area_Census_tracts.shp')\n",
    "census_track.head()"
   ]
  },
  {
   "cell_type": "code",
   "execution_count": null,
   "id": "3efeaec0",
   "metadata": {},
   "outputs": [],
   "source": [
    "census_track1=census_track.to_crs(epsg=7131)\n",
    "census_track1.plot()"
   ]
  },
  {
   "cell_type": "code",
   "execution_count": null,
   "id": "c1bb30ed",
   "metadata": {},
   "outputs": [],
   "source": [
    "# import SF Road_network\n",
    "road_network=gpd.read_file('H:/mmmiah/Desktop/Bicycle Connectivity Project/SF Validation_data/LTS_data/Speed_aadt.shp')\n",
    "road_network.crs"
   ]
  },
  {
   "cell_type": "code",
   "execution_count": null,
   "id": "2e589f15",
   "metadata": {},
   "outputs": [],
   "source": [
    "sf_bd_proj = road_network.to_crs(epsg=7131)\n",
    "sf_bd_proj=sf_bd_proj.unary_union.convex_hull\n",
    "sf_bd_proj"
   ]
  },
  {
   "cell_type": "code",
   "execution_count": null,
   "id": "febbf64f",
   "metadata": {},
   "outputs": [],
   "source": [
    "# read the boundary shape file\n",
    "# study_bd=gpd.read_file(\"H:/mmmiah/Desktop/Bicycle Connectivity Project/Project-Bicycle Connectivity/Bay Area_LTS/geo_export_b69ec18e-6a40-4637-94f6-1f3aafe63144.shp\")\n",
    "# study_bd"
   ]
  },
  {
   "cell_type": "code",
   "execution_count": null,
   "id": "8ea7d28a",
   "metadata": {},
   "outputs": [],
   "source": [
    "# lets consider only Alameda for now\n",
    "# sf_bd=study_bd.loc[study_bd['county']=='San Francisco']\n",
    "# sf_bd1=gpd.GeoDataFrame.explode(sf_bd)\n",
    "# sf_bd1"
   ]
  },
  {
   "cell_type": "code",
   "execution_count": null,
   "id": "48749445",
   "metadata": {},
   "outputs": [],
   "source": [
    "# sf_bd1.crs"
   ]
  },
  {
   "cell_type": "code",
   "execution_count": null,
   "id": "287f9ae7",
   "metadata": {},
   "outputs": [],
   "source": [
    "# sf_bd_proj = sf_bd.to_crs(epsg=7131)\n",
    "# sf_bd_proj.plot()"
   ]
  },
  {
   "cell_type": "code",
   "execution_count": null,
   "id": "75674718",
   "metadata": {},
   "outputs": [],
   "source": [
    "# sf_bd_proj"
   ]
  },
  {
   "cell_type": "code",
   "execution_count": null,
   "id": "420d49da",
   "metadata": {},
   "outputs": [],
   "source": [
    "# sf_bd_proj['area']=sf_bd_proj.area*3.861e-7 # mile square\n",
    "# sf_bd_proj"
   ]
  },
  {
   "cell_type": "code",
   "execution_count": null,
   "id": "715a1fc3",
   "metadata": {},
   "outputs": [],
   "source": [
    "# sf_area=sf_bd_proj[['area']].values\n",
    "# sf_area"
   ]
  },
  {
   "cell_type": "code",
   "execution_count": null,
   "id": "01382ec3",
   "metadata": {},
   "outputs": [],
   "source": [
    "# Convert to geodataframe\n",
    "#abnormal_slope1=abnormal_slope.set_crs(epsg=4326)\n",
    "#abnormal_slope2=abnormal_slope1.to_crs(epsg=7131)\n",
    "barea_all2 = gpd.GeoDataFrame(barea_all1, crs=\"EPSG:4326\", geometry='geometry')\n",
    "barea_all3=barea_all2.to_crs(epsg=7131)\n",
    "barea_all3.head()"
   ]
  },
  {
   "cell_type": "code",
   "execution_count": null,
   "id": "3e0163d9",
   "metadata": {},
   "outputs": [],
   "source": [
    "# Now lets crop the marin area of lTS network\n",
    "sf_lts=gpd.clip(barea_all3,sf_bd_proj)\n",
    "sf_lts.head()"
   ]
  },
  {
   "cell_type": "code",
   "execution_count": null,
   "id": "8b4d0313",
   "metadata": {},
   "outputs": [],
   "source": [
    "sf_lts.groupby(['FT_BIKE_IN']).count()"
   ]
  },
  {
   "cell_type": "code",
   "execution_count": null,
   "id": "dd0afd52",
   "metadata": {},
   "outputs": [],
   "source": [
    "sf_lts.crs"
   ]
  },
  {
   "cell_type": "code",
   "execution_count": null,
   "id": "f91abf32",
   "metadata": {},
   "outputs": [],
   "source": [
    "sf_lts['length'].sum()"
   ]
  },
  {
   "cell_type": "code",
   "execution_count": null,
   "id": "da0aabb8",
   "metadata": {},
   "outputs": [],
   "source": [
    "# Convert the LTS shape file to graph to run the \n",
    "sf_lts_g=gpd.GeoDataFrame.explode(sf_lts)\n",
    "sf_lts_g1 =momepy.gdf_to_nx(sf_lts_g, approach='primal')"
   ]
  },
  {
   "cell_type": "code",
   "execution_count": null,
   "id": "a1efd7ec",
   "metadata": {},
   "outputs": [],
   "source": [
    "# check the parent graph characteristics\n",
    "nx.number_connected_components(sf_lts_g1)"
   ]
  },
  {
   "cell_type": "code",
   "execution_count": null,
   "id": "12d8228d",
   "metadata": {},
   "outputs": [],
   "source": [
    "#  f, ax = plt.subplots(1, 3, figsize=(18, 10), sharex=True, sharey=True)\n",
    "#  sf_lts.plot(color='#e32e00', ax=ax[0])\n",
    "#  for i, facet in enumerate(ax):\n",
    "#      facet.set_title((\"Streets\", \"Primal graph\", \"Overlay\")[i])\n",
    "#      facet.axis(\"off\")\n",
    "#  nx.draw(sf_lts_g1, {n:[n[0], n[1]] for n in list(sf_lts_g1.nodes)}, ax=ax[1], node_size=0.01)\n",
    "# # sf_lts.plot(color='#e32e00', ax=ax[2], zorder=-1)\n",
    "#  nx.draw(sf_lts_g1, {n:[n[0], n[1]] for n in list(sf_lts_g1.nodes)}, ax=ax[2], node_size=0.01)"
   ]
  },
  {
   "cell_type": "code",
   "execution_count": null,
   "id": "4aeee0eb",
   "metadata": {},
   "outputs": [],
   "source": [
    "sf_lts['geometry'].convex_hull.plot()"
   ]
  },
  {
   "cell_type": "code",
   "execution_count": null,
   "id": "7a85c5a6",
   "metadata": {},
   "outputs": [],
   "source": [
    "# Get the Convex Hull of the network\n",
    "convex_hull_area = sf_lts.unary_union.convex_hull\n",
    "# Show output\n",
    "convex_hull_area"
   ]
  },
  {
   "cell_type": "code",
   "execution_count": null,
   "id": "b18dcbfe",
   "metadata": {},
   "outputs": [],
   "source": [
    "census_track2_sf=gpd.clip(census_track1,convex_hull_area)\n",
    "census_track2_sf.plot()"
   ]
  },
  {
   "cell_type": "code",
   "execution_count": null,
   "id": "0c7ee691",
   "metadata": {},
   "outputs": [],
   "source": [
    "convex_hull_area1=convex_hull_area.area*3.861e-7 # sq mile\n",
    "convex_hull_area1"
   ]
  },
  {
   "cell_type": "code",
   "execution_count": null,
   "id": "6844b72f",
   "metadata": {},
   "outputs": [],
   "source": [
    "# Calculate the number of Intersections\n",
    "crossroad_nodes = [node for node in sf_lts_g1.nodes() if len(sf_lts_g1.edges(node)) > 2]\n"
   ]
  },
  {
   "cell_type": "code",
   "execution_count": null,
   "id": "b4d2cbee",
   "metadata": {},
   "outputs": [],
   "source": [
    "def get_number_of_elements(list):\n",
    "    count = 0\n",
    "    for element in list:\n",
    "        count += 1\n",
    "    return count\n",
    "\n",
    "#print(\"Number of elements in the list: \", get_number_of_elements(list_c))"
   ]
  },
  {
   "cell_type": "code",
   "execution_count": null,
   "id": "283f55b3",
   "metadata": {},
   "outputs": [],
   "source": [
    "# Number of intersections where edge>2\n",
    "NI=get_number_of_elements(crossroad_nodes)\n",
    "NI"
   ]
  },
  {
   "cell_type": "markdown",
   "id": "ae7f6cea",
   "metadata": {},
   "source": [
    "# Calculate the Bike Network Connectivity"
   ]
  },
  {
   "cell_type": "code",
   "execution_count": null,
   "id": "91145fd5",
   "metadata": {},
   "outputs": [],
   "source": [
    "sf_lts['FT_BIKE_IN'].unique()"
   ]
  },
  {
   "cell_type": "code",
   "execution_count": null,
   "id": "ea9dabee",
   "metadata": {},
   "outputs": [],
   "source": [
    "# Get the motorway network and bike network based on functional class of the roads\n",
    "#sf_motor_network=sf_lts[sf_lts['BIKE_LANE_'].isna()]\n",
    "#sf_motor_network=sf_lts.loc[sf_lts['FT_BIKE_IN']!='path']\n",
    "# consider entire network as the maximum attainable future bike network\n",
    "sf_motor_network=sf_lts\n",
    "# Plot the motor Network\n",
    "sf_motor_network.plot(color='#e32e00')"
   ]
  },
  {
   "cell_type": "code",
   "execution_count": null,
   "id": "f579cf4e",
   "metadata": {},
   "outputs": [],
   "source": [
    "sf_motor_network.groupby(['FT_SEG_STR'])['length'].sum()*0.000621371"
   ]
  },
  {
   "cell_type": "code",
   "execution_count": null,
   "id": "d4c35af1",
   "metadata": {},
   "outputs": [],
   "source": [
    "sf_motor_network['length'].sum()*0.000621371 # mile"
   ]
  },
  {
   "cell_type": "code",
   "execution_count": null,
   "id": "307f5e02",
   "metadata": {},
   "outputs": [],
   "source": [
    "# Plot the Bike Network\n",
    "sf_bike_network=sf_lts.loc[sf_lts['FT_BIKE_IN']!='0']\n",
    "sf_bike_network.plot(color='#e32e00')"
   ]
  },
  {
   "cell_type": "code",
   "execution_count": null,
   "id": "4e53fdc6",
   "metadata": {},
   "outputs": [],
   "source": [
    "sf_bike_network.groupby(['FT_SEG_STR'])['length'].sum()*0.000621371"
   ]
  },
  {
   "cell_type": "code",
   "execution_count": null,
   "id": "a4e7771f",
   "metadata": {},
   "outputs": [],
   "source": [
    "sf_bike_network['length'].sum()*0.000621371"
   ]
  },
  {
   "cell_type": "code",
   "execution_count": 43,
   "id": "093050be",
   "metadata": {},
   "outputs": [
    {
     "data": {
      "text/plain": [
       "<Derived Projected CRS: EPSG:7131>\n",
       "Name: NAD83(2011) / San Francisco CS13\n",
       "Axis Info [cartesian]:\n",
       "- X[east]: Easting (metre)\n",
       "- Y[north]: Northing (metre)\n",
       "Area of Use:\n",
       "- name: United States (USA) - California - San Francisco bay area - counties of Alameda, Contra Costa, Marin, Napa, San Francisco, San Mateo, Santa Clara, Santa Cruz, Solano and Sonoma.\n",
       "- bounds: (-123.56, 36.85, -121.2, 38.87)\n",
       "Coordinate Operation:\n",
       "- name: City and County of San Francisco CS13 (meters)\n",
       "- method: Transverse Mercator\n",
       "Datum: NAD83 (National Spatial Reference System 2011)\n",
       "- Ellipsoid: GRS 1980\n",
       "- Prime Meridian: Greenwich"
      ]
     },
     "execution_count": 43,
     "metadata": {},
     "output_type": "execute_result"
    }
   ],
   "source": [
    "sf_bike_network.crs"
   ]
  },
  {
   "cell_type": "code",
   "execution_count": 44,
   "id": "ab2b2c2b",
   "metadata": {},
   "outputs": [
    {
     "name": "stderr",
     "output_type": "stream",
     "text": [
      "C:\\Users\\mmmiah\\Anaconda3\\envs\\geo_env\\Lib\\site-packages\\pyproj\\crs\\crs.py:141: FutureWarning: '+init=<authority>:<code>' syntax is deprecated. '<authority>:<code>' is the preferred initialization method. When making the change, be mindful of axis order changes: https://pyproj4.github.io/pyproj/stable/gotchas.html#axis-order-changes-in-proj-6\n",
      "  in_crs_string = _prepare_from_proj_string(in_crs_string)\n",
      "C:\\Users\\mmmiah\\AppData\\Local\\Temp\\ipykernel_20688\\580048591.py:4: UserWarning: Column names longer than 10 characters will be truncated when saved to ESRI Shapefile.\n",
      "  sf_bn.to_file(\"H:/mmmiah/Desktop/Bicycle Connectivity Project/Project-Bicycle Connectivity/Nodel Level Connectivity_results/SF_Bike_network.shp\")\n"
     ]
    }
   ],
   "source": [
    "# save the bike network\n",
    "crs = {'init': 'epsg:7131'}\n",
    "sf_bn = gpd.GeoDataFrame(sf_bike_network, crs=crs, geometry = 'geometry')\n",
    "sf_bn.to_file(\"H:/mmmiah/Desktop/Bicycle Connectivity Project/Project-Bicycle Connectivity/Nodel Level Connectivity_results/SF_Bike_network.shp\")"
   ]
  },
  {
   "cell_type": "code",
   "execution_count": 45,
   "id": "2bc68f4b",
   "metadata": {},
   "outputs": [
    {
     "data": {
      "text/plain": [
       "((29184, 35), (7976, 35), (29184, 35))"
      ]
     },
     "execution_count": 45,
     "metadata": {},
     "output_type": "execute_result"
    }
   ],
   "source": [
    "sf_lts.shape, sf_bike_network.shape, sf_motor_network.shape"
   ]
  },
  {
   "cell_type": "code",
   "execution_count": 46,
   "id": "72948b5a",
   "metadata": {},
   "outputs": [
    {
     "data": {
      "text/html": [
       "<div>\n",
       "<style scoped>\n",
       "    .dataframe tbody tr th:only-of-type {\n",
       "        vertical-align: middle;\n",
       "    }\n",
       "\n",
       "    .dataframe tbody tr th {\n",
       "        vertical-align: top;\n",
       "    }\n",
       "\n",
       "    .dataframe thead th {\n",
       "        text-align: right;\n",
       "    }\n",
       "</style>\n",
       "<table border=\"1\" class=\"dataframe\">\n",
       "  <thead>\n",
       "    <tr style=\"text-align: right;\">\n",
       "      <th></th>\n",
       "      <th>ROAD_ID</th>\n",
       "      <th>start_lon</th>\n",
       "      <th>start_lat</th>\n",
       "      <th>starting_e</th>\n",
       "      <th>end_lon</th>\n",
       "      <th>end_lat</th>\n",
       "      <th>ending_ele</th>\n",
       "      <th>osmid</th>\n",
       "      <th>FUNCTIONAL</th>\n",
       "      <th>PATH_ID</th>\n",
       "      <th>...</th>\n",
       "      <th>TF_PARK</th>\n",
       "      <th>FT_SEG_STR</th>\n",
       "      <th>FT_INT_STR</th>\n",
       "      <th>TF_SEG_STR</th>\n",
       "      <th>TF_INT_STR</th>\n",
       "      <th>XWALK</th>\n",
       "      <th>length</th>\n",
       "      <th>slope</th>\n",
       "      <th>geometry</th>\n",
       "      <th>impedance_of_link</th>\n",
       "    </tr>\n",
       "  </thead>\n",
       "  <tbody>\n",
       "    <tr>\n",
       "      <th>477492</th>\n",
       "      <td>918870</td>\n",
       "      <td>-122.436039</td>\n",
       "      <td>37.806712</td>\n",
       "      <td>3</td>\n",
       "      <td>-122.435858</td>\n",
       "      <td>37.806735</td>\n",
       "      <td>4</td>\n",
       "      <td>{302293972}</td>\n",
       "      <td>path</td>\n",
       "      <td>0</td>\n",
       "      <td>...</td>\n",
       "      <td>?</td>\n",
       "      <td>1</td>\n",
       "      <td>0</td>\n",
       "      <td>1</td>\n",
       "      <td>0</td>\n",
       "      <td>0</td>\n",
       "      <td>16.166896</td>\n",
       "      <td>6.185479</td>\n",
       "      <td>LINESTRING (49229.458 30294.719, 49245.423 302...</td>\n",
       "      <td>84.067862</td>\n",
       "    </tr>\n",
       "    <tr>\n",
       "      <th>11272</th>\n",
       "      <td>872092</td>\n",
       "      <td>-122.429555</td>\n",
       "      <td>37.806916</td>\n",
       "      <td>24</td>\n",
       "      <td>-122.429704</td>\n",
       "      <td>37.806521</td>\n",
       "      <td>23</td>\n",
       "      <td>{24526157,186433173}</td>\n",
       "      <td>path</td>\n",
       "      <td>0</td>\n",
       "      <td>...</td>\n",
       "      <td>?</td>\n",
       "      <td>1</td>\n",
       "      <td>1</td>\n",
       "      <td>1</td>\n",
       "      <td>0</td>\n",
       "      <td>0</td>\n",
       "      <td>45.778413</td>\n",
       "      <td>2.184436</td>\n",
       "      <td>LINESTRING (49800.463 30317.500, 49796.766 303...</td>\n",
       "      <td>108.494840</td>\n",
       "    </tr>\n",
       "    <tr>\n",
       "      <th>402725</th>\n",
       "      <td>877519</td>\n",
       "      <td>-122.432003</td>\n",
       "      <td>37.807102</td>\n",
       "      <td>5</td>\n",
       "      <td>-122.432074</td>\n",
       "      <td>37.807008</td>\n",
       "      <td>5</td>\n",
       "      <td>{641730768}</td>\n",
       "      <td>path</td>\n",
       "      <td>0</td>\n",
       "      <td>...</td>\n",
       "      <td>?</td>\n",
       "      <td>1</td>\n",
       "      <td>0</td>\n",
       "      <td>1</td>\n",
       "      <td>0</td>\n",
       "      <td>0</td>\n",
       "      <td>17.177908</td>\n",
       "      <td>0.000000</td>\n",
       "      <td>LINESTRING (49584.846 30338.101, 49586.530 303...</td>\n",
       "      <td>34.355815</td>\n",
       "    </tr>\n",
       "    <tr>\n",
       "      <th>351521</th>\n",
       "      <td>904036</td>\n",
       "      <td>-122.429313</td>\n",
       "      <td>37.807307</td>\n",
       "      <td>25</td>\n",
       "      <td>-122.429555</td>\n",
       "      <td>37.806916</td>\n",
       "      <td>24</td>\n",
       "      <td>{24526157}</td>\n",
       "      <td>path</td>\n",
       "      <td>0</td>\n",
       "      <td>...</td>\n",
       "      <td>?</td>\n",
       "      <td>1</td>\n",
       "      <td>0</td>\n",
       "      <td>1</td>\n",
       "      <td>1</td>\n",
       "      <td>0</td>\n",
       "      <td>48.499635</td>\n",
       "      <td>2.061871</td>\n",
       "      <td>LINESTRING (49821.729 30360.904, 49819.907 303...</td>\n",
       "      <td>114.944136</td>\n",
       "    </tr>\n",
       "    <tr>\n",
       "      <th>409282</th>\n",
       "      <td>877522</td>\n",
       "      <td>-122.429859</td>\n",
       "      <td>37.807619</td>\n",
       "      <td>5</td>\n",
       "      <td>-122.432003</td>\n",
       "      <td>37.807102</td>\n",
       "      <td>5</td>\n",
       "      <td>{641730768}</td>\n",
       "      <td>path</td>\n",
       "      <td>0</td>\n",
       "      <td>...</td>\n",
       "      <td>?</td>\n",
       "      <td>1</td>\n",
       "      <td>0</td>\n",
       "      <td>1</td>\n",
       "      <td>0</td>\n",
       "      <td>0</td>\n",
       "      <td>971.101411</td>\n",
       "      <td>0.000000</td>\n",
       "      <td>LINESTRING (49773.666 30395.490, 49746.374 305...</td>\n",
       "      <td>1942.202823</td>\n",
       "    </tr>\n",
       "  </tbody>\n",
       "</table>\n",
       "<p>5 rows × 35 columns</p>\n",
       "</div>"
      ],
      "text/plain": [
       "        ROAD_ID   start_lon  start_lat  starting_e     end_lon    end_lat  \\\n",
       "477492   918870 -122.436039  37.806712           3 -122.435858  37.806735   \n",
       "11272    872092 -122.429555  37.806916          24 -122.429704  37.806521   \n",
       "402725   877519 -122.432003  37.807102           5 -122.432074  37.807008   \n",
       "351521   904036 -122.429313  37.807307          25 -122.429555  37.806916   \n",
       "409282   877522 -122.429859  37.807619           5 -122.432003  37.807102   \n",
       "\n",
       "        ending_ele                 osmid FUNCTIONAL PATH_ID  ... TF_PARK  \\\n",
       "477492           4           {302293972}       path       0  ...       ?   \n",
       "11272           23  {24526157,186433173}       path       0  ...       ?   \n",
       "402725           5           {641730768}       path       0  ...       ?   \n",
       "351521          24            {24526157}       path       0  ...       ?   \n",
       "409282           5           {641730768}       path       0  ...       ?   \n",
       "\n",
       "        FT_SEG_STR  FT_INT_STR TF_SEG_STR TF_INT_STR XWALK      length  \\\n",
       "477492           1           0          1          0     0   16.166896   \n",
       "11272            1           1          1          0     0   45.778413   \n",
       "402725           1           0          1          0     0   17.177908   \n",
       "351521           1           0          1          1     0   48.499635   \n",
       "409282           1           0          1          0     0  971.101411   \n",
       "\n",
       "           slope                                           geometry  \\\n",
       "477492  6.185479  LINESTRING (49229.458 30294.719, 49245.423 302...   \n",
       "11272   2.184436  LINESTRING (49800.463 30317.500, 49796.766 303...   \n",
       "402725  0.000000  LINESTRING (49584.846 30338.101, 49586.530 303...   \n",
       "351521  2.061871  LINESTRING (49821.729 30360.904, 49819.907 303...   \n",
       "409282  0.000000  LINESTRING (49773.666 30395.490, 49746.374 305...   \n",
       "\n",
       "       impedance_of_link  \n",
       "477492         84.067862  \n",
       "11272         108.494840  \n",
       "402725         34.355815  \n",
       "351521        114.944136  \n",
       "409282       1942.202823  \n",
       "\n",
       "[5 rows x 35 columns]"
      ]
     },
     "execution_count": 46,
     "metadata": {},
     "output_type": "execute_result"
    }
   ],
   "source": [
    "sf_bike_network.tail()"
   ]
  },
  {
   "cell_type": "code",
   "execution_count": 47,
   "id": "082b7f46",
   "metadata": {},
   "outputs": [],
   "source": [
    "def node_level_connectivity_score (sf_motor_network,sf_bike_network):\n",
    "    connectivity_score=[]\n",
    "    sf_lts_motor_g=gpd.GeoDataFrame.explode(sf_motor_network)\n",
    "    sf_lts_motor_g1 =momepy.gdf_to_nx(sf_lts_motor_g, approach='primal')\n",
    "    #https://www.programcreek.com/python/example/120188/networkx.all_pairs_dijkstra_path_length\n",
    "    motor_length = dict(nx.all_pairs_dijkstra_path_length(sf_lts_motor_g1,cutoff=39590, weight='impedance_of_link'))\n",
    "    # Convert the shorsted path distance distionary to dataframe\n",
    "    sf_sheortst_path_motor_length=pd.DataFrame.from_dict(motor_length)\n",
    "    # Calculate the total motor path\n",
    "    sf_sheortst_path_motor_length['total_motor_path']=sf_sheortst_path_motor_length.sum(numeric_only=True, axis=0)\n",
    "    sf_sheortst_path_motor_length1=sf_sheortst_path_motor_length[['total_motor_path']]\n",
    "    # make total motor path as dictonary\n",
    "    ms_outcomes=sf_sheortst_path_motor_length1.T.to_dict('list')\n",
    "    # add motor path attribute with grpah nodes\n",
    "    nx.set_node_attributes(sf_lts_motor_g1, values=ms_outcomes, name=\"total_motor_path\")\n",
    "    nodes_motor, edges_motor = momepy.nx_to_gdf(sf_lts_motor_g1)\n",
    "    nodes_motor['total_motor_path'] = nodes_motor['total_motor_path'].str[0]\n",
    "    \n",
    "    \n",
    "    # do it for bike Path\n",
    "    sf_lts_bike_g=gpd.GeoDataFrame.explode(sf_bike_network)\n",
    "    sf_lts_bike_g1 =momepy.gdf_to_nx(sf_lts_bike_g, approach='primal')\n",
    "    #https://www.programcreek.com/python/example/120188/networkx.all_pairs_dijkstra_path_length\n",
    "    bike_length = dict(nx.all_pairs_dijkstra_path_length(sf_lts_bike_g1,cutoff=39590, weight='impedance_of_link'))\n",
    "    # Convert the shorsted path distance distionary to dataframe\n",
    "    sf_shortest_path_bike_length=pd.DataFrame.from_dict(bike_length)\n",
    "    # Calculate the total bike path\n",
    "    sf_shortest_path_bike_length['total_bike_path']=sf_shortest_path_bike_length.sum(numeric_only=True, axis=0)\n",
    "    sf_shortest_path_bike_length1=sf_shortest_path_bike_length[['total_bike_path']]\n",
    "    # make total motor path as dictonary\n",
    "    bs_outcomes=sf_shortest_path_bike_length1.T.to_dict('list')\n",
    "    # add motor path attribute with grpah nodes\n",
    "    nx.set_node_attributes(sf_lts_bike_g1, values=bs_outcomes, name=\"total_bike_path\")\n",
    "    nodes_bike, edges_bike = momepy.nx_to_gdf(sf_lts_bike_g1)\n",
    "    nodes_bike['total_bike_path'] = nodes_bike['total_bike_path'].str[0]\n",
    "\n",
    "    #connectivity score\n",
    "    shortest_path=pd.merge(nodes_motor,nodes_bike,on=['geometry'],how='outer')\n",
    "    shortest_path1=shortest_path.fillna(0)\n",
    "    shortest_path1['CS']= shortest_path1['total_bike_path']/shortest_path1['total_motor_path']\n",
    "    shortest_path1= shortest_path1.replace(np.inf, 1)\n",
    "    return shortest_path1 \n"
   ]
  },
  {
   "cell_type": "code",
   "execution_count": 48,
   "id": "ca50d040",
   "metadata": {},
   "outputs": [],
   "source": [
    "# define grade of connectivity\n",
    "def count_census_block(Connectivity_score):\n",
    "    if Connectivity_score>=1:\n",
    "        return 'excellently connected'\n",
    "    elif (Connectivity_score>=0.90 and Connectivity_score<1.0):\n",
    "        return 'very well connected  '\n",
    "    elif (Connectivity_score>=0.60 and Connectivity_score<0.90):\n",
    "        return 'well connected'\n",
    "    elif (Connectivity_score>=0.30 and Connectivity_score<0.60):\n",
    "        return 'fairly connected'\n",
    "    else:\n",
    "        return 'poorly connected'"
   ]
  },
  {
   "cell_type": "code",
   "execution_count": 49,
   "id": "8b03cd66",
   "metadata": {},
   "outputs": [
    {
     "name": "stderr",
     "output_type": "stream",
     "text": [
      "C:\\Users\\mmmiah\\AppData\\Local\\Temp\\ipykernel_20688\\4180809354.py:3: FutureWarning: Currently, index_parts defaults to True, but in the future, it will default to False to be consistent with Pandas. Use `index_parts=True` to keep the current behavior and True/False to silence the warning.\n",
      "  sf_lts_motor_g=gpd.GeoDataFrame.explode(sf_motor_network)\n",
      "C:\\Users\\mmmiah\\AppData\\Local\\Temp\\ipykernel_20688\\4180809354.py:21: FutureWarning: Currently, index_parts defaults to True, but in the future, it will default to False to be consistent with Pandas. Use `index_parts=True` to keep the current behavior and True/False to silence the warning.\n",
      "  sf_lts_bike_g=gpd.GeoDataFrame.explode(sf_bike_network)\n"
     ]
    },
    {
     "name": "stdout",
     "output_type": "stream",
     "text": [
      "CPU times: total: 55min 6s\n",
      "Wall time: 55min 7s\n"
     ]
    },
    {
     "data": {
      "text/html": [
       "<div>\n",
       "<style scoped>\n",
       "    .dataframe tbody tr th:only-of-type {\n",
       "        vertical-align: middle;\n",
       "    }\n",
       "\n",
       "    .dataframe tbody tr th {\n",
       "        vertical-align: top;\n",
       "    }\n",
       "\n",
       "    .dataframe thead th {\n",
       "        text-align: right;\n",
       "    }\n",
       "</style>\n",
       "<table border=\"1\" class=\"dataframe\">\n",
       "  <thead>\n",
       "    <tr style=\"text-align: right;\">\n",
       "      <th></th>\n",
       "      <th>total_motor_path</th>\n",
       "      <th>nodeID_x</th>\n",
       "      <th>geometry</th>\n",
       "      <th>total_bike_path</th>\n",
       "      <th>nodeID_y</th>\n",
       "      <th>CS</th>\n",
       "    </tr>\n",
       "  </thead>\n",
       "  <tbody>\n",
       "    <tr>\n",
       "      <th>0</th>\n",
       "      <td>5.195248e+08</td>\n",
       "      <td>0</td>\n",
       "      <td>POINT (43319.112 21173.421)</td>\n",
       "      <td>8.207942e+05</td>\n",
       "      <td>0.0</td>\n",
       "      <td>0.001580</td>\n",
       "    </tr>\n",
       "    <tr>\n",
       "      <th>1</th>\n",
       "      <td>4.730575e+08</td>\n",
       "      <td>1</td>\n",
       "      <td>POINT (43562.119 20568.580)</td>\n",
       "      <td>5.909887e+05</td>\n",
       "      <td>1.0</td>\n",
       "      <td>0.001249</td>\n",
       "    </tr>\n",
       "    <tr>\n",
       "      <th>2</th>\n",
       "      <td>5.119564e+08</td>\n",
       "      <td>2</td>\n",
       "      <td>POINT (42833.132 23900.282)</td>\n",
       "      <td>1.172553e+08</td>\n",
       "      <td>2.0</td>\n",
       "      <td>0.229034</td>\n",
       "    </tr>\n",
       "    <tr>\n",
       "      <th>3</th>\n",
       "      <td>5.114591e+08</td>\n",
       "      <td>3</td>\n",
       "      <td>POINT (42843.850 23901.452)</td>\n",
       "      <td>1.174899e+08</td>\n",
       "      <td>3.0</td>\n",
       "      <td>0.229715</td>\n",
       "    </tr>\n",
       "    <tr>\n",
       "      <th>4</th>\n",
       "      <td>4.999551e+08</td>\n",
       "      <td>4</td>\n",
       "      <td>POINT (42801.807 24313.960)</td>\n",
       "      <td>1.194033e+08</td>\n",
       "      <td>5.0</td>\n",
       "      <td>0.238828</td>\n",
       "    </tr>\n",
       "  </tbody>\n",
       "</table>\n",
       "</div>"
      ],
      "text/plain": [
       "   total_motor_path  nodeID_x                     geometry  total_bike_path  \\\n",
       "0      5.195248e+08         0  POINT (43319.112 21173.421)     8.207942e+05   \n",
       "1      4.730575e+08         1  POINT (43562.119 20568.580)     5.909887e+05   \n",
       "2      5.119564e+08         2  POINT (42833.132 23900.282)     1.172553e+08   \n",
       "3      5.114591e+08         3  POINT (42843.850 23901.452)     1.174899e+08   \n",
       "4      4.999551e+08         4  POINT (42801.807 24313.960)     1.194033e+08   \n",
       "\n",
       "   nodeID_y        CS  \n",
       "0       0.0  0.001580  \n",
       "1       1.0  0.001249  \n",
       "2       2.0  0.229034  \n",
       "3       3.0  0.229715  \n",
       "4       5.0  0.238828  "
      ]
     },
     "execution_count": 49,
     "metadata": {},
     "output_type": "execute_result"
    }
   ],
   "source": [
    "%%time\n",
    "al_connectivity=node_level_connectivity_score (sf_motor_network,sf_bike_network)\n",
    "al_connectivity.head()"
   ]
  },
  {
   "cell_type": "code",
   "execution_count": 73,
   "id": "3321c9c3",
   "metadata": {},
   "outputs": [
    {
     "data": {
      "text/plain": [
       "count    2.262500e+04\n",
       "mean     4.214173e+08\n",
       "std      8.313953e+07\n",
       "min      3.980806e+00\n",
       "25%      3.789257e+08\n",
       "50%      4.394693e+08\n",
       "75%      4.757259e+08\n",
       "max      5.464480e+08\n",
       "Name: total_motor_path, dtype: float64"
      ]
     },
     "execution_count": 73,
     "metadata": {},
     "output_type": "execute_result"
    }
   ],
   "source": [
    "al_connectivity['total_motor_path'].describe()"
   ]
  },
  {
   "cell_type": "code",
   "execution_count": 50,
   "id": "917e4356",
   "metadata": {},
   "outputs": [
    {
     "data": {
      "text/plain": [
       "(22625, 6)"
      ]
     },
     "execution_count": 50,
     "metadata": {},
     "output_type": "execute_result"
    }
   ],
   "source": [
    "al_connectivity.shape"
   ]
  },
  {
   "cell_type": "code",
   "execution_count": 51,
   "id": "db8c9aa2",
   "metadata": {},
   "outputs": [
    {
     "data": {
      "text/plain": [
       "0.062254931023139476"
      ]
     },
     "execution_count": 51,
     "metadata": {},
     "output_type": "execute_result"
    }
   ],
   "source": [
    "# overall Area Connectivity\n",
    "BMN_Area_CS=al_connectivity['total_bike_path'].sum()/al_connectivity['total_motor_path'].sum()\n",
    "BMN_Area_CS"
   ]
  },
  {
   "cell_type": "code",
   "execution_count": 52,
   "id": "3e952d6f",
   "metadata": {},
   "outputs": [
    {
     "data": {
      "text/plain": [
       "0.0"
      ]
     },
     "execution_count": 52,
     "metadata": {},
     "output_type": "execute_result"
    }
   ],
   "source": [
    "al_connectivity['CS'].median()"
   ]
  },
  {
   "cell_type": "code",
   "execution_count": 53,
   "id": "d600fabb",
   "metadata": {},
   "outputs": [
    {
     "name": "stderr",
     "output_type": "stream",
     "text": [
      "C:\\Users\\mmmiah\\Anaconda3\\envs\\geo_env\\Lib\\site-packages\\pyproj\\crs\\crs.py:141: FutureWarning: '+init=<authority>:<code>' syntax is deprecated. '<authority>:<code>' is the preferred initialization method. When making the change, be mindful of axis order changes: https://pyproj4.github.io/pyproj/stable/gotchas.html#axis-order-changes-in-proj-6\n",
      "  in_crs_string = _prepare_from_proj_string(in_crs_string)\n",
      "C:\\Users\\mmmiah\\AppData\\Local\\Temp\\ipykernel_20688\\1590880229.py:4: UserWarning: Column names longer than 10 characters will be truncated when saved to ESRI Shapefile.\n",
      "  gdf_al.to_file(\"H:/mmmiah/Desktop/Bicycle Connectivity Project/Project-Bicycle Connectivity/Nodel Level Connectivity_results/SF_node_level_connectivity.shp\")\n"
     ]
    }
   ],
   "source": [
    "# Save the SF County node level Connectivity\n",
    "crs = {'init': 'epsg:7131'}\n",
    "gdf_al = gpd.GeoDataFrame(al_connectivity, crs=crs, geometry = 'geometry')\n",
    "gdf_al.to_file(\"H:/mmmiah/Desktop/Bicycle Connectivity Project/Project-Bicycle Connectivity/Nodel Level Connectivity_results/SF_node_level_connectivity.shp\")"
   ]
  },
  {
   "cell_type": "code",
   "execution_count": 54,
   "id": "de59d5c6",
   "metadata": {},
   "outputs": [
    {
     "data": {
      "text/plain": [
       "(247, 18)"
      ]
     },
     "execution_count": 54,
     "metadata": {},
     "output_type": "execute_result"
    }
   ],
   "source": [
    "input_census_tract=census_track2_sf.reset_index()\n",
    "input_census_tract.shape"
   ]
  },
  {
   "cell_type": "code",
   "execution_count": 55,
   "id": "fac95f62",
   "metadata": {},
   "outputs": [],
   "source": [
    "def census_node_level_connectivity_score (sf_connectivity,input_census_tract):\n",
    "    census_score=gpd.sjoin(sf_connectivity,input_census_tract)\n",
    "    census_score1=pd.DataFrame({'Meadian CS':census_score.groupby(['GISJOIN'])['CS'].median()}).reset_index()\n",
    "    census_score2=pd.merge(census_score1,input_census_tract, on=['GISJOIN'], how='inner' )\n",
    "    return census_score2 "
   ]
  },
  {
   "cell_type": "code",
   "execution_count": 56,
   "id": "1bf761ee",
   "metadata": {},
   "outputs": [
    {
     "data": {
      "text/html": [
       "<div>\n",
       "<style scoped>\n",
       "    .dataframe tbody tr th:only-of-type {\n",
       "        vertical-align: middle;\n",
       "    }\n",
       "\n",
       "    .dataframe tbody tr th {\n",
       "        vertical-align: top;\n",
       "    }\n",
       "\n",
       "    .dataframe thead th {\n",
       "        text-align: right;\n",
       "    }\n",
       "</style>\n",
       "<table border=\"1\" class=\"dataframe\">\n",
       "  <thead>\n",
       "    <tr style=\"text-align: right;\">\n",
       "      <th></th>\n",
       "      <th>GISJOIN</th>\n",
       "      <th>Meadian CS</th>\n",
       "      <th>index</th>\n",
       "      <th>STATEFP</th>\n",
       "      <th>COUNTYFP</th>\n",
       "      <th>TRACTCE</th>\n",
       "      <th>GEOID</th>\n",
       "      <th>NAME</th>\n",
       "      <th>NAMELSAD</th>\n",
       "      <th>MTFCC</th>\n",
       "      <th>FUNCSTAT</th>\n",
       "      <th>ALAND</th>\n",
       "      <th>AWATER</th>\n",
       "      <th>INTPTLAT</th>\n",
       "      <th>INTPTLON</th>\n",
       "      <th>Shape_Leng</th>\n",
       "      <th>Shape_Le_1</th>\n",
       "      <th>Shape_Area</th>\n",
       "      <th>geometry</th>\n",
       "    </tr>\n",
       "  </thead>\n",
       "  <tbody>\n",
       "    <tr>\n",
       "      <th>0</th>\n",
       "      <td>G0600750010101</td>\n",
       "      <td>0.0</td>\n",
       "      <td>732</td>\n",
       "      <td>06</td>\n",
       "      <td>075</td>\n",
       "      <td>010101</td>\n",
       "      <td>06075010101</td>\n",
       "      <td>101.01</td>\n",
       "      <td>Census Tract 101.01</td>\n",
       "      <td>G5020</td>\n",
       "      <td>S</td>\n",
       "      <td>696934.0</td>\n",
       "      <td>646917.0</td>\n",
       "      <td>+37.8085195</td>\n",
       "      <td>-122.4095545</td>\n",
       "      <td>21764.654020</td>\n",
       "      <td>12265.133958</td>\n",
       "      <td>638229.374346</td>\n",
       "      <td>POLYGON ((52125.405 30119.193, 52095.465 30115...</td>\n",
       "    </tr>\n",
       "    <tr>\n",
       "      <th>1</th>\n",
       "      <td>G0600750010102</td>\n",
       "      <td>0.0</td>\n",
       "      <td>733</td>\n",
       "      <td>06</td>\n",
       "      <td>075</td>\n",
       "      <td>010102</td>\n",
       "      <td>06075010102</td>\n",
       "      <td>101.02</td>\n",
       "      <td>Census Tract 101.02</td>\n",
       "      <td>G5020</td>\n",
       "      <td>S</td>\n",
       "      <td>79556.0</td>\n",
       "      <td>0.0</td>\n",
       "      <td>+37.8046900</td>\n",
       "      <td>-122.4139437</td>\n",
       "      <td>1202.159619</td>\n",
       "      <td>1202.159619</td>\n",
       "      <td>79555.896086</td>\n",
       "      <td>POLYGON ((51271.673 29972.852, 51238.826 29967...</td>\n",
       "    </tr>\n",
       "    <tr>\n",
       "      <th>2</th>\n",
       "      <td>G0600750010201</td>\n",
       "      <td>0.0</td>\n",
       "      <td>734</td>\n",
       "      <td>06</td>\n",
       "      <td>075</td>\n",
       "      <td>010201</td>\n",
       "      <td>06075010201</td>\n",
       "      <td>102.01</td>\n",
       "      <td>Census Tract 102.01</td>\n",
       "      <td>G5020</td>\n",
       "      <td>S</td>\n",
       "      <td>186873.0</td>\n",
       "      <td>0.0</td>\n",
       "      <td>+37.8013029</td>\n",
       "      <td>-122.4212147</td>\n",
       "      <td>1817.457273</td>\n",
       "      <td>1817.457273</td>\n",
       "      <td>186870.296630</td>\n",
       "      <td>POLYGON ((50812.889 29847.482, 50821.185 29794...</td>\n",
       "    </tr>\n",
       "    <tr>\n",
       "      <th>3</th>\n",
       "      <td>G0600750010202</td>\n",
       "      <td>0.0</td>\n",
       "      <td>735</td>\n",
       "      <td>06</td>\n",
       "      <td>075</td>\n",
       "      <td>010202</td>\n",
       "      <td>06075010202</td>\n",
       "      <td>102.02</td>\n",
       "      <td>Census Tract 102.02</td>\n",
       "      <td>G5020</td>\n",
       "      <td>S</td>\n",
       "      <td>332254.0</td>\n",
       "      <td>295382.0</td>\n",
       "      <td>+37.8106454</td>\n",
       "      <td>-122.4245951</td>\n",
       "      <td>4546.713085</td>\n",
       "      <td>4050.461855</td>\n",
       "      <td>333375.029584</td>\n",
       "      <td>MULTIPOLYGON (((50125.119 30372.719, 50120.802...</td>\n",
       "    </tr>\n",
       "    <tr>\n",
       "      <th>4</th>\n",
       "      <td>G0600750010300</td>\n",
       "      <td>0.0</td>\n",
       "      <td>736</td>\n",
       "      <td>06</td>\n",
       "      <td>075</td>\n",
       "      <td>010300</td>\n",
       "      <td>06075010300</td>\n",
       "      <td>103</td>\n",
       "      <td>Census Tract 103</td>\n",
       "      <td>G5020</td>\n",
       "      <td>S</td>\n",
       "      <td>268261.0</td>\n",
       "      <td>0.0</td>\n",
       "      <td>+37.8016200</td>\n",
       "      <td>-122.4156810</td>\n",
       "      <td>2324.328320</td>\n",
       "      <td>2324.328320</td>\n",
       "      <td>268257.279786</td>\n",
       "      <td>POLYGON ((50922.182 30092.594, 50989.749 30033...</td>\n",
       "    </tr>\n",
       "  </tbody>\n",
       "</table>\n",
       "</div>"
      ],
      "text/plain": [
       "          GISJOIN  Meadian CS  index STATEFP COUNTYFP TRACTCE        GEOID  \\\n",
       "0  G0600750010101         0.0    732      06      075  010101  06075010101   \n",
       "1  G0600750010102         0.0    733      06      075  010102  06075010102   \n",
       "2  G0600750010201         0.0    734      06      075  010201  06075010201   \n",
       "3  G0600750010202         0.0    735      06      075  010202  06075010202   \n",
       "4  G0600750010300         0.0    736      06      075  010300  06075010300   \n",
       "\n",
       "     NAME             NAMELSAD  MTFCC FUNCSTAT     ALAND    AWATER  \\\n",
       "0  101.01  Census Tract 101.01  G5020        S  696934.0  646917.0   \n",
       "1  101.02  Census Tract 101.02  G5020        S   79556.0       0.0   \n",
       "2  102.01  Census Tract 102.01  G5020        S  186873.0       0.0   \n",
       "3  102.02  Census Tract 102.02  G5020        S  332254.0  295382.0   \n",
       "4     103     Census Tract 103  G5020        S  268261.0       0.0   \n",
       "\n",
       "      INTPTLAT      INTPTLON    Shape_Leng    Shape_Le_1     Shape_Area  \\\n",
       "0  +37.8085195  -122.4095545  21764.654020  12265.133958  638229.374346   \n",
       "1  +37.8046900  -122.4139437   1202.159619   1202.159619   79555.896086   \n",
       "2  +37.8013029  -122.4212147   1817.457273   1817.457273  186870.296630   \n",
       "3  +37.8106454  -122.4245951   4546.713085   4050.461855  333375.029584   \n",
       "4  +37.8016200  -122.4156810   2324.328320   2324.328320  268257.279786   \n",
       "\n",
       "                                            geometry  \n",
       "0  POLYGON ((52125.405 30119.193, 52095.465 30115...  \n",
       "1  POLYGON ((51271.673 29972.852, 51238.826 29967...  \n",
       "2  POLYGON ((50812.889 29847.482, 50821.185 29794...  \n",
       "3  MULTIPOLYGON (((50125.119 30372.719, 50120.802...  \n",
       "4  POLYGON ((50922.182 30092.594, 50989.749 30033...  "
      ]
     },
     "execution_count": 56,
     "metadata": {},
     "output_type": "execute_result"
    }
   ],
   "source": [
    "# save the results by Census Tract\n",
    "CS_median=census_node_level_connectivity_score (al_connectivity,input_census_tract)\n",
    "CS_median.head()"
   ]
  },
  {
   "cell_type": "code",
   "execution_count": 57,
   "id": "83cb5ecc",
   "metadata": {},
   "outputs": [
    {
     "name": "stderr",
     "output_type": "stream",
     "text": [
      "C:\\Users\\mmmiah\\Anaconda3\\envs\\geo_env\\Lib\\site-packages\\pyproj\\crs\\crs.py:141: FutureWarning: '+init=<authority>:<code>' syntax is deprecated. '<authority>:<code>' is the preferred initialization method. When making the change, be mindful of axis order changes: https://pyproj4.github.io/pyproj/stable/gotchas.html#axis-order-changes-in-proj-6\n",
      "  in_crs_string = _prepare_from_proj_string(in_crs_string)\n"
     ]
    }
   ],
   "source": [
    "# Import the node Connectivity\n",
    "crs = {'init': 'epsg:7131'}\n",
    "CS_median1 = gpd.GeoDataFrame(CS_median, crs=crs, geometry = 'geometry')\n",
    "CS_median1.to_file(\"H:/mmmiah/Desktop/Bicycle Connectivity Project/Project-Bicycle Connectivity/Nodel Level Connectivity_results/SF_level_Median_BMN_CS.shp\")"
   ]
  },
  {
   "cell_type": "markdown",
   "id": "1c4c6cfe",
   "metadata": {},
   "source": [
    "# Assign the Grade of the Connectivity for Bike Network-micro connectivity"
   ]
  },
  {
   "cell_type": "code",
   "execution_count": 58,
   "id": "13e28509",
   "metadata": {},
   "outputs": [
    {
     "data": {
      "text/plain": [
       "cs_ranking\n",
       "fairly connected      1\n",
       "poorly connected    246\n",
       "Name: GISJOIN, dtype: int64"
      ]
     },
     "execution_count": 58,
     "metadata": {},
     "output_type": "execute_result"
    }
   ],
   "source": [
    "#m=gpd.read_file(\"H:/mmmiah/Desktop/Bicycle Connectivity Project/Project-Bicycle Connectivity/Nodel Level Connectivity_results/Marin_Census_level_Median_BMN_CS.shp\")\n",
    "CS_median['cs_ranking']=CS_median.apply(lambda row:count_census_block(row['Meadian CS']),axis=1 )\n",
    "# Now count the census tract for Bay area by cs ranking\n",
    "CS_median.groupby(['cs_ranking'])['GISJOIN'].count()"
   ]
  },
  {
   "cell_type": "markdown",
   "id": "0bd93e6c",
   "metadata": {},
   "source": [
    "# Assign the Grade of the Connectivity for Bike Network-macro connectivity"
   ]
  },
  {
   "cell_type": "code",
   "execution_count": 59,
   "id": "5dd16b13",
   "metadata": {},
   "outputs": [
    {
     "data": {
      "text/plain": [
       "cs_ranking\n",
       "poorly connected    247\n",
       "Name: GISJOIN, dtype: int64"
      ]
     },
     "execution_count": 59,
     "metadata": {},
     "output_type": "execute_result"
    }
   ],
   "source": [
    "# Join the nodel level shortest path results with census tract\n",
    "AC=gpd.sjoin(al_connectivity,input_census_tract)\n",
    "# aggregrate total bike path by census tract\n",
    "AC1=pd.DataFrame({'total_bike_path':AC.groupby(['GISJOIN'])['total_bike_path'].sum()}).reset_index()\n",
    "# aggregrate total motor path by census tract\n",
    "AC2=pd.DataFrame({'total_motor_path':AC.groupby(['GISJOIN'])['total_motor_path'].sum()}).reset_index()\n",
    "# join total bike and motor path processing data by census tract GISJOIN id\n",
    "ACS=pd.merge(AC1, AC2, on=['GISJOIN'], how='inner')\n",
    "# calculate area connectivity by each census tract\n",
    "ACS['ACS']=ACS['total_bike_path']/ACS['total_motor_path']\n",
    "# assigm the grade of the census tract\n",
    "ACS['cs_ranking']=ACS.apply(lambda row:count_census_block(row['ACS']),axis=1 )\n",
    "# Now count the census tract for Bay area by cs ranking\n",
    "ACS.groupby(['cs_ranking'])['GISJOIN'].count()"
   ]
  },
  {
   "cell_type": "markdown",
   "id": "f30bbd0a",
   "metadata": {},
   "source": [
    "# Calculate Low Stress Network Connectivity"
   ]
  },
  {
   "cell_type": "code",
   "execution_count": 60,
   "id": "383654ff",
   "metadata": {},
   "outputs": [
    {
     "data": {
      "text/plain": [
       "<AxesSubplot: >"
      ]
     },
     "execution_count": 60,
     "metadata": {},
     "output_type": "execute_result"
    },
    {
     "data": {
      "image/png": "[encoded data removed]",
      "text/plain": [
       "<Figure size 800x800 with 1 Axes>"
      ]
     },
     "metadata": {},
     "output_type": "display_data"
    }
   ],
   "source": [
    "fig, ax = plt.subplots(figsize = (8,8)) \n",
    "census_track2_sf.plot(ax=ax,color=\"green\",edgecolor='k')\n",
    "sf_lts.geometry.plot(color=\"red\",edgecolor='k',ax=ax)"
   ]
  },
  {
   "cell_type": "code",
   "execution_count": null,
   "id": "4c73060f",
   "metadata": {},
   "outputs": [],
   "source": [
    "# Split the network as low network to get the connectivity \n",
    "sf_motor_network_op2=sf_motor_network\n",
    "sf_low_stress_network_op2=sf_lts.loc[sf_lts['FT_SEG_STR']<3]"
   ]
  },
  {
   "cell_type": "code",
   "execution_count": 62,
   "id": "474e170b",
   "metadata": {},
   "outputs": [
    {
     "data": {
      "text/plain": [
       "FT_SEG_STR\n",
       "1    785.685502\n",
       "2      3.459293\n",
       "Name: length, dtype: float64"
      ]
     },
     "execution_count": 62,
     "metadata": {},
     "output_type": "execute_result"
    }
   ],
   "source": [
    "sf_low_stress_network_op2.groupby(['FT_SEG_STR'])['length'].sum()*0.000621371"
   ]
  },
  {
   "cell_type": "code",
   "execution_count": 63,
   "id": "28ebc644",
   "metadata": {},
   "outputs": [
    {
     "data": {
      "text/plain": [
       "789.1447958661956"
      ]
     },
     "execution_count": 63,
     "metadata": {},
     "output_type": "execute_result"
    }
   ],
   "source": [
    "sf_low_stress_network_op2['length'].sum()*0.000621371"
   ]
  },
  {
   "cell_type": "code",
   "execution_count": 64,
   "id": "a8502692",
   "metadata": {},
   "outputs": [
    {
     "name": "stderr",
     "output_type": "stream",
     "text": [
      "C:\\Users\\mmmiah\\Anaconda3\\envs\\geo_env\\Lib\\site-packages\\pyproj\\crs\\crs.py:141: FutureWarning: '+init=<authority>:<code>' syntax is deprecated. '<authority>:<code>' is the preferred initialization method. When making the change, be mindful of axis order changes: https://pyproj4.github.io/pyproj/stable/gotchas.html#axis-order-changes-in-proj-6\n",
      "  in_crs_string = _prepare_from_proj_string(in_crs_string)\n",
      "C:\\Users\\mmmiah\\AppData\\Local\\Temp\\ipykernel_20688\\160278252.py:4: UserWarning: Column names longer than 10 characters will be truncated when saved to ESRI Shapefile.\n",
      "  sf_lsn.to_file(\"H:/mmmiah/Desktop/Bicycle Connectivity Project/Project-Bicycle Connectivity/Nodel Level Connectivity_results/SF_low_stress_network.shp\")\n"
     ]
    }
   ],
   "source": [
    "# save the low Stress network\n",
    "crs = {'init': 'epsg:7131'}\n",
    "sf_lsn = gpd.GeoDataFrame(sf_low_stress_network_op2, crs=crs, geometry = 'geometry')\n",
    "sf_lsn.to_file(\"H:/mmmiah/Desktop/Bicycle Connectivity Project/Project-Bicycle Connectivity/Nodel Level Connectivity_results/SF_low_stress_network.shp\")"
   ]
  },
  {
   "cell_type": "code",
   "execution_count": 65,
   "id": "9f9d7b79",
   "metadata": {},
   "outputs": [
    {
     "name": "stderr",
     "output_type": "stream",
     "text": [
      "C:\\Users\\mmmiah\\AppData\\Local\\Temp\\ipykernel_20688\\4180809354.py:3: FutureWarning: Currently, index_parts defaults to True, but in the future, it will default to False to be consistent with Pandas. Use `index_parts=True` to keep the current behavior and True/False to silence the warning.\n",
      "  sf_lts_motor_g=gpd.GeoDataFrame.explode(sf_motor_network)\n",
      "C:\\Users\\mmmiah\\AppData\\Local\\Temp\\ipykernel_20688\\4180809354.py:21: FutureWarning: Currently, index_parts defaults to True, but in the future, it will default to False to be consistent with Pandas. Use `index_parts=True` to keep the current behavior and True/False to silence the warning.\n",
      "  sf_lts_bike_g=gpd.GeoDataFrame.explode(sf_bike_network)\n"
     ]
    },
    {
     "name": "stdout",
     "output_type": "stream",
     "text": [
      "CPU times: total: 1h 3min 47s\n",
      "Wall time: 1h 3min 48s\n"
     ]
    },
    {
     "data": {
      "text/html": [
       "<div>\n",
       "<style scoped>\n",
       "    .dataframe tbody tr th:only-of-type {\n",
       "        vertical-align: middle;\n",
       "    }\n",
       "\n",
       "    .dataframe tbody tr th {\n",
       "        vertical-align: top;\n",
       "    }\n",
       "\n",
       "    .dataframe thead th {\n",
       "        text-align: right;\n",
       "    }\n",
       "</style>\n",
       "<table border=\"1\" class=\"dataframe\">\n",
       "  <thead>\n",
       "    <tr style=\"text-align: right;\">\n",
       "      <th></th>\n",
       "      <th>total_motor_path</th>\n",
       "      <th>nodeID_x</th>\n",
       "      <th>geometry</th>\n",
       "      <th>total_bike_path</th>\n",
       "      <th>nodeID_y</th>\n",
       "      <th>CS</th>\n",
       "    </tr>\n",
       "  </thead>\n",
       "  <tbody>\n",
       "    <tr>\n",
       "      <th>0</th>\n",
       "      <td>5.195248e+08</td>\n",
       "      <td>0</td>\n",
       "      <td>POINT (43319.112 21173.421)</td>\n",
       "      <td>0.000000e+00</td>\n",
       "      <td>0.0</td>\n",
       "      <td>0.000000</td>\n",
       "    </tr>\n",
       "    <tr>\n",
       "      <th>1</th>\n",
       "      <td>4.730575e+08</td>\n",
       "      <td>1</td>\n",
       "      <td>POINT (43562.119 20568.580)</td>\n",
       "      <td>0.000000e+00</td>\n",
       "      <td>0.0</td>\n",
       "      <td>0.000000</td>\n",
       "    </tr>\n",
       "    <tr>\n",
       "      <th>2</th>\n",
       "      <td>5.119564e+08</td>\n",
       "      <td>2</td>\n",
       "      <td>POINT (42833.132 23900.282)</td>\n",
       "      <td>1.645888e+08</td>\n",
       "      <td>0.0</td>\n",
       "      <td>0.321490</td>\n",
       "    </tr>\n",
       "    <tr>\n",
       "      <th>3</th>\n",
       "      <td>5.114591e+08</td>\n",
       "      <td>3</td>\n",
       "      <td>POINT (42843.850 23901.452)</td>\n",
       "      <td>1.651599e+08</td>\n",
       "      <td>1.0</td>\n",
       "      <td>0.322919</td>\n",
       "    </tr>\n",
       "    <tr>\n",
       "      <th>4</th>\n",
       "      <td>4.999551e+08</td>\n",
       "      <td>4</td>\n",
       "      <td>POINT (42801.807 24313.960)</td>\n",
       "      <td>1.710892e+08</td>\n",
       "      <td>3.0</td>\n",
       "      <td>0.342209</td>\n",
       "    </tr>\n",
       "  </tbody>\n",
       "</table>\n",
       "</div>"
      ],
      "text/plain": [
       "   total_motor_path  nodeID_x                     geometry  total_bike_path  \\\n",
       "0      5.195248e+08         0  POINT (43319.112 21173.421)     0.000000e+00   \n",
       "1      4.730575e+08         1  POINT (43562.119 20568.580)     0.000000e+00   \n",
       "2      5.119564e+08         2  POINT (42833.132 23900.282)     1.645888e+08   \n",
       "3      5.114591e+08         3  POINT (42843.850 23901.452)     1.651599e+08   \n",
       "4      4.999551e+08         4  POINT (42801.807 24313.960)     1.710892e+08   \n",
       "\n",
       "   nodeID_y        CS  \n",
       "0       0.0  0.000000  \n",
       "1       0.0  0.000000  \n",
       "2       0.0  0.321490  \n",
       "3       1.0  0.322919  \n",
       "4       3.0  0.342209  "
      ]
     },
     "execution_count": 65,
     "metadata": {},
     "output_type": "execute_result"
    }
   ],
   "source": [
    "%%time\n",
    "node_level_MLN_CS= node_level_connectivity_score(sf_motor_network_op2,sf_low_stress_network_op2)\n",
    "node_level_MLN_CS.head()"
   ]
  },
  {
   "cell_type": "code",
   "execution_count": 66,
   "id": "3f61eed4",
   "metadata": {},
   "outputs": [
    {
     "data": {
      "text/plain": [
       "0.18022122406431057"
      ]
     },
     "execution_count": 66,
     "metadata": {},
     "output_type": "execute_result"
    }
   ],
   "source": [
    "# overall Area Connectivity\n",
    "LMN_Area_CS=node_level_MLN_CS['total_bike_path'].sum()/node_level_MLN_CS['total_motor_path'].sum()\n",
    "LMN_Area_CS"
   ]
  },
  {
   "cell_type": "code",
   "execution_count": 67,
   "id": "39bc9b11",
   "metadata": {},
   "outputs": [
    {
     "data": {
      "text/plain": [
       "0.02781686470246881"
      ]
     },
     "execution_count": 67,
     "metadata": {},
     "output_type": "execute_result"
    }
   ],
   "source": [
    "node_level_MLN_CS['CS'].median()"
   ]
  },
  {
   "cell_type": "code",
   "execution_count": 68,
   "id": "dadbd174",
   "metadata": {},
   "outputs": [
    {
     "name": "stderr",
     "output_type": "stream",
     "text": [
      "C:\\Users\\mmmiah\\Anaconda3\\envs\\geo_env\\Lib\\site-packages\\pyproj\\crs\\crs.py:141: FutureWarning: '+init=<authority>:<code>' syntax is deprecated. '<authority>:<code>' is the preferred initialization method. When making the change, be mindful of axis order changes: https://pyproj4.github.io/pyproj/stable/gotchas.html#axis-order-changes-in-proj-6\n",
      "  in_crs_string = _prepare_from_proj_string(in_crs_string)\n",
      "C:\\Users\\mmmiah\\AppData\\Local\\Temp\\ipykernel_20688\\415884777.py:4: UserWarning: Column names longer than 10 characters will be truncated when saved to ESRI Shapefile.\n",
      "  sfcs1.to_file(\"H:/mmmiah/Desktop/Bicycle Connectivity Project/Project-Bicycle Connectivity/Nodel Level Connectivity_results/SF_node_level_LMN_CS.shp\")\n"
     ]
    }
   ],
   "source": [
    "# Import the node Connectivity\n",
    "crs = {'init': 'epsg:7131'}\n",
    "sfcs1 = gpd.GeoDataFrame(node_level_MLN_CS, crs=crs, geometry = 'geometry')\n",
    "sfcs1.to_file(\"H:/mmmiah/Desktop/Bicycle Connectivity Project/Project-Bicycle Connectivity/Nodel Level Connectivity_results/SF_node_level_LMN_CS.shp\")"
   ]
  },
  {
   "cell_type": "code",
   "execution_count": 69,
   "id": "edd90248",
   "metadata": {},
   "outputs": [
    {
     "data": {
      "text/html": [
       "<div>\n",
       "<style scoped>\n",
       "    .dataframe tbody tr th:only-of-type {\n",
       "        vertical-align: middle;\n",
       "    }\n",
       "\n",
       "    .dataframe tbody tr th {\n",
       "        vertical-align: top;\n",
       "    }\n",
       "\n",
       "    .dataframe thead th {\n",
       "        text-align: right;\n",
       "    }\n",
       "</style>\n",
       "<table border=\"1\" class=\"dataframe\">\n",
       "  <thead>\n",
       "    <tr style=\"text-align: right;\">\n",
       "      <th></th>\n",
       "      <th>GISJOIN</th>\n",
       "      <th>Meadian CS</th>\n",
       "      <th>index</th>\n",
       "      <th>STATEFP</th>\n",
       "      <th>COUNTYFP</th>\n",
       "      <th>TRACTCE</th>\n",
       "      <th>GEOID</th>\n",
       "      <th>NAME</th>\n",
       "      <th>NAMELSAD</th>\n",
       "      <th>MTFCC</th>\n",
       "      <th>FUNCSTAT</th>\n",
       "      <th>ALAND</th>\n",
       "      <th>AWATER</th>\n",
       "      <th>INTPTLAT</th>\n",
       "      <th>INTPTLON</th>\n",
       "      <th>Shape_Leng</th>\n",
       "      <th>Shape_Le_1</th>\n",
       "      <th>Shape_Area</th>\n",
       "      <th>geometry</th>\n",
       "    </tr>\n",
       "  </thead>\n",
       "  <tbody>\n",
       "    <tr>\n",
       "      <th>0</th>\n",
       "      <td>G0600750010101</td>\n",
       "      <td>0.417752</td>\n",
       "      <td>732</td>\n",
       "      <td>06</td>\n",
       "      <td>075</td>\n",
       "      <td>010101</td>\n",
       "      <td>06075010101</td>\n",
       "      <td>101.01</td>\n",
       "      <td>Census Tract 101.01</td>\n",
       "      <td>G5020</td>\n",
       "      <td>S</td>\n",
       "      <td>696934.0</td>\n",
       "      <td>646917.0</td>\n",
       "      <td>+37.8085195</td>\n",
       "      <td>-122.4095545</td>\n",
       "      <td>21764.654020</td>\n",
       "      <td>12265.133958</td>\n",
       "      <td>638229.374346</td>\n",
       "      <td>POLYGON ((52125.405 30119.193, 52095.465 30115...</td>\n",
       "    </tr>\n",
       "    <tr>\n",
       "      <th>1</th>\n",
       "      <td>G0600750010102</td>\n",
       "      <td>0.421205</td>\n",
       "      <td>733</td>\n",
       "      <td>06</td>\n",
       "      <td>075</td>\n",
       "      <td>010102</td>\n",
       "      <td>06075010102</td>\n",
       "      <td>101.02</td>\n",
       "      <td>Census Tract 101.02</td>\n",
       "      <td>G5020</td>\n",
       "      <td>S</td>\n",
       "      <td>79556.0</td>\n",
       "      <td>0.0</td>\n",
       "      <td>+37.8046900</td>\n",
       "      <td>-122.4139437</td>\n",
       "      <td>1202.159619</td>\n",
       "      <td>1202.159619</td>\n",
       "      <td>79555.896086</td>\n",
       "      <td>POLYGON ((51271.673 29972.852, 51238.826 29967...</td>\n",
       "    </tr>\n",
       "    <tr>\n",
       "      <th>2</th>\n",
       "      <td>G0600750010201</td>\n",
       "      <td>0.405905</td>\n",
       "      <td>734</td>\n",
       "      <td>06</td>\n",
       "      <td>075</td>\n",
       "      <td>010201</td>\n",
       "      <td>06075010201</td>\n",
       "      <td>102.01</td>\n",
       "      <td>Census Tract 102.01</td>\n",
       "      <td>G5020</td>\n",
       "      <td>S</td>\n",
       "      <td>186873.0</td>\n",
       "      <td>0.0</td>\n",
       "      <td>+37.8013029</td>\n",
       "      <td>-122.4212147</td>\n",
       "      <td>1817.457273</td>\n",
       "      <td>1817.457273</td>\n",
       "      <td>186870.296630</td>\n",
       "      <td>POLYGON ((50812.889 29847.482, 50821.185 29794...</td>\n",
       "    </tr>\n",
       "    <tr>\n",
       "      <th>3</th>\n",
       "      <td>G0600750010202</td>\n",
       "      <td>0.397366</td>\n",
       "      <td>735</td>\n",
       "      <td>06</td>\n",
       "      <td>075</td>\n",
       "      <td>010202</td>\n",
       "      <td>06075010202</td>\n",
       "      <td>102.02</td>\n",
       "      <td>Census Tract 102.02</td>\n",
       "      <td>G5020</td>\n",
       "      <td>S</td>\n",
       "      <td>332254.0</td>\n",
       "      <td>295382.0</td>\n",
       "      <td>+37.8106454</td>\n",
       "      <td>-122.4245951</td>\n",
       "      <td>4546.713085</td>\n",
       "      <td>4050.461855</td>\n",
       "      <td>333375.029584</td>\n",
       "      <td>MULTIPOLYGON (((50125.119 30372.719, 50120.802...</td>\n",
       "    </tr>\n",
       "    <tr>\n",
       "      <th>4</th>\n",
       "      <td>G0600750010300</td>\n",
       "      <td>0.421520</td>\n",
       "      <td>736</td>\n",
       "      <td>06</td>\n",
       "      <td>075</td>\n",
       "      <td>010300</td>\n",
       "      <td>06075010300</td>\n",
       "      <td>103</td>\n",
       "      <td>Census Tract 103</td>\n",
       "      <td>G5020</td>\n",
       "      <td>S</td>\n",
       "      <td>268261.0</td>\n",
       "      <td>0.0</td>\n",
       "      <td>+37.8016200</td>\n",
       "      <td>-122.4156810</td>\n",
       "      <td>2324.328320</td>\n",
       "      <td>2324.328320</td>\n",
       "      <td>268257.279786</td>\n",
       "      <td>POLYGON ((50922.182 30092.594, 50989.749 30033...</td>\n",
       "    </tr>\n",
       "  </tbody>\n",
       "</table>\n",
       "</div>"
      ],
      "text/plain": [
       "          GISJOIN  Meadian CS  index STATEFP COUNTYFP TRACTCE        GEOID  \\\n",
       "0  G0600750010101    0.417752    732      06      075  010101  06075010101   \n",
       "1  G0600750010102    0.421205    733      06      075  010102  06075010102   \n",
       "2  G0600750010201    0.405905    734      06      075  010201  06075010201   \n",
       "3  G0600750010202    0.397366    735      06      075  010202  06075010202   \n",
       "4  G0600750010300    0.421520    736      06      075  010300  06075010300   \n",
       "\n",
       "     NAME             NAMELSAD  MTFCC FUNCSTAT     ALAND    AWATER  \\\n",
       "0  101.01  Census Tract 101.01  G5020        S  696934.0  646917.0   \n",
       "1  101.02  Census Tract 101.02  G5020        S   79556.0       0.0   \n",
       "2  102.01  Census Tract 102.01  G5020        S  186873.0       0.0   \n",
       "3  102.02  Census Tract 102.02  G5020        S  332254.0  295382.0   \n",
       "4     103     Census Tract 103  G5020        S  268261.0       0.0   \n",
       "\n",
       "      INTPTLAT      INTPTLON    Shape_Leng    Shape_Le_1     Shape_Area  \\\n",
       "0  +37.8085195  -122.4095545  21764.654020  12265.133958  638229.374346   \n",
       "1  +37.8046900  -122.4139437   1202.159619   1202.159619   79555.896086   \n",
       "2  +37.8013029  -122.4212147   1817.457273   1817.457273  186870.296630   \n",
       "3  +37.8106454  -122.4245951   4546.713085   4050.461855  333375.029584   \n",
       "4  +37.8016200  -122.4156810   2324.328320   2324.328320  268257.279786   \n",
       "\n",
       "                                            geometry  \n",
       "0  POLYGON ((52125.405 30119.193, 52095.465 30115...  \n",
       "1  POLYGON ((51271.673 29972.852, 51238.826 29967...  \n",
       "2  POLYGON ((50812.889 29847.482, 50821.185 29794...  \n",
       "3  MULTIPOLYGON (((50125.119 30372.719, 50120.802...  \n",
       "4  POLYGON ((50922.182 30092.594, 50989.749 30033...  "
      ]
     },
     "execution_count": 69,
     "metadata": {},
     "output_type": "execute_result"
    }
   ],
   "source": [
    "CS_median1=census_node_level_connectivity_score (node_level_MLN_CS,input_census_tract)\n",
    "CS_median1.head()"
   ]
  },
  {
   "cell_type": "code",
   "execution_count": 70,
   "id": "c2b6ba7f",
   "metadata": {},
   "outputs": [
    {
     "name": "stderr",
     "output_type": "stream",
     "text": [
      "C:\\Users\\mmmiah\\Anaconda3\\envs\\geo_env\\Lib\\site-packages\\pyproj\\crs\\crs.py:141: FutureWarning: '+init=<authority>:<code>' syntax is deprecated. '<authority>:<code>' is the preferred initialization method. When making the change, be mindful of axis order changes: https://pyproj4.github.io/pyproj/stable/gotchas.html#axis-order-changes-in-proj-6\n",
      "  in_crs_string = _prepare_from_proj_string(in_crs_string)\n"
     ]
    }
   ],
   "source": [
    "# Import the node Connectivity\n",
    "crs = {'init': 'epsg:7131'}\n",
    "CS_median2 = gpd.GeoDataFrame(CS_median1, crs=crs, geometry = 'geometry')\n",
    "CS_median2.to_file(\"H:/mmmiah/Desktop/Bicycle Connectivity Project/Project-Bicycle Connectivity/Nodel Level Connectivity_results/SF_census_level_LMN_CS.shp\")"
   ]
  },
  {
   "cell_type": "markdown",
   "id": "843f06f5",
   "metadata": {},
   "source": [
    "# Assign the Grade of the Connectivity for low Stress Network-micro connectivity"
   ]
  },
  {
   "cell_type": "code",
   "execution_count": 71,
   "id": "93d8eaf0",
   "metadata": {},
   "outputs": [
    {
     "data": {
      "text/plain": [
       "cs_ranking\n",
       "fairly connected    111\n",
       "poorly connected    136\n",
       "Name: GISJOIN, dtype: int64"
      ]
     },
     "execution_count": 71,
     "metadata": {},
     "output_type": "execute_result"
    }
   ],
   "source": [
    "#mrl=gpd.read_file(\"H:/mmmiah/Desktop/Bicycle Connectivity Project/Project-Bicycle Connectivity/Nodel Level Connectivity_results/Marin_census_level_LMN_CS.shp\")\n",
    "CS_median1 ['cs_ranking']=CS_median1 .apply(lambda row:count_census_block(row['Meadian CS']),axis=1 )\n",
    "# Now count the census tract for Bay area by cs ranking\n",
    "CS_median1.groupby(['cs_ranking'])['GISJOIN'].count()"
   ]
  },
  {
   "cell_type": "markdown",
   "id": "378b426f",
   "metadata": {},
   "source": [
    "# Assign the Grade of the Connectivity for low stress Network-macro connectivity"
   ]
  },
  {
   "cell_type": "code",
   "execution_count": 72,
   "id": "4c98f8f0",
   "metadata": {},
   "outputs": [
    {
     "data": {
      "text/plain": [
       "cs_ranking\n",
       "fairly connected     65\n",
       "poorly connected    182\n",
       "Name: GISJOIN, dtype: int64"
      ]
     },
     "execution_count": 72,
     "metadata": {},
     "output_type": "execute_result"
    }
   ],
   "source": [
    "# Join the nodel level shortest path results with census tract\n",
    "AC=gpd.sjoin(node_level_MLN_CS,input_census_tract)\n",
    "# aggregrate total bike path by census tract\n",
    "AC1=pd.DataFrame({'total_bike_path':AC.groupby(['GISJOIN'])['total_bike_path'].sum()}).reset_index()\n",
    "# aggregrate total motor path by census tract\n",
    "AC2=pd.DataFrame({'total_motor_path':AC.groupby(['GISJOIN'])['total_motor_path'].sum()}).reset_index()\n",
    "# join total bike and motor path processing data by census tract GISJOIN id\n",
    "ACS=pd.merge(AC1, AC2, on=['GISJOIN'], how='inner')\n",
    "# calculate area connectivity by each census tract\n",
    "ACS['ACS']=ACS['total_bike_path']/ACS['total_motor_path']\n",
    "# assigm the grade of the census tract\n",
    "ACS['cs_ranking']=ACS.apply(lambda row:count_census_block(row['ACS']),axis=1 )\n",
    "# Now count the census tract for Bay area by cs ranking\n",
    "ACS.groupby(['cs_ranking'])['GISJOIN'].count()"
   ]
  },
  {
   "cell_type": "markdown",
   "id": "e8cf40d9",
   "metadata": {},
   "source": [
    "# end of the Code"
   ]
  },
  {
   "cell_type": "markdown",
   "id": "c1901b08",
   "metadata": {},
   "source": [
    "## Degree"
   ]
  },
  {
   "cell_type": "code",
   "execution_count": 152,
   "id": "80eee6e4",
   "metadata": {},
   "outputs": [
    {
     "name": "stdout",
     "output_type": "stream",
     "text": [
      "min_dc: 1\n",
      "mean_dc: 2.02996348986529\n",
      "max_dc: 5\n",
      "std_dc: 0.6123974851106656\n",
      "CPU times: total: 719 ms\n",
      "Wall time: 719 ms\n"
     ]
    }
   ],
   "source": [
    "%%time\n",
    "# Lets check the degree centrality for bike network \n",
    "from numpy import array\n",
    "bn_d=gpd.GeoDataFrame.explode(sf_bike_network)\n",
    "bn_d1 =momepy.gdf_to_nx(bn_d, approach='primal')\n",
    "degreeb = dict(nx.degree(bn_d1))\n",
    "nx.set_node_attributes(bn_d1, degreeb, 'degree')\n",
    "print('min_dc:', array([degreeb[k] for k in degreeb]).min())\n",
    "print('mean_dc:',array([degreeb[k] for k in degreeb]).mean())\n",
    "print('max_dc:',array([degreeb[k] for k in degreeb]).max())\n",
    "print('std_dc:',array([degreeb[k] for k in degreeb]).std())"
   ]
  },
  {
   "cell_type": "code",
   "execution_count": 146,
   "id": "74c37a48",
   "metadata": {},
   "outputs": [],
   "source": [
    "nodes_sf, edges_sf = momepy.nx_to_gdf(bn_d1)\n",
    "#edges_SF_Bike=edges_sf.drop(['geometry_x', 'start_lon', 'start_lat', 'starting_ele','geometry_y', 'end_lon', 'end_lat','starting point', 'ending point',],axis=1)\n",
    "nodes_sf.to_file(\"H:/mmmiah/Desktop/Bicycle Connectivity Project/Project-Bicycle Connectivity/Advanced_Graph Theory for SF/degree_nodes_SF_Bike_Network.shp\")\n",
    "edges_sf.to_file(\"H:/mmmiah/Desktop/Bicycle Connectivity Project/Project-Bicycle Connectivity/Advanced_Graph Theory for SF/edges_SF_Bike_Network.shp\")"
   ]
  },
  {
   "cell_type": "code",
   "execution_count": 147,
   "id": "cb96ae31",
   "metadata": {},
   "outputs": [
    {
     "data": {
      "text/plain": [
       "degree\n",
       "1    1101\n",
       "2    5763\n",
       "3     832\n",
       "4     234\n",
       "5      13\n",
       "Name: nodeID, dtype: int64"
      ]
     },
     "execution_count": 147,
     "metadata": {},
     "output_type": "execute_result"
    }
   ],
   "source": [
    "nodes_sf.groupby(['degree'])['nodeID'].count()"
   ]
  },
  {
   "cell_type": "code",
   "execution_count": 151,
   "id": "9ac6002d",
   "metadata": {},
   "outputs": [
    {
     "name": "stdout",
     "output_type": "stream",
     "text": [
      "min_dc: 1\n",
      "mean_dc: 2.207009788443322\n",
      "max_dc: 6\n",
      "std_dc: 0.8848948857665953\n",
      "CPU times: total: 1.61 s\n",
      "Wall time: 1.6 s\n"
     ]
    }
   ],
   "source": [
    "%%time\n",
    "# Lets check the degree centrality for low Stress network \n",
    "from numpy import array\n",
    "bn_ls=gpd.GeoDataFrame.explode(sf_low_stress_network_op2)\n",
    "bn_ls1 =momepy.gdf_to_nx(bn_ls, approach='primal')\n",
    "degreel = dict(nx.degree(bn_ls1))\n",
    "nx.set_node_attributes(bn_ls1, degreel, 'degree')\n",
    "print('min_dc:', array([degreel[k] for k in degreel]).min())\n",
    "print('mean_dc:',array([degreel[k] for k in degreel]).mean())\n",
    "print('max_dc:',array([degreel[k] for k in degreel]).max())\n",
    "print('std_dc:',array([degreel[k] for k in degreel]).std())"
   ]
  },
  {
   "cell_type": "code",
   "execution_count": 148,
   "id": "c83d19a2",
   "metadata": {},
   "outputs": [],
   "source": [
    "nodes_sf, edges_sf = momepy.nx_to_gdf(bn_ls1)\n",
    "#edges_SF_Bike=edges_sf.drop(['geometry_x', 'start_lon', 'start_lat', 'starting_ele','geometry_y', 'end_lon', 'end_lat','starting point', 'ending point',],axis=1)\n",
    "nodes_sf.to_file(\"H:/mmmiah/Desktop/Bicycle Connectivity Project/Project-Bicycle Connectivity/Advanced_Graph Theory for SF/degree_nodes_SF_ls_Network.shp\")\n",
    "edges_sf.to_file(\"H:/mmmiah/Desktop/Bicycle Connectivity Project/Project-Bicycle Connectivity/Advanced_Graph Theory for SF/edges_SF_ls_Network.shp\")"
   ]
  },
  {
   "cell_type": "code",
   "execution_count": 149,
   "id": "1c61ce59",
   "metadata": {},
   "outputs": [
    {
     "data": {
      "text/plain": [
       "degree\n",
       "1    3030\n",
       "2    8319\n",
       "3    2710\n",
       "4    1732\n",
       "5      42\n",
       "6       2\n",
       "Name: nodeID, dtype: int64"
      ]
     },
     "execution_count": 149,
     "metadata": {},
     "output_type": "execute_result"
    }
   ],
   "source": [
    "nodes_sf.groupby(['degree'])['nodeID'].count()"
   ]
  },
  {
   "cell_type": "markdown",
   "id": "25936de2",
   "metadata": {},
   "source": [
    "# Eigenvector Centrality"
   ]
  },
  {
   "cell_type": "markdown",
   "id": "df8e06a8",
   "metadata": {},
   "source": [
    "# For bike Network"
   ]
  },
  {
   "cell_type": "code",
   "execution_count": 154,
   "id": "6d11d1eb",
   "metadata": {},
   "outputs": [
    {
     "name": "stdout",
     "output_type": "stream",
     "text": [
      "CPU times: total: 5min 3s\n",
      "Wall time: 5min 3s\n"
     ]
    }
   ],
   "source": [
    "%%time\n",
    "D = ox.utils_graph.get_digraph(bn_d1, weight=\"impedance_of_link\")\n",
    "Eigene_centrality_bn = nx.eigenvector_centrality(D,weight=\"impedance_of_link\",max_iter=10000)\n",
    "nx.set_node_attributes(bn_d1, values=Eigene_centrality_bn, name=\"Eigene_centrality\")"
   ]
  },
  {
   "cell_type": "code",
   "execution_count": 155,
   "id": "e6296cdc",
   "metadata": {},
   "outputs": [],
   "source": [
    "nodes_ecb, edges_ecb = momepy.nx_to_gdf(bn_d1)\n",
    "nodes_ecb.to_file(\"H:/mmmiah/Desktop/Bicycle Connectivity Project/Project-Bicycle Connectivity/Advanced_Graph Theory for SF/EC_nodes_bn_sf.shp\")\n",
    "edges_ecb.to_file(\"H:/mmmiah/Desktop/Bicycle Connectivity Project/Project-Bicycle Connectivity/Advanced_Graph Theory for SF/EC_edges_bn_sf.shp\")"
   ]
  },
  {
   "cell_type": "markdown",
   "id": "8700811c",
   "metadata": {},
   "source": [
    "# For Low Stress Network"
   ]
  },
  {
   "cell_type": "code",
   "execution_count": 156,
   "id": "34bc45a5",
   "metadata": {},
   "outputs": [
    {
     "name": "stdout",
     "output_type": "stream",
     "text": [
      "CPU times: total: 7min 56s\n",
      "Wall time: 7min 56s\n"
     ]
    }
   ],
   "source": [
    "%%time\n",
    "Dl = ox.utils_graph.get_digraph(bn_ls1, weight=\"impedance_of_link\")\n",
    "Eigene_centrality_ls = nx.eigenvector_centrality(Dl,weight=\"impedance_of_link\",max_iter=10000)\n",
    "nx.set_node_attributes(bn_ls1, values=Eigene_centrality_ls, name=\"Eigene_centrality\")"
   ]
  },
  {
   "cell_type": "code",
   "execution_count": 157,
   "id": "656afc12",
   "metadata": {},
   "outputs": [],
   "source": [
    "nodes_ecl, edges_ecl = momepy.nx_to_gdf(bn_ls1)\n",
    "nodes_ecl.to_file(\"H:/mmmiah/Desktop/Bicycle Connectivity Project/Project-Bicycle Connectivity/Advanced_Graph Theory for SF/EC_nodes_ls_sf.shp\")\n",
    "edges_ecl.to_file(\"H:/mmmiah/Desktop/Bicycle Connectivity Project/Project-Bicycle Connectivity/Advanced_Graph Theory for SF/EC_edges_ls_sf.shp\")"
   ]
  },
  {
   "cell_type": "markdown",
   "id": "2d646d12",
   "metadata": {},
   "source": [
    "# Modularity"
   ]
  },
  {
   "cell_type": "markdown",
   "id": "72dc05fb",
   "metadata": {},
   "source": [
    "# For bike Network"
   ]
  },
  {
   "cell_type": "code",
   "execution_count": 158,
   "id": "1bfc8dfe",
   "metadata": {},
   "outputs": [
    {
     "name": "stdout",
     "output_type": "stream",
     "text": [
      "CPU times: total: 1.66 s\n",
      "Wall time: 1.66 s\n"
     ]
    }
   ],
   "source": [
    "%%time\n",
    "from networkx.algorithms import community\n",
    "from operator import itemgetter\n",
    "communities = community.greedy_modularity_communities(bn_d1)\n",
    "\n",
    "modularity_dict = {} # Create a blank dictionary\n",
    "for i,c in enumerate(communities): # Loop through the list of communities, keeping track of the number for the community\n",
    "    for name in c: # Loop through each person in a community\n",
    "        modularity_dict[name] = i # Create an entry in the dictionary for the person, where the value is which group they belong to.\n",
    "\n",
    "# Now you can add modularity information like we did the other metrics\n",
    "nx.set_node_attributes(bn_d1, modularity_dict, 'modularity')"
   ]
  },
  {
   "cell_type": "code",
   "execution_count": 159,
   "id": "f49ef839",
   "metadata": {},
   "outputs": [],
   "source": [
    "nodes_bn_sf, edges_bn_sf = momepy.nx_to_gdf(bn_d1)\n",
    "nodes_bn_sf.to_file(\"H:/mmmiah/Desktop/Bicycle Connectivity Project/Project-Bicycle Connectivity/Advanced_Graph Theory for SF/mo_bn_nodes_sf.shp\")\n",
    "edges_bn_sf.to_file(\"H:/mmmiah/Desktop/Bicycle Connectivity Project/Project-Bicycle Connectivity/Advanced_Graph Theory for SF/mo_bn_edges_sf.shp\")"
   ]
  },
  {
   "cell_type": "markdown",
   "id": "5986afd1",
   "metadata": {},
   "source": [
    "# For Low Stress Network"
   ]
  },
  {
   "cell_type": "code",
   "execution_count": 160,
   "id": "6d199e74",
   "metadata": {},
   "outputs": [
    {
     "name": "stdout",
     "output_type": "stream",
     "text": [
      "CPU times: total: 2.34 s\n",
      "Wall time: 2.33 s\n"
     ]
    }
   ],
   "source": [
    "%%time\n",
    "from networkx.algorithms import community\n",
    "from operator import itemgetter\n",
    "communities = community.greedy_modularity_communities(bn_ls1)\n",
    "\n",
    "modularity_dict = {} # Create a blank dictionary\n",
    "for i,c in enumerate(communities): # Loop through the list of communities, keeping track of the number for the community\n",
    "    for name in c: # Loop through each person in a community\n",
    "        modularity_dict[name] = i # Create an entry in the dictionary for the person, where the value is which group they belong to.\n",
    "\n",
    "# Now you can add modularity information like we did the other metrics\n",
    "nx.set_node_attributes(bn_ls1, modularity_dict, 'modularity')"
   ]
  },
  {
   "cell_type": "code",
   "execution_count": 162,
   "id": "10f4971e",
   "metadata": {},
   "outputs": [],
   "source": [
    "nodes_ls_sf, edges_ls_sf = momepy.nx_to_gdf(bn_ls1)\n",
    "nodes_ls_sf.to_file(\"H:/mmmiah/Desktop/Bicycle Connectivity Project/Project-Bicycle Connectivity/Advanced_Graph Theory for SF/mo_ls_nodes_sf.shp\")\n",
    "edges_ls_sf.to_file(\"H:/mmmiah/Desktop/Bicycle Connectivity Project/Project-Bicycle Connectivity/Advanced_Graph Theory for SF/mo_ls_edges_sf.shp\")"
   ]
  },
  {
   "cell_type": "markdown",
   "id": "0440b9d9",
   "metadata": {},
   "source": [
    "# Closeness Centrality"
   ]
  },
  {
   "cell_type": "markdown",
   "id": "3a44a2ac",
   "metadata": {},
   "source": [
    "# For bike Network"
   ]
  },
  {
   "cell_type": "code",
   "execution_count": 179,
   "id": "f19f3397",
   "metadata": {},
   "outputs": [
    {
     "name": "stdout",
     "output_type": "stream",
     "text": [
      "CPU times: total: 4min 4s\n",
      "Wall time: 4min 4s\n"
     ]
    }
   ],
   "source": [
    "%%time\n",
    "# calculate node closeness centrality of the line graph\n",
    "edge_centrality_cc = nx.closeness_centrality(nx.line_graph(bn_d1),distance=\"impedance_of_link\")\n",
    "nx.set_node_attributes(bn_d1, values=edge_centrality_cc, name=\"cc\")\n",
    "#nx.set_edge_attributes(bn_d1, edge_centrality_cc, \"cc\")"
   ]
  },
  {
   "cell_type": "code",
   "execution_count": 180,
   "id": "1527a8b9",
   "metadata": {},
   "outputs": [],
   "source": [
    "nodes2, edges2 = momepy.nx_to_gdf(bn_d1)\n",
    "nodes2.to_file(\"H:/mmmiah/Desktop/Bicycle Connectivity Project/Project-Bicycle Connectivity/Advanced_Graph Theory for SF/CC_nodes_sf_bn.shp\")\n",
    "edges2.to_file(\"H:/mmmiah/Desktop/Bicycle Connectivity Project/Project-Bicycle Connectivity/Advanced_Graph Theory for SF/CC_edges_sf_bn.shp\")"
   ]
  },
  {
   "cell_type": "code",
   "execution_count": 184,
   "id": "882d8d69",
   "metadata": {},
   "outputs": [
    {
     "data": {
      "text/html": [
       "<div>\n",
       "<style scoped>\n",
       "    .dataframe tbody tr th:only-of-type {\n",
       "        vertical-align: middle;\n",
       "    }\n",
       "\n",
       "    .dataframe tbody tr th {\n",
       "        vertical-align: top;\n",
       "    }\n",
       "\n",
       "    .dataframe thead th {\n",
       "        text-align: right;\n",
       "    }\n",
       "</style>\n",
       "<table border=\"1\" class=\"dataframe\">\n",
       "  <thead>\n",
       "    <tr style=\"text-align: right;\">\n",
       "      <th></th>\n",
       "      <th>ROAD_ID</th>\n",
       "      <th>start_lon</th>\n",
       "      <th>start_lat</th>\n",
       "      <th>starting_e</th>\n",
       "      <th>end_lon</th>\n",
       "      <th>end_lat</th>\n",
       "      <th>ending_ele</th>\n",
       "      <th>osmid</th>\n",
       "      <th>FUNCTIONAL</th>\n",
       "      <th>PATH_ID</th>\n",
       "      <th>...</th>\n",
       "      <th>XWALK</th>\n",
       "      <th>length</th>\n",
       "      <th>slope</th>\n",
       "      <th>impedance_of_link</th>\n",
       "      <th>geometry</th>\n",
       "      <th>mm_len</th>\n",
       "      <th>edge_centrality</th>\n",
       "      <th>cc</th>\n",
       "      <th>node_start</th>\n",
       "      <th>node_end</th>\n",
       "    </tr>\n",
       "  </thead>\n",
       "  <tbody>\n",
       "    <tr>\n",
       "      <th>0</th>\n",
       "      <td>918176</td>\n",
       "      <td>-122.503142</td>\n",
       "      <td>37.714168</td>\n",
       "      <td>56</td>\n",
       "      <td>-122.503219</td>\n",
       "      <td>37.714233</td>\n",
       "      <td>55</td>\n",
       "      <td>{287653454}</td>\n",
       "      <td>path</td>\n",
       "      <td>0</td>\n",
       "      <td>...</td>\n",
       "      <td>0</td>\n",
       "      <td>22.655456</td>\n",
       "      <td>4.413948</td>\n",
       "      <td>72.497459</td>\n",
       "      <td>LINESTRING (43314.360 20024.235, 43312.129 200...</td>\n",
       "      <td>22.655456</td>\n",
       "      <td>0.000248</td>\n",
       "      <td>0.000248</td>\n",
       "      <td>0</td>\n",
       "      <td>1</td>\n",
       "    </tr>\n",
       "    <tr>\n",
       "      <th>1</th>\n",
       "      <td>918177</td>\n",
       "      <td>-122.503142</td>\n",
       "      <td>37.714168</td>\n",
       "      <td>56</td>\n",
       "      <td>-122.503219</td>\n",
       "      <td>37.714233</td>\n",
       "      <td>55</td>\n",
       "      <td>{287653454}</td>\n",
       "      <td>path</td>\n",
       "      <td>0</td>\n",
       "      <td>...</td>\n",
       "      <td>0</td>\n",
       "      <td>10.679609</td>\n",
       "      <td>9.363638</td>\n",
       "      <td>55.533969</td>\n",
       "      <td>LINESTRING (43314.360 20024.235, 43313.375 200...</td>\n",
       "      <td>10.679609</td>\n",
       "      <td>0.000248</td>\n",
       "      <td>0.000248</td>\n",
       "      <td>0</td>\n",
       "      <td>1</td>\n",
       "    </tr>\n",
       "    <tr>\n",
       "      <th>2</th>\n",
       "      <td>918179</td>\n",
       "      <td>-122.503231</td>\n",
       "      <td>37.714364</td>\n",
       "      <td>58</td>\n",
       "      <td>-122.503219</td>\n",
       "      <td>37.714233</td>\n",
       "      <td>55</td>\n",
       "      <td>{287653461}</td>\n",
       "      <td>path</td>\n",
       "      <td>0</td>\n",
       "      <td>...</td>\n",
       "      <td>0</td>\n",
       "      <td>17.253511</td>\n",
       "      <td>17.387765</td>\n",
       "      <td>89.718260</td>\n",
       "      <td>LINESTRING (43306.516 20046.060, 43307.361 200...</td>\n",
       "      <td>17.253511</td>\n",
       "      <td>0.000248</td>\n",
       "      <td>0.000248</td>\n",
       "      <td>1</td>\n",
       "      <td>2</td>\n",
       "    </tr>\n",
       "    <tr>\n",
       "      <th>3</th>\n",
       "      <td>958473</td>\n",
       "      <td>-122.502366</td>\n",
       "      <td>37.714298</td>\n",
       "      <td>56</td>\n",
       "      <td>-122.501129</td>\n",
       "      <td>37.714856</td>\n",
       "      <td>56</td>\n",
       "      <td>{506575391}</td>\n",
       "      <td>path</td>\n",
       "      <td>0</td>\n",
       "      <td>...</td>\n",
       "      <td>0</td>\n",
       "      <td>131.803597</td>\n",
       "      <td>0.000000</td>\n",
       "      <td>263.607195</td>\n",
       "      <td>LINESTRING (43382.729 20038.659, 43389.392 200...</td>\n",
       "      <td>131.803597</td>\n",
       "      <td>0.000248</td>\n",
       "      <td>0.000248</td>\n",
       "      <td>3</td>\n",
       "      <td>4</td>\n",
       "    </tr>\n",
       "    <tr>\n",
       "      <th>4</th>\n",
       "      <td>921863</td>\n",
       "      <td>-122.501129</td>\n",
       "      <td>37.714856</td>\n",
       "      <td>56</td>\n",
       "      <td>-122.500440</td>\n",
       "      <td>37.713479</td>\n",
       "      <td>56</td>\n",
       "      <td>{506575391}</td>\n",
       "      <td>path</td>\n",
       "      <td>0</td>\n",
       "      <td>...</td>\n",
       "      <td>0</td>\n",
       "      <td>169.376454</td>\n",
       "      <td>0.000000</td>\n",
       "      <td>338.752907</td>\n",
       "      <td>LINESTRING (43491.832 20100.465, 43499.870 200...</td>\n",
       "      <td>169.376454</td>\n",
       "      <td>0.000248</td>\n",
       "      <td>0.000248</td>\n",
       "      <td>4</td>\n",
       "      <td>497</td>\n",
       "    </tr>\n",
       "  </tbody>\n",
       "</table>\n",
       "<p>5 rows × 40 columns</p>\n",
       "</div>"
      ],
      "text/plain": [
       "   ROAD_ID   start_lon  start_lat  starting_e     end_lon    end_lat  \\\n",
       "0   918176 -122.503142  37.714168          56 -122.503219  37.714233   \n",
       "1   918177 -122.503142  37.714168          56 -122.503219  37.714233   \n",
       "2   918179 -122.503231  37.714364          58 -122.503219  37.714233   \n",
       "3   958473 -122.502366  37.714298          56 -122.501129  37.714856   \n",
       "4   921863 -122.501129  37.714856          56 -122.500440  37.713479   \n",
       "\n",
       "   ending_ele        osmid FUNCTIONAL PATH_ID  ... XWALK      length  \\\n",
       "0          55  {287653454}       path       0  ...     0   22.655456   \n",
       "1          55  {287653454}       path       0  ...     0   10.679609   \n",
       "2          55  {287653461}       path       0  ...     0   17.253511   \n",
       "3          56  {506575391}       path       0  ...     0  131.803597   \n",
       "4          56  {506575391}       path       0  ...     0  169.376454   \n",
       "\n",
       "       slope impedance_of_link  \\\n",
       "0   4.413948         72.497459   \n",
       "1   9.363638         55.533969   \n",
       "2  17.387765         89.718260   \n",
       "3   0.000000        263.607195   \n",
       "4   0.000000        338.752907   \n",
       "\n",
       "                                            geometry      mm_len  \\\n",
       "0  LINESTRING (43314.360 20024.235, 43312.129 200...   22.655456   \n",
       "1  LINESTRING (43314.360 20024.235, 43313.375 200...   10.679609   \n",
       "2  LINESTRING (43306.516 20046.060, 43307.361 200...   17.253511   \n",
       "3  LINESTRING (43382.729 20038.659, 43389.392 200...  131.803597   \n",
       "4  LINESTRING (43491.832 20100.465, 43499.870 200...  169.376454   \n",
       "\n",
       "  edge_centrality        cc node_start node_end  \n",
       "0        0.000248  0.000248          0        1  \n",
       "1        0.000248  0.000248          0        1  \n",
       "2        0.000248  0.000248          1        2  \n",
       "3        0.000248  0.000248          3        4  \n",
       "4        0.000248  0.000248          4      497  \n",
       "\n",
       "[5 rows x 40 columns]"
      ]
     },
     "execution_count": 184,
     "metadata": {},
     "output_type": "execute_result"
    }
   ],
   "source": [
    "edges2.head()"
   ]
  },
  {
   "cell_type": "markdown",
   "id": "b0c3baf6",
   "metadata": {},
   "source": [
    "# For Low Stress Network"
   ]
  },
  {
   "cell_type": "code",
   "execution_count": 182,
   "id": "4c3f42b6",
   "metadata": {},
   "outputs": [
    {
     "name": "stdout",
     "output_type": "stream",
     "text": [
      "CPU times: total: 17min 40s\n",
      "Wall time: 17min 40s\n"
     ]
    }
   ],
   "source": [
    "%%time\n",
    "# calculate node closeness centrality of the line graph\n",
    "edge_centrality = nx.closeness_centrality(nx.line_graph(bn_ls1),distance=\"impedance_of_link\")\n",
    "nx.set_edge_attributes(bn_ls1, values=edge_centrality, name=\"edge_centrality\")"
   ]
  },
  {
   "cell_type": "code",
   "execution_count": 183,
   "id": "b788a948",
   "metadata": {},
   "outputs": [],
   "source": [
    "nodes2l, edges2l = momepy.nx_to_gdf(bn_ls1)\n",
    "nodes2l.to_file(\"H:/mmmiah/Desktop/Bicycle Connectivity Project/Project-Bicycle Connectivity/Advanced_Graph Theory for SF/CC_nodes_sf_ls.shp\")\n",
    "edges2l.to_file(\"H:/mmmiah/Desktop/Bicycle Connectivity Project/Project-Bicycle Connectivity/Advanced_Graph Theory for SF/CC_edges_sf_ls.shp\")"
   ]
  },
  {
   "cell_type": "markdown",
   "id": "b553d013",
   "metadata": {},
   "source": [
    "# Betweenness Centrality"
   ]
  },
  {
   "cell_type": "markdown",
   "id": "bf872cef",
   "metadata": {},
   "source": [
    "# For bike Network"
   ]
  },
  {
   "cell_type": "code",
   "execution_count": 169,
   "id": "d7d739b2",
   "metadata": {},
   "outputs": [
    {
     "name": "stdout",
     "output_type": "stream",
     "text": [
      "CPU times: total: 7min 22s\n",
      "Wall time: 7min 22s\n"
     ]
    }
   ],
   "source": [
    "%%time\n",
    "# calculate node betweenness centrality, weighted by travel time\n",
    "D2_sf = ox.utils_graph.get_digraph(bn_d1, weight=\"impedance_of_link\")\n",
    "bc = nx.betweenness_centrality(D2_sf, weight=\"impedance_of_link\", normalized=True)\n",
    "nx.set_node_attributes(bn_d1, values=bc, name=\"bc\")"
   ]
  },
  {
   "cell_type": "code",
   "execution_count": 171,
   "id": "96dec7f7",
   "metadata": {},
   "outputs": [],
   "source": [
    "nodes_bc_sf, edges_bc_sf = momepy.nx_to_gdf(bn_d1)\n",
    "nodes_bc_sf.to_file(\"H:/mmmiah/Desktop/Bicycle Connectivity Project/Project-Bicycle Connectivity/Advanced_Graph Theory for SF/BC_nodes_sf_bn.shp\")\n",
    "edges_bc_sf.to_file(\"H:/mmmiah/Desktop/Bicycle Connectivity Project/Project-Bicycle Connectivity/Advanced_Graph Theory for SF/BC_edges_sf_bn.shp\")"
   ]
  },
  {
   "cell_type": "markdown",
   "id": "efd969e8",
   "metadata": {},
   "source": [
    "# For Low Stress Network"
   ]
  },
  {
   "cell_type": "code",
   "execution_count": 172,
   "id": "1b5b378b",
   "metadata": {},
   "outputs": [
    {
     "name": "stdout",
     "output_type": "stream",
     "text": [
      "CPU times: total: 28min 21s\n",
      "Wall time: 28min 21s\n"
     ]
    }
   ],
   "source": [
    "%%time\n",
    "# calculate node betweenness centrality, weighted by travel time\n",
    "D2_sf_ls = ox.utils_graph.get_digraph(bn_ls1, weight=\"impedance_of_link\")\n",
    "bc = nx.betweenness_centrality(D2_sf_ls, weight=\"impedance_of_link\", normalized=True)\n",
    "nx.set_node_attributes(bn_ls1, values=bc, name=\"bc\")"
   ]
  },
  {
   "cell_type": "code",
   "execution_count": 173,
   "id": "5f7e4988",
   "metadata": {},
   "outputs": [],
   "source": [
    "nodes_bc_sf_ls, edges_bc_sf_ls = momepy.nx_to_gdf(bn_ls1)\n",
    "nodes_bc_sf_ls.to_file(\"H:/mmmiah/Desktop/Bicycle Connectivity Project/Project-Bicycle Connectivity/Advanced_Graph Theory for SF/BC_nodes_sf_ls.shp\")\n",
    "edges_bc_sf_ls.to_file(\"H:/mmmiah/Desktop/Bicycle Connectivity Project/Project-Bicycle Connectivity/Advanced_Graph Theory for SF/BC_edges_sf_ls.shp\")"
   ]
  },
  {
   "cell_type": "markdown",
   "id": "3a9a2781",
   "metadata": {},
   "source": [
    "# End of the Code"
   ]
  }
 ],
 "metadata": {
  "kernelspec": {
   "display_name": "Python 3 (ipykernel)",
   "language": "python",
   "name": "python3"
  },
  "language_info": {
   "codemirror_mode": {
    "name": "ipython",
    "version": 3
   },
   "file_extension": ".py",
   "mimetype": "text/x-python",
   "name": "python",
   "nbconvert_exporter": "python",
   "pygments_lexer": "ipython3",
   "version": "3.11.0"
  }
 },
 "nbformat": 4,
 "nbformat_minor": 5
}
